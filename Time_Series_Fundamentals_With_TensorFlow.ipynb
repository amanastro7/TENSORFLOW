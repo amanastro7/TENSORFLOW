{
  "cells": [
    {
      "cell_type": "markdown",
      "metadata": {
        "id": "h2ItODmZkjOI"
      },
      "source": [
        "**TIME SERIES FORECASTING FUNDAMENTALS WITH TENSORFLOW**"
      ]
    },
    {
      "cell_type": "markdown",
      "metadata": {
        "id": "O5e-R6sDlDNJ"
      },
      "source": [
        "##GETTING DATA"
      ]
    },
    {
      "cell_type": "code",
      "execution_count": null,
      "metadata": {
        "colab": {
          "base_uri": "https://localhost:8080/"
        },
        "id": "b_8KEVhUslv2",
        "outputId": "0d2199fc-f433-4bd0-ebef-617f23f25040"
      },
      "outputs": [
        {
          "output_type": "stream",
          "name": "stdout",
          "text": [
            "--2022-08-17 03:43:38--  https://raw.githubusercontent.com/mrdbourke/tensorflow-deep-learning/main/extras/BTC_USD_2013-10-01_2021-05-18-CoinDesk.csv\n",
            "Resolving raw.githubusercontent.com (raw.githubusercontent.com)... 185.199.108.133, 185.199.109.133, 185.199.110.133, ...\n",
            "Connecting to raw.githubusercontent.com (raw.githubusercontent.com)|185.199.108.133|:443... connected.\n",
            "HTTP request sent, awaiting response... 200 OK\n",
            "Length: 178509 (174K) [text/plain]\n",
            "Saving to: ‘BTC_USD_2013-10-01_2021-05-18-CoinDesk.csv’\n",
            "\n",
            "BTC_USD_2013-10-01_ 100%[===================>] 174.33K  --.-KB/s    in 0.03s   \n",
            "\n",
            "2022-08-17 03:43:39 (5.58 MB/s) - ‘BTC_USD_2013-10-01_2021-05-18-CoinDesk.csv’ saved [178509/178509]\n",
            "\n"
          ]
        }
      ],
      "source": [
        "!wget https://raw.githubusercontent.com/mrdbourke/tensorflow-deep-learning/main/extras/BTC_USD_2013-10-01_2021-05-18-CoinDesk.csv"
      ]
    },
    {
      "cell_type": "markdown",
      "metadata": {
        "id": "RTeQuUcss57E"
      },
      "source": [
        "##IMPORTING TIME SERIES WITH PANDA"
      ]
    },
    {
      "cell_type": "code",
      "execution_count": null,
      "metadata": {
        "colab": {
          "base_uri": "https://localhost:8080/",
          "height": 386
        },
        "id": "VT75cE-atM28",
        "outputId": "27c2f510-2f87-4636-d893-55c2191eaaf8"
      },
      "outputs": [
        {
          "output_type": "execute_result",
          "data": {
            "text/plain": [
              "           Currency  Closing Price (USD)  24h Open (USD)  24h High (USD)  \\\n",
              "Date                                                                       \n",
              "2013-10-01      BTC            123.65499       124.30466       124.75166   \n",
              "2013-10-02      BTC            125.45500       123.65499       125.75850   \n",
              "2013-10-03      BTC            108.58483       125.45500       125.66566   \n",
              "2013-10-04      BTC            118.67466       108.58483       118.67500   \n",
              "2013-10-05      BTC            121.33866       118.67466       121.93633   \n",
              "\n",
              "            24h Low (USD)  \n",
              "Date                       \n",
              "2013-10-01      122.56349  \n",
              "2013-10-02      123.63383  \n",
              "2013-10-03       83.32833  \n",
              "2013-10-04      107.05816  \n",
              "2013-10-05      118.00566  "
            ],
            "text/html": [
              "\n",
              "  <div id=\"df-6543b688-1409-4cd1-844e-212c8d5df664\">\n",
              "    <div class=\"colab-df-container\">\n",
              "      <div>\n",
              "<style scoped>\n",
              "    .dataframe tbody tr th:only-of-type {\n",
              "        vertical-align: middle;\n",
              "    }\n",
              "\n",
              "    .dataframe tbody tr th {\n",
              "        vertical-align: top;\n",
              "    }\n",
              "\n",
              "    .dataframe thead th {\n",
              "        text-align: right;\n",
              "    }\n",
              "</style>\n",
              "<table border=\"1\" class=\"dataframe\">\n",
              "  <thead>\n",
              "    <tr style=\"text-align: right;\">\n",
              "      <th></th>\n",
              "      <th>Currency</th>\n",
              "      <th>Closing Price (USD)</th>\n",
              "      <th>24h Open (USD)</th>\n",
              "      <th>24h High (USD)</th>\n",
              "      <th>24h Low (USD)</th>\n",
              "    </tr>\n",
              "    <tr>\n",
              "      <th>Date</th>\n",
              "      <th></th>\n",
              "      <th></th>\n",
              "      <th></th>\n",
              "      <th></th>\n",
              "      <th></th>\n",
              "    </tr>\n",
              "  </thead>\n",
              "  <tbody>\n",
              "    <tr>\n",
              "      <th>2013-10-01</th>\n",
              "      <td>BTC</td>\n",
              "      <td>123.65499</td>\n",
              "      <td>124.30466</td>\n",
              "      <td>124.75166</td>\n",
              "      <td>122.56349</td>\n",
              "    </tr>\n",
              "    <tr>\n",
              "      <th>2013-10-02</th>\n",
              "      <td>BTC</td>\n",
              "      <td>125.45500</td>\n",
              "      <td>123.65499</td>\n",
              "      <td>125.75850</td>\n",
              "      <td>123.63383</td>\n",
              "    </tr>\n",
              "    <tr>\n",
              "      <th>2013-10-03</th>\n",
              "      <td>BTC</td>\n",
              "      <td>108.58483</td>\n",
              "      <td>125.45500</td>\n",
              "      <td>125.66566</td>\n",
              "      <td>83.32833</td>\n",
              "    </tr>\n",
              "    <tr>\n",
              "      <th>2013-10-04</th>\n",
              "      <td>BTC</td>\n",
              "      <td>118.67466</td>\n",
              "      <td>108.58483</td>\n",
              "      <td>118.67500</td>\n",
              "      <td>107.05816</td>\n",
              "    </tr>\n",
              "    <tr>\n",
              "      <th>2013-10-05</th>\n",
              "      <td>BTC</td>\n",
              "      <td>121.33866</td>\n",
              "      <td>118.67466</td>\n",
              "      <td>121.93633</td>\n",
              "      <td>118.00566</td>\n",
              "    </tr>\n",
              "  </tbody>\n",
              "</table>\n",
              "</div>\n",
              "      <button class=\"colab-df-convert\" onclick=\"convertToInteractive('df-6543b688-1409-4cd1-844e-212c8d5df664')\"\n",
              "              title=\"Convert this dataframe to an interactive table.\"\n",
              "              style=\"display:none;\">\n",
              "        \n",
              "  <svg xmlns=\"http://www.w3.org/2000/svg\" height=\"24px\"viewBox=\"0 0 24 24\"\n",
              "       width=\"24px\">\n",
              "    <path d=\"M0 0h24v24H0V0z\" fill=\"none\"/>\n",
              "    <path d=\"M18.56 5.44l.94 2.06.94-2.06 2.06-.94-2.06-.94-.94-2.06-.94 2.06-2.06.94zm-11 1L8.5 8.5l.94-2.06 2.06-.94-2.06-.94L8.5 2.5l-.94 2.06-2.06.94zm10 10l.94 2.06.94-2.06 2.06-.94-2.06-.94-.94-2.06-.94 2.06-2.06.94z\"/><path d=\"M17.41 7.96l-1.37-1.37c-.4-.4-.92-.59-1.43-.59-.52 0-1.04.2-1.43.59L10.3 9.45l-7.72 7.72c-.78.78-.78 2.05 0 2.83L4 21.41c.39.39.9.59 1.41.59.51 0 1.02-.2 1.41-.59l7.78-7.78 2.81-2.81c.8-.78.8-2.07 0-2.86zM5.41 20L4 18.59l7.72-7.72 1.47 1.35L5.41 20z\"/>\n",
              "  </svg>\n",
              "      </button>\n",
              "      \n",
              "  <style>\n",
              "    .colab-df-container {\n",
              "      display:flex;\n",
              "      flex-wrap:wrap;\n",
              "      gap: 12px;\n",
              "    }\n",
              "\n",
              "    .colab-df-convert {\n",
              "      background-color: #E8F0FE;\n",
              "      border: none;\n",
              "      border-radius: 50%;\n",
              "      cursor: pointer;\n",
              "      display: none;\n",
              "      fill: #1967D2;\n",
              "      height: 32px;\n",
              "      padding: 0 0 0 0;\n",
              "      width: 32px;\n",
              "    }\n",
              "\n",
              "    .colab-df-convert:hover {\n",
              "      background-color: #E2EBFA;\n",
              "      box-shadow: 0px 1px 2px rgba(60, 64, 67, 0.3), 0px 1px 3px 1px rgba(60, 64, 67, 0.15);\n",
              "      fill: #174EA6;\n",
              "    }\n",
              "\n",
              "    [theme=dark] .colab-df-convert {\n",
              "      background-color: #3B4455;\n",
              "      fill: #D2E3FC;\n",
              "    }\n",
              "\n",
              "    [theme=dark] .colab-df-convert:hover {\n",
              "      background-color: #434B5C;\n",
              "      box-shadow: 0px 1px 3px 1px rgba(0, 0, 0, 0.15);\n",
              "      filter: drop-shadow(0px 1px 2px rgba(0, 0, 0, 0.3));\n",
              "      fill: #FFFFFF;\n",
              "    }\n",
              "  </style>\n",
              "\n",
              "      <script>\n",
              "        const buttonEl =\n",
              "          document.querySelector('#df-6543b688-1409-4cd1-844e-212c8d5df664 button.colab-df-convert');\n",
              "        buttonEl.style.display =\n",
              "          google.colab.kernel.accessAllowed ? 'block' : 'none';\n",
              "\n",
              "        async function convertToInteractive(key) {\n",
              "          const element = document.querySelector('#df-6543b688-1409-4cd1-844e-212c8d5df664');\n",
              "          const dataTable =\n",
              "            await google.colab.kernel.invokeFunction('convertToInteractive',\n",
              "                                                     [key], {});\n",
              "          if (!dataTable) return;\n",
              "\n",
              "          const docLinkHtml = 'Like what you see? Visit the ' +\n",
              "            '<a target=\"_blank\" href=https://colab.research.google.com/notebooks/data_table.ipynb>data table notebook</a>'\n",
              "            + ' to learn more about interactive tables.';\n",
              "          element.innerHTML = '';\n",
              "          dataTable['output_type'] = 'display_data';\n",
              "          await google.colab.output.renderOutput(dataTable, element);\n",
              "          const docLink = document.createElement('div');\n",
              "          docLink.innerHTML = docLinkHtml;\n",
              "          element.appendChild(docLink);\n",
              "        }\n",
              "      </script>\n",
              "    </div>\n",
              "  </div>\n",
              "  "
            ]
          },
          "metadata": {},
          "execution_count": 2
        }
      ],
      "source": [
        "import pandas as pd\n",
        "\n",
        "# Reading Our Bitcoin Data And Parsing The Dates\n",
        "df = pd.read_csv('/content/BTC_USD_2013-10-01_2021-05-18-CoinDesk.csv',\n",
        "                 parse_dates=['Date'],\n",
        "                 index_col=['Date'])\n",
        "\n",
        "df.head()"
      ]
    },
    {
      "cell_type": "code",
      "execution_count": null,
      "metadata": {
        "colab": {
          "base_uri": "https://localhost:8080/",
          "height": 386
        },
        "id": "mh0xWc7QuTBG",
        "outputId": "62ad0037-5d4a-4965-ccfb-5c1103d04419"
      },
      "outputs": [
        {
          "output_type": "execute_result",
          "data": {
            "text/plain": [
              "           Currency  Closing Price (USD)  24h Open (USD)  24h High (USD)  \\\n",
              "Date                                                                       \n",
              "2021-05-14      BTC         49764.132082    49596.778891    51448.798576   \n",
              "2021-05-15      BTC         50032.693137    49717.354353    51578.312545   \n",
              "2021-05-16      BTC         47885.625255    49926.035067    50690.802950   \n",
              "2021-05-17      BTC         45604.615754    46805.537852    49670.414174   \n",
              "2021-05-18      BTC         43144.471291    46439.336570    46622.853437   \n",
              "\n",
              "            24h Low (USD)  \n",
              "Date                       \n",
              "2021-05-14   46294.720180  \n",
              "2021-05-15   48944.346536  \n",
              "2021-05-16   47005.102292  \n",
              "2021-05-17   43868.638969  \n",
              "2021-05-18   42102.346430  "
            ],
            "text/html": [
              "\n",
              "  <div id=\"df-779bda4a-531f-43e1-b876-2e9107c1ef02\">\n",
              "    <div class=\"colab-df-container\">\n",
              "      <div>\n",
              "<style scoped>\n",
              "    .dataframe tbody tr th:only-of-type {\n",
              "        vertical-align: middle;\n",
              "    }\n",
              "\n",
              "    .dataframe tbody tr th {\n",
              "        vertical-align: top;\n",
              "    }\n",
              "\n",
              "    .dataframe thead th {\n",
              "        text-align: right;\n",
              "    }\n",
              "</style>\n",
              "<table border=\"1\" class=\"dataframe\">\n",
              "  <thead>\n",
              "    <tr style=\"text-align: right;\">\n",
              "      <th></th>\n",
              "      <th>Currency</th>\n",
              "      <th>Closing Price (USD)</th>\n",
              "      <th>24h Open (USD)</th>\n",
              "      <th>24h High (USD)</th>\n",
              "      <th>24h Low (USD)</th>\n",
              "    </tr>\n",
              "    <tr>\n",
              "      <th>Date</th>\n",
              "      <th></th>\n",
              "      <th></th>\n",
              "      <th></th>\n",
              "      <th></th>\n",
              "      <th></th>\n",
              "    </tr>\n",
              "  </thead>\n",
              "  <tbody>\n",
              "    <tr>\n",
              "      <th>2021-05-14</th>\n",
              "      <td>BTC</td>\n",
              "      <td>49764.132082</td>\n",
              "      <td>49596.778891</td>\n",
              "      <td>51448.798576</td>\n",
              "      <td>46294.720180</td>\n",
              "    </tr>\n",
              "    <tr>\n",
              "      <th>2021-05-15</th>\n",
              "      <td>BTC</td>\n",
              "      <td>50032.693137</td>\n",
              "      <td>49717.354353</td>\n",
              "      <td>51578.312545</td>\n",
              "      <td>48944.346536</td>\n",
              "    </tr>\n",
              "    <tr>\n",
              "      <th>2021-05-16</th>\n",
              "      <td>BTC</td>\n",
              "      <td>47885.625255</td>\n",
              "      <td>49926.035067</td>\n",
              "      <td>50690.802950</td>\n",
              "      <td>47005.102292</td>\n",
              "    </tr>\n",
              "    <tr>\n",
              "      <th>2021-05-17</th>\n",
              "      <td>BTC</td>\n",
              "      <td>45604.615754</td>\n",
              "      <td>46805.537852</td>\n",
              "      <td>49670.414174</td>\n",
              "      <td>43868.638969</td>\n",
              "    </tr>\n",
              "    <tr>\n",
              "      <th>2021-05-18</th>\n",
              "      <td>BTC</td>\n",
              "      <td>43144.471291</td>\n",
              "      <td>46439.336570</td>\n",
              "      <td>46622.853437</td>\n",
              "      <td>42102.346430</td>\n",
              "    </tr>\n",
              "  </tbody>\n",
              "</table>\n",
              "</div>\n",
              "      <button class=\"colab-df-convert\" onclick=\"convertToInteractive('df-779bda4a-531f-43e1-b876-2e9107c1ef02')\"\n",
              "              title=\"Convert this dataframe to an interactive table.\"\n",
              "              style=\"display:none;\">\n",
              "        \n",
              "  <svg xmlns=\"http://www.w3.org/2000/svg\" height=\"24px\"viewBox=\"0 0 24 24\"\n",
              "       width=\"24px\">\n",
              "    <path d=\"M0 0h24v24H0V0z\" fill=\"none\"/>\n",
              "    <path d=\"M18.56 5.44l.94 2.06.94-2.06 2.06-.94-2.06-.94-.94-2.06-.94 2.06-2.06.94zm-11 1L8.5 8.5l.94-2.06 2.06-.94-2.06-.94L8.5 2.5l-.94 2.06-2.06.94zm10 10l.94 2.06.94-2.06 2.06-.94-2.06-.94-.94-2.06-.94 2.06-2.06.94z\"/><path d=\"M17.41 7.96l-1.37-1.37c-.4-.4-.92-.59-1.43-.59-.52 0-1.04.2-1.43.59L10.3 9.45l-7.72 7.72c-.78.78-.78 2.05 0 2.83L4 21.41c.39.39.9.59 1.41.59.51 0 1.02-.2 1.41-.59l7.78-7.78 2.81-2.81c.8-.78.8-2.07 0-2.86zM5.41 20L4 18.59l7.72-7.72 1.47 1.35L5.41 20z\"/>\n",
              "  </svg>\n",
              "      </button>\n",
              "      \n",
              "  <style>\n",
              "    .colab-df-container {\n",
              "      display:flex;\n",
              "      flex-wrap:wrap;\n",
              "      gap: 12px;\n",
              "    }\n",
              "\n",
              "    .colab-df-convert {\n",
              "      background-color: #E8F0FE;\n",
              "      border: none;\n",
              "      border-radius: 50%;\n",
              "      cursor: pointer;\n",
              "      display: none;\n",
              "      fill: #1967D2;\n",
              "      height: 32px;\n",
              "      padding: 0 0 0 0;\n",
              "      width: 32px;\n",
              "    }\n",
              "\n",
              "    .colab-df-convert:hover {\n",
              "      background-color: #E2EBFA;\n",
              "      box-shadow: 0px 1px 2px rgba(60, 64, 67, 0.3), 0px 1px 3px 1px rgba(60, 64, 67, 0.15);\n",
              "      fill: #174EA6;\n",
              "    }\n",
              "\n",
              "    [theme=dark] .colab-df-convert {\n",
              "      background-color: #3B4455;\n",
              "      fill: #D2E3FC;\n",
              "    }\n",
              "\n",
              "    [theme=dark] .colab-df-convert:hover {\n",
              "      background-color: #434B5C;\n",
              "      box-shadow: 0px 1px 3px 1px rgba(0, 0, 0, 0.15);\n",
              "      filter: drop-shadow(0px 1px 2px rgba(0, 0, 0, 0.3));\n",
              "      fill: #FFFFFF;\n",
              "    }\n",
              "  </style>\n",
              "\n",
              "      <script>\n",
              "        const buttonEl =\n",
              "          document.querySelector('#df-779bda4a-531f-43e1-b876-2e9107c1ef02 button.colab-df-convert');\n",
              "        buttonEl.style.display =\n",
              "          google.colab.kernel.accessAllowed ? 'block' : 'none';\n",
              "\n",
              "        async function convertToInteractive(key) {\n",
              "          const element = document.querySelector('#df-779bda4a-531f-43e1-b876-2e9107c1ef02');\n",
              "          const dataTable =\n",
              "            await google.colab.kernel.invokeFunction('convertToInteractive',\n",
              "                                                     [key], {});\n",
              "          if (!dataTable) return;\n",
              "\n",
              "          const docLinkHtml = 'Like what you see? Visit the ' +\n",
              "            '<a target=\"_blank\" href=https://colab.research.google.com/notebooks/data_table.ipynb>data table notebook</a>'\n",
              "            + ' to learn more about interactive tables.';\n",
              "          element.innerHTML = '';\n",
              "          dataTable['output_type'] = 'display_data';\n",
              "          await google.colab.output.renderOutput(dataTable, element);\n",
              "          const docLink = document.createElement('div');\n",
              "          docLink.innerHTML = docLinkHtml;\n",
              "          element.appendChild(docLink);\n",
              "        }\n",
              "      </script>\n",
              "    </div>\n",
              "  </div>\n",
              "  "
            ]
          },
          "metadata": {},
          "execution_count": 3
        }
      ],
      "source": [
        "df.tail()"
      ]
    },
    {
      "cell_type": "code",
      "execution_count": null,
      "metadata": {
        "colab": {
          "base_uri": "https://localhost:8080/"
        },
        "id": "E41yFlynuEr1",
        "outputId": "baf8811e-bff9-4c80-dc64-451a4c0e9354"
      },
      "outputs": [
        {
          "output_type": "stream",
          "name": "stdout",
          "text": [
            "<class 'pandas.core.frame.DataFrame'>\n",
            "DatetimeIndex: 2787 entries, 2013-10-01 to 2021-05-18\n",
            "Data columns (total 5 columns):\n",
            " #   Column               Non-Null Count  Dtype  \n",
            "---  ------               --------------  -----  \n",
            " 0   Currency             2787 non-null   object \n",
            " 1   Closing Price (USD)  2787 non-null   float64\n",
            " 2   24h Open (USD)       2787 non-null   float64\n",
            " 3   24h High (USD)       2787 non-null   float64\n",
            " 4   24h Low (USD)        2787 non-null   float64\n",
            "dtypes: float64(4), object(1)\n",
            "memory usage: 130.6+ KB\n"
          ]
        }
      ],
      "source": [
        "df.info()"
      ]
    },
    {
      "cell_type": "code",
      "execution_count": null,
      "metadata": {
        "colab": {
          "base_uri": "https://localhost:8080/"
        },
        "id": "i7LWxQcAuKWD",
        "outputId": "b609b7a1-fc78-4f47-a055-04c99c9eee84"
      },
      "outputs": [
        {
          "output_type": "execute_result",
          "data": {
            "text/plain": [
              "2787"
            ]
          },
          "metadata": {},
          "execution_count": 5
        }
      ],
      "source": [
        "len(df)"
      ]
    },
    {
      "cell_type": "code",
      "execution_count": null,
      "metadata": {
        "colab": {
          "base_uri": "https://localhost:8080/",
          "height": 455
        },
        "id": "sRy_rHLNuPNs",
        "outputId": "92f1a2f2-83c6-49ab-8682-d56d60b04421"
      },
      "outputs": [
        {
          "output_type": "execute_result",
          "data": {
            "text/plain": [
              "                   Price\n",
              "Date                    \n",
              "2013-10-01    123.654990\n",
              "2013-10-02    125.455000\n",
              "2013-10-03    108.584830\n",
              "2013-10-04    118.674660\n",
              "2013-10-05    121.338660\n",
              "...                  ...\n",
              "2021-05-14  49764.132082\n",
              "2021-05-15  50032.693137\n",
              "2021-05-16  47885.625255\n",
              "2021-05-17  45604.615754\n",
              "2021-05-18  43144.471291\n",
              "\n",
              "[2787 rows x 1 columns]"
            ],
            "text/html": [
              "\n",
              "  <div id=\"df-7713968f-1671-4410-9f06-045ce90ea1bd\">\n",
              "    <div class=\"colab-df-container\">\n",
              "      <div>\n",
              "<style scoped>\n",
              "    .dataframe tbody tr th:only-of-type {\n",
              "        vertical-align: middle;\n",
              "    }\n",
              "\n",
              "    .dataframe tbody tr th {\n",
              "        vertical-align: top;\n",
              "    }\n",
              "\n",
              "    .dataframe thead th {\n",
              "        text-align: right;\n",
              "    }\n",
              "</style>\n",
              "<table border=\"1\" class=\"dataframe\">\n",
              "  <thead>\n",
              "    <tr style=\"text-align: right;\">\n",
              "      <th></th>\n",
              "      <th>Price</th>\n",
              "    </tr>\n",
              "    <tr>\n",
              "      <th>Date</th>\n",
              "      <th></th>\n",
              "    </tr>\n",
              "  </thead>\n",
              "  <tbody>\n",
              "    <tr>\n",
              "      <th>2013-10-01</th>\n",
              "      <td>123.654990</td>\n",
              "    </tr>\n",
              "    <tr>\n",
              "      <th>2013-10-02</th>\n",
              "      <td>125.455000</td>\n",
              "    </tr>\n",
              "    <tr>\n",
              "      <th>2013-10-03</th>\n",
              "      <td>108.584830</td>\n",
              "    </tr>\n",
              "    <tr>\n",
              "      <th>2013-10-04</th>\n",
              "      <td>118.674660</td>\n",
              "    </tr>\n",
              "    <tr>\n",
              "      <th>2013-10-05</th>\n",
              "      <td>121.338660</td>\n",
              "    </tr>\n",
              "    <tr>\n",
              "      <th>...</th>\n",
              "      <td>...</td>\n",
              "    </tr>\n",
              "    <tr>\n",
              "      <th>2021-05-14</th>\n",
              "      <td>49764.132082</td>\n",
              "    </tr>\n",
              "    <tr>\n",
              "      <th>2021-05-15</th>\n",
              "      <td>50032.693137</td>\n",
              "    </tr>\n",
              "    <tr>\n",
              "      <th>2021-05-16</th>\n",
              "      <td>47885.625255</td>\n",
              "    </tr>\n",
              "    <tr>\n",
              "      <th>2021-05-17</th>\n",
              "      <td>45604.615754</td>\n",
              "    </tr>\n",
              "    <tr>\n",
              "      <th>2021-05-18</th>\n",
              "      <td>43144.471291</td>\n",
              "    </tr>\n",
              "  </tbody>\n",
              "</table>\n",
              "<p>2787 rows × 1 columns</p>\n",
              "</div>\n",
              "      <button class=\"colab-df-convert\" onclick=\"convertToInteractive('df-7713968f-1671-4410-9f06-045ce90ea1bd')\"\n",
              "              title=\"Convert this dataframe to an interactive table.\"\n",
              "              style=\"display:none;\">\n",
              "        \n",
              "  <svg xmlns=\"http://www.w3.org/2000/svg\" height=\"24px\"viewBox=\"0 0 24 24\"\n",
              "       width=\"24px\">\n",
              "    <path d=\"M0 0h24v24H0V0z\" fill=\"none\"/>\n",
              "    <path d=\"M18.56 5.44l.94 2.06.94-2.06 2.06-.94-2.06-.94-.94-2.06-.94 2.06-2.06.94zm-11 1L8.5 8.5l.94-2.06 2.06-.94-2.06-.94L8.5 2.5l-.94 2.06-2.06.94zm10 10l.94 2.06.94-2.06 2.06-.94-2.06-.94-.94-2.06-.94 2.06-2.06.94z\"/><path d=\"M17.41 7.96l-1.37-1.37c-.4-.4-.92-.59-1.43-.59-.52 0-1.04.2-1.43.59L10.3 9.45l-7.72 7.72c-.78.78-.78 2.05 0 2.83L4 21.41c.39.39.9.59 1.41.59.51 0 1.02-.2 1.41-.59l7.78-7.78 2.81-2.81c.8-.78.8-2.07 0-2.86zM5.41 20L4 18.59l7.72-7.72 1.47 1.35L5.41 20z\"/>\n",
              "  </svg>\n",
              "      </button>\n",
              "      \n",
              "  <style>\n",
              "    .colab-df-container {\n",
              "      display:flex;\n",
              "      flex-wrap:wrap;\n",
              "      gap: 12px;\n",
              "    }\n",
              "\n",
              "    .colab-df-convert {\n",
              "      background-color: #E8F0FE;\n",
              "      border: none;\n",
              "      border-radius: 50%;\n",
              "      cursor: pointer;\n",
              "      display: none;\n",
              "      fill: #1967D2;\n",
              "      height: 32px;\n",
              "      padding: 0 0 0 0;\n",
              "      width: 32px;\n",
              "    }\n",
              "\n",
              "    .colab-df-convert:hover {\n",
              "      background-color: #E2EBFA;\n",
              "      box-shadow: 0px 1px 2px rgba(60, 64, 67, 0.3), 0px 1px 3px 1px rgba(60, 64, 67, 0.15);\n",
              "      fill: #174EA6;\n",
              "    }\n",
              "\n",
              "    [theme=dark] .colab-df-convert {\n",
              "      background-color: #3B4455;\n",
              "      fill: #D2E3FC;\n",
              "    }\n",
              "\n",
              "    [theme=dark] .colab-df-convert:hover {\n",
              "      background-color: #434B5C;\n",
              "      box-shadow: 0px 1px 3px 1px rgba(0, 0, 0, 0.15);\n",
              "      filter: drop-shadow(0px 1px 2px rgba(0, 0, 0, 0.3));\n",
              "      fill: #FFFFFF;\n",
              "    }\n",
              "  </style>\n",
              "\n",
              "      <script>\n",
              "        const buttonEl =\n",
              "          document.querySelector('#df-7713968f-1671-4410-9f06-045ce90ea1bd button.colab-df-convert');\n",
              "        buttonEl.style.display =\n",
              "          google.colab.kernel.accessAllowed ? 'block' : 'none';\n",
              "\n",
              "        async function convertToInteractive(key) {\n",
              "          const element = document.querySelector('#df-7713968f-1671-4410-9f06-045ce90ea1bd');\n",
              "          const dataTable =\n",
              "            await google.colab.kernel.invokeFunction('convertToInteractive',\n",
              "                                                     [key], {});\n",
              "          if (!dataTable) return;\n",
              "\n",
              "          const docLinkHtml = 'Like what you see? Visit the ' +\n",
              "            '<a target=\"_blank\" href=https://colab.research.google.com/notebooks/data_table.ipynb>data table notebook</a>'\n",
              "            + ' to learn more about interactive tables.';\n",
              "          element.innerHTML = '';\n",
              "          dataTable['output_type'] = 'display_data';\n",
              "          await google.colab.output.renderOutput(dataTable, element);\n",
              "          const docLink = document.createElement('div');\n",
              "          docLink.innerHTML = docLinkHtml;\n",
              "          element.appendChild(docLink);\n",
              "        }\n",
              "      </script>\n",
              "    </div>\n",
              "  </div>\n",
              "  "
            ]
          },
          "metadata": {},
          "execution_count": 6
        }
      ],
      "source": [
        "# We Want Closing Price For Each Day\n",
        "bitcoin_prices = pd.DataFrame(df['Closing Price (USD)']).rename(columns={'Closing Price (USD)': 'Price'})\n",
        "bitcoin_prices"
      ]
    },
    {
      "cell_type": "code",
      "execution_count": null,
      "metadata": {
        "colab": {
          "base_uri": "https://localhost:8080/",
          "height": 352
        },
        "id": "hLyhntSlyvg1",
        "outputId": "f209560c-8813-4a02-af65-566f8576e3d3"
      },
      "outputs": [
        {
          "output_type": "display_data",
          "data": {
            "text/plain": [
              "<Figure size 504x360 with 1 Axes>"
            ],
            "image/png": "[encoded data removed]"
          },
          "metadata": {
            "needs_background": "light"
          }
        }
      ],
      "source": [
        "import matplotlib.pyplot as plt\n",
        "bitcoin_prices.plot(figsize=(7, 5))\n",
        "plt.ylabel('BTC Price')\n",
        "plt.title('Price Of Bitcoin From 1 Oct 2013 To 18 May 2021', fontsize=16)\n",
        "plt.legend(fontsize=16);"
      ]
    },
    {
      "cell_type": "markdown",
      "metadata": {
        "id": "KHyaMkToy9E2"
      },
      "source": [
        "## IMPORTING TIME SERIES DATA WITH PYTHON's CSV MODEULE"
      ]
    },
    {
      "cell_type": "code",
      "execution_count": null,
      "metadata": {
        "colab": {
          "base_uri": "https://localhost:8080/"
        },
        "id": "HcVG3qfg0Rca",
        "outputId": "fa6f76b1-6368-419a-dee0-f89aeb508693"
      },
      "outputs": [
        {
          "output_type": "execute_result",
          "data": {
            "text/plain": [
              "([datetime.datetime(2013, 10, 1, 0, 0),\n",
              "  datetime.datetime(2013, 10, 2, 0, 0),\n",
              "  datetime.datetime(2013, 10, 3, 0, 0),\n",
              "  datetime.datetime(2013, 10, 4, 0, 0),\n",
              "  datetime.datetime(2013, 10, 5, 0, 0),\n",
              "  datetime.datetime(2013, 10, 6, 0, 0),\n",
              "  datetime.datetime(2013, 10, 7, 0, 0),\n",
              "  datetime.datetime(2013, 10, 8, 0, 0),\n",
              "  datetime.datetime(2013, 10, 9, 0, 0),\n",
              "  datetime.datetime(2013, 10, 10, 0, 0)],\n",
              " [123.65499,\n",
              "  125.455,\n",
              "  108.58483,\n",
              "  118.67466,\n",
              "  121.33866,\n",
              "  120.65533,\n",
              "  121.795,\n",
              "  123.033,\n",
              "  124.049,\n",
              "  125.96116])"
            ]
          },
          "metadata": {},
          "execution_count": 8
        }
      ],
      "source": [
        "# Importing Abd Formatting Historical Bitcoin Data With Python\n",
        "import csv\n",
        "from datetime import datetime\n",
        "\n",
        "timesteps = []\n",
        "btc_price = []\n",
        "with open('/content/BTC_USD_2013-10-01_2021-05-18-CoinDesk.csv', 'r') as f:\n",
        "  csv_reader = csv.reader(f, delimiter=',')\n",
        "  next(csv_reader)\n",
        "  for line in csv_reader:\n",
        "    timesteps.append(datetime.strptime(line[1], '%Y-%m-%d'))\n",
        "    btc_price.append(float(line[2]))\n",
        "\n",
        "# Viewing First 10 Of Each\n",
        "timesteps[:10], btc_price[:10]"
      ]
    },
    {
      "cell_type": "code",
      "execution_count": null,
      "metadata": {
        "colab": {
          "base_uri": "https://localhost:8080/",
          "height": 352
        },
        "id": "6Ahs3-Ap3Esc",
        "outputId": "5f0f8015-b524-4ead-9098-370bc9cecd83"
      },
      "outputs": [
        {
          "output_type": "display_data",
          "data": {
            "text/plain": [
              "<Figure size 504x360 with 1 Axes>"
            ],
            "image/png": "[encoded data removed]"
          },
          "metadata": {
            "needs_background": "light"
          }
        }
      ],
      "source": [
        "# Plotting from CSV\n",
        "import matplotlib.pyplot as plt\n",
        "import numpy as np\n",
        "plt.figure(figsize=(7, 5))\n",
        "plt.plot(timesteps, btc_price)\n",
        "plt.ylabel('BTC Price')\n",
        "plt.xlabel('Date')\n",
        "plt.title('Price Of Bitcoin From 1 Oct 2013 To 18 May 2021', fontsize=16);"
      ]
    },
    {
      "cell_type": "markdown",
      "metadata": {
        "id": "-Jk0hPWl3tN1"
      },
      "source": [
        "##FORMAT DATA PART 1 : CREATING TRAIN AND TEST SETS OF OUR TIME SERIES DATA"
      ]
    },
    {
      "cell_type": "markdown",
      "metadata": {
        "id": "rvppFeGx4RN-"
      },
      "source": [
        "###CREATING TRAIN AND TEST SETS WITH TIME SERIES DATA (THE WRONG WAY)"
      ]
    },
    {
      "cell_type": "code",
      "execution_count": null,
      "metadata": {
        "colab": {
          "base_uri": "https://localhost:8080/"
        },
        "id": "4_BbJU4u4bY3",
        "outputId": "5d6a71f8-5531-4225-a22b-77b21d96f7ce"
      },
      "outputs": [
        {
          "output_type": "execute_result",
          "data": {
            "text/plain": [
              "(array(['2013-10-01T00:00:00.000000000', '2013-10-02T00:00:00.000000000',\n",
              "        '2013-10-03T00:00:00.000000000', '2013-10-04T00:00:00.000000000',\n",
              "        '2013-10-05T00:00:00.000000000', '2013-10-06T00:00:00.000000000',\n",
              "        '2013-10-07T00:00:00.000000000', '2013-10-08T00:00:00.000000000',\n",
              "        '2013-10-09T00:00:00.000000000', '2013-10-10T00:00:00.000000000'],\n",
              "       dtype='datetime64[ns]'),\n",
              " array([123.65499, 125.455  , 108.58483, 118.67466, 121.33866, 120.65533,\n",
              "        121.795  , 123.033  , 124.049  , 125.96116]))"
            ]
          },
          "metadata": {},
          "execution_count": 10
        }
      ],
      "source": [
        "# Getting Bitcoin Date Array\n",
        "timesteps = bitcoin_prices.index.to_numpy()\n",
        "prices = bitcoin_prices['Price'].to_numpy()\n",
        "\n",
        "timesteps[:10], prices[:10]"
      ]
    },
    {
      "cell_type": "code",
      "execution_count": null,
      "metadata": {
        "colab": {
          "base_uri": "https://localhost:8080/"
        },
        "id": "GL6uEG7S5cgy",
        "outputId": "3d4467b9-9206-4bdd-f356-bbd349b27b33"
      },
      "outputs": [
        {
          "output_type": "execute_result",
          "data": {
            "text/plain": [
              "((2229,), (558,), (2229,), (558,))"
            ]
          },
          "metadata": {},
          "execution_count": 11
        }
      ],
      "source": [
        "# Wrong Way To Make Train/Test Sets For Time Series Data\n",
        "from sklearn.model_selection import train_test_split\n",
        "X_train, X_test, y_train, y_test = train_test_split(timesteps, prices, test_size=0.2, random_state=42)\n",
        "\n",
        "X_train.shape, X_test.shape, y_train.shape, y_test.shape"
      ]
    },
    {
      "cell_type": "code",
      "execution_count": null,
      "metadata": {
        "colab": {
          "base_uri": "https://localhost:8080/"
        },
        "id": "Nybh-lu16Ztv",
        "outputId": "26399810-0b67-4d56-f03e-9716b63b1554"
      },
      "outputs": [
        {
          "output_type": "display_data",
          "data": {
            "text/plain": [
              "<Figure size 432x288 with 1 Axes>"
            ],
            "image/png": "[encoded data removed]"
          },
          "metadata": {
            "needs_background": "light"
          }
        }
      ],
      "source": [
        "# Plotting Wrong train And test Splits\n",
        "#plt.scatter(figsize=(10, 7))\n",
        "plt.scatter(X_train, y_train, s=5, label='Train Data')\n",
        "plt.scatter(X_test, y_test, s=5, label='Test Data')\n",
        "plt.xlabel('Date')\n",
        "plt.ylabel('BTC Price')\n",
        "plt.legend(fontsize=14)\n",
        "plt.show();"
      ]
    },
    {
      "cell_type": "markdown",
      "metadata": {
        "id": "BSb4fkPu7OPQ"
      },
      "source": [
        "###CREATING TRAIN AND TEST SETS FOR TIME SERIES (THE RIGHT WAY)"
      ]
    },
    {
      "cell_type": "code",
      "execution_count": null,
      "metadata": {
        "colab": {
          "base_uri": "https://localhost:8080/"
        },
        "id": "hE8NKnVQApPe",
        "outputId": "052f9d20-5e69-4d77-afe6-448932924e74"
      },
      "outputs": [
        {
          "output_type": "execute_result",
          "data": {
            "text/plain": [
              "(2229, 558, 2229, 558)"
            ]
          },
          "metadata": {},
          "execution_count": 13
        }
      ],
      "source": [
        "# Creating train And test Splits The Right Way For Time Series Data\n",
        "split_size = int(0.8 * len(prices))\n",
        "\n",
        "# Creating train Data Splits\n",
        "X_train, y_train = timesteps[:split_size], prices[:split_size]\n",
        "\n",
        "# Creating test Data Splits\n",
        "X_test, y_test = timesteps[split_size:], prices[split_size:]\n",
        "\n",
        "len(X_train), len(X_test), len(y_train), len(y_test)"
      ]
    },
    {
      "cell_type": "code",
      "execution_count": null,
      "metadata": {
        "colab": {
          "base_uri": "https://localhost:8080/"
        },
        "id": "rHO0AabKCvQI",
        "outputId": "db87f9d7-4bc7-46b5-91c4-f34a0d3045b5"
      },
      "outputs": [
        {
          "output_type": "display_data",
          "data": {
            "text/plain": [
              "<Figure size 504x360 with 1 Axes>"
            ],
            "image/png": "[encoded data removed]"
          },
          "metadata": {
            "needs_background": "light"
          }
        }
      ],
      "source": [
        "# Plotting Correctly Made Splits\n",
        "plt.figure(figsize=(7, 5))\n",
        "plt.scatter(X_train, y_train, s=5, label='Train Data')\n",
        "plt.scatter(X_test, y_test, s=5, label='Test Data')\n",
        "plt.xlabel('Date')\n",
        "plt.ylabel('BTC Price')\n",
        "plt.legend(fontsize=14)\n",
        "plt.show();"
      ]
    },
    {
      "cell_type": "markdown",
      "metadata": {
        "id": "P-2w9MoUDBO3"
      },
      "source": [
        "##CREATING A PLOTTING FUNCTION"
      ]
    },
    {
      "cell_type": "code",
      "execution_count": null,
      "metadata": {
        "id": "RM0VARSqD_iM"
      },
      "outputs": [],
      "source": [
        "# Creating A Function To Plot Time Series Data\n",
        "def plot_time_series(timesteps, values, format='.', start=0, end=None, label=None):\n",
        "  \"\"\"\n",
        "  Plots timesteps (a series of points in time) against values (a series of values across timesteps).\n",
        "\n",
        "  Parameters\n",
        "  -----------\n",
        "  timesteps : array of timestep values\n",
        "  values : array of values across time\n",
        "  format : style of plot, default \".\"\n",
        "  start : where to start the plot (setting a value will index from start of timesteps & values)\n",
        "  end : where to end the plot\n",
        "  label : label to show on plot about values\n",
        "  \"\"\"\n",
        "  # Plot The Series\n",
        "  plt.plot(timesteps[start:end], values[start:end], format, label=label)\n",
        "  plt.xlabel('TIME')\n",
        "  plt.ylabel('BTC PRICE')\n",
        "  if label:\n",
        "    plt.legend(fontsize=14)\n",
        "  plt.grid(True)"
      ]
    },
    {
      "cell_type": "code",
      "execution_count": null,
      "metadata": {
        "colab": {
          "base_uri": "https://localhost:8080/",
          "height": 334
        },
        "id": "j9VwdrKHHLYt",
        "outputId": "b4f6be45-b73d-42af-d97d-baa08c02a44a"
      },
      "outputs": [
        {
          "output_type": "display_data",
          "data": {
            "text/plain": [
              "<Figure size 504x360 with 1 Axes>"
            ],
            "image/png": "[encoded data removed]"
          },
          "metadata": {
            "needs_background": "light"
          }
        }
      ],
      "source": [
        "# Testing Out Plotting Function\n",
        "plt.figure(figsize=(7, 5))\n",
        "plot_time_series(timesteps=X_train, values=y_train, label='Train Data')\n",
        "plot_time_series(timesteps=X_test, values=y_test, label='Test Data')"
      ]
    },
    {
      "cell_type": "markdown",
      "metadata": {
        "id": "wLb3JxnbHr8_"
      },
      "source": [
        "##MODELLING EXPERIMENTS"
      ]
    },
    {
      "cell_type": "markdown",
      "metadata": {
        "id": "h0aswLTuIgb5"
      },
      "source": [
        "##MODEL 0 : NAIVE FORECAST (BASELINE)"
      ]
    },
    {
      "cell_type": "code",
      "execution_count": null,
      "metadata": {
        "colab": {
          "base_uri": "https://localhost:8080/"
        },
        "id": "R6PIfEQZLIIq",
        "outputId": "6053c235-dec6-4133-b708-090fbceb5cf2"
      },
      "outputs": [
        {
          "output_type": "execute_result",
          "data": {
            "text/plain": [
              "(array([9226.48582088, 8794.35864452, 8798.04205463, 9081.18687849,\n",
              "        8711.53433917, 8760.89271814, 8749.52059102, 8656.97092235,\n",
              "        8500.64355816, 8469.2608989 ]),\n",
              " array([57107.12067189, 58788.20967893, 58102.19142623, 55715.54665129,\n",
              "        56573.5554719 , 52147.82118698, 49764.1320816 , 50032.69313676,\n",
              "        47885.62525472, 45604.61575361]))"
            ]
          },
          "metadata": {},
          "execution_count": 17
        }
      ],
      "source": [
        "# Creating A Naive Forecast\n",
        "naive_forecast = y_test[:-1]\n",
        "naive_forecast[:10], naive_forecast[-10:]"
      ]
    },
    {
      "cell_type": "code",
      "execution_count": null,
      "metadata": {
        "colab": {
          "base_uri": "https://localhost:8080/",
          "height": 334
        },
        "id": "TD_NSduaL7K_",
        "outputId": "1b92a855-a693-45fb-a3b4-f7cabd36747b"
      },
      "outputs": [
        {
          "output_type": "display_data",
          "data": {
            "text/plain": [
              "<Figure size 504x360 with 1 Axes>"
            ],
            "image/png": "[encoded data removed]"
          },
          "metadata": {
            "needs_background": "light"
          }
        }
      ],
      "source": [
        "# Plotting Naive Forecast\n",
        "plt.figure(figsize=(7, 5))\n",
        "plot_time_series(timesteps=X_train, values=y_train, label='Train Data')\n",
        "plot_time_series(timesteps=X_test, values=y_test, label='Test Data')\n",
        "plot_time_series(timesteps=X_test[1:], values=naive_forecast, format='-', label='Naive Forecast')"
      ]
    },
    {
      "cell_type": "markdown",
      "metadata": {
        "id": "VhcBPCn6M_qT"
      },
      "source": [
        "##EVALUATING A TIME SERIES MODEL"
      ]
    },
    {
      "cell_type": "code",
      "execution_count": null,
      "metadata": {
        "id": "N_9m5e2BVQwX"
      },
      "outputs": [],
      "source": [
        "import tensorflow as tf"
      ]
    },
    {
      "cell_type": "code",
      "execution_count": null,
      "metadata": {
        "id": "mMK8Ze4SZtJ3"
      },
      "outputs": [],
      "source": [
        "# MASE Implementation\n",
        "def mean_absolute_scaled_error(y_true, y_pred):\n",
        "  \"\"\"\n",
        "  Implements MASE\n",
        "  \"\"\"\n",
        "  mae = tf.reduce_mean(tf.abs(y_true-y_pred))\n",
        "\n",
        "  # Finding MAE Of Naive Forecast\n",
        "  mae_naive_no_season = tf.reduce_mean(tf.abs(y_true[1:] - y_true[:-1]))\n",
        "\n",
        "  return mae / mae_naive_no_season"
      ]
    },
    {
      "cell_type": "code",
      "execution_count": null,
      "metadata": {
        "colab": {
          "base_uri": "https://localhost:8080/"
        },
        "id": "trk38o6BccIg",
        "outputId": "acfe72ff-7f56-4e3b-c0f7-d0eee5851d0c"
      },
      "outputs": [
        {
          "output_type": "execute_result",
          "data": {
            "text/plain": [
              "0.9995699939182624"
            ]
          },
          "metadata": {},
          "execution_count": 21
        }
      ],
      "source": [
        "mean_absolute_scaled_error(y_true=y_test[1:], y_pred=naive_forecast).numpy()"
      ]
    },
    {
      "cell_type": "code",
      "execution_count": null,
      "metadata": {
        "id": "pMIL-zzdcqdR"
      },
      "outputs": [],
      "source": [
        "# Creating A Function Which Takes In Model Predictions And Truth Values, And Returns Evaluation Metrics\n",
        "def evaluate_preds(y_true, y_pred):\n",
        "  y_true = tf.cast(y_true, dtype=tf.float32)\n",
        "  y_pred = tf.cast(y_pred, dtype=tf.float32)\n",
        "\n",
        "  # Calculate Various Evaluation Metrics\n",
        "  mae = tf.keras.metrics.mean_absolute_error(y_true, y_pred)\n",
        "  mse = tf.keras.metrics.mean_squared_error(y_true, y_pred)\n",
        "  rmse = tf.sqrt(mse)\n",
        "  mape = tf.keras.metrics.mean_absolute_percentage_error(y_true, y_pred)\n",
        "  mase = mean_absolute_scaled_error(y_true, y_pred)\n",
        "\n",
        "  return {'MAE': mae.numpy(),\n",
        "          'MSE': mse.numpy(),\n",
        "          'RMSE': rmse.numpy(),\n",
        "          'MAPE': mape.numpy(),\n",
        "          'MASE': mase.numpy()}"
      ]
    },
    {
      "cell_type": "code",
      "execution_count": null,
      "metadata": {
        "colab": {
          "base_uri": "https://localhost:8080/"
        },
        "id": "ru9XaFWCfIWM",
        "outputId": "3fbc1efb-2e23-4908-b1f0-9ad81862a5d8"
      },
      "outputs": [
        {
          "output_type": "execute_result",
          "data": {
            "text/plain": [
              "{'MAE': 567.9802,\n",
              " 'MSE': 1147547.0,\n",
              " 'RMSE': 1071.2362,\n",
              " 'MAPE': 2.5165248,\n",
              " 'MASE': 0.99957}"
            ]
          },
          "metadata": {},
          "execution_count": 23
        }
      ],
      "source": [
        "naive_results = evaluate_preds(y_true=y_test[1:],\n",
        "                               y_pred=naive_forecast)\n",
        "naive_results"
      ]
    },
    {
      "cell_type": "markdown",
      "metadata": {
        "id": "SIceJa18fXor"
      },
      "source": [
        "##FORMAT DATA PART 2 : WINDOWING OUR DATASET"
      ]
    },
    {
      "cell_type": "code",
      "execution_count": null,
      "metadata": {
        "colab": {
          "base_uri": "https://localhost:8080/"
        },
        "id": "afnctk3yhohY",
        "outputId": "0c305123-4337-423d-80fe-e432d44d523b"
      },
      "outputs": [
        {
          "output_type": "stream",
          "name": "stdout",
          "text": [
            "WE WANT TO USE: [123.65499, 125.455, 108.58483, 118.67466, 121.33866, 120.65533, 121.795] TO PREDICT THIS: 123.033\n"
          ]
        }
      ],
      "source": [
        "# What We Want To Do With Our Bitcoin Data\n",
        "print(f'WE WANT TO USE: {btc_price[:7]} TO PREDICT THIS: {btc_price[7]}')"
      ]
    },
    {
      "cell_type": "code",
      "execution_count": null,
      "metadata": {
        "id": "39nX54mbmWHu"
      },
      "outputs": [],
      "source": [
        "# Setting Up Global Varibales For Window And Horizon Size\n",
        "HORIZON = 1 # Predict Next 1 Day\n",
        "WINDOW_SIZE = 7 # Use The Past Week Of Bitcoin Data To Make The Prediction"
      ]
    },
    {
      "cell_type": "code",
      "execution_count": null,
      "metadata": {
        "id": "XQpt00nlnW4X"
      },
      "outputs": [],
      "source": [
        "# Creating Function To Label Windowed Data\n",
        "def get_labelled_windows(x, horizon=HORIZON):\n",
        "  \"\"\"\n",
        "  Creates Labels For Windowed Dataset.\n",
        "\n",
        "  E.g. If horizon=1\n",
        "  Input: [0, 1, 2, 3, 4, 5, 6, 7] -> Output:([0, 1, 2, 3, 4, 5, 6], [7])\n",
        "  \"\"\"\n",
        "\n",
        "  return x[:, :-horizon], x[:, -horizon:]"
      ]
    },
    {
      "cell_type": "code",
      "execution_count": null,
      "metadata": {
        "colab": {
          "base_uri": "https://localhost:8080/"
        },
        "id": "6z0irEANpgHN",
        "outputId": "f7da6036-2d6d-4f75-ae43-c7fd3ff1b963"
      },
      "outputs": [
        {
          "output_type": "stream",
          "name": "stdout",
          "text": [
            "Window: [1 2 3 4 5 6 7] -> Label: 8\n"
          ]
        }
      ],
      "source": [
        "# Testing Out The Window Labelling Function\n",
        "test_window, test_label = get_labelled_windows(tf.expand_dims(tf.range(8)+1, axis=0))\n",
        "print(f'Window: {tf.squeeze(test_window).numpy()} -> Label: {tf.squeeze(test_label).numpy()}')"
      ]
    },
    {
      "cell_type": "code",
      "execution_count": null,
      "metadata": {
        "id": "f4MPxV5_qMTt"
      },
      "outputs": [],
      "source": [
        "# Creating Function To View Numpy Arrays As Windows\n",
        "def make_windows(x, windows_size=WINDOW_SIZE, horizon=HORIZON):\n",
        "  \"\"\"\n",
        "  Turns A 1D Array Into A 2D Array Of Sequential Labelled Windows Of window_size With horizon_size Labels\n",
        "  \"\"\"\n",
        "  # 1. Creating A Window Specific window_size ( Adds The horizon To The End For Labelling Later)\n",
        "  window_step = np.expand_dims(np.arange(windows_size+horizon), axis=0)\n",
        "\n",
        "  # 2. Creating A 2D Array Of Multiple Window Steps (Minus 1 To Account For 0 Indexing)\n",
        "  window_indexes = window_step + np.expand_dims(np.arange(len(x)-(windows_size+horizon-1)), axis=0).T # Creates 2D Array Of windows Of Size window_size\n",
        "\n",
        "  # 3. Index On The Traget Array (A Time series) With 2D Array Of Multiple Window Steps\n",
        "  windowed_array = x[window_indexes]\n",
        "\n",
        "  # 4. Get The Labelled windows\n",
        "  windows, labels = get_labelled_windows(windowed_array, horizon=horizon)\n",
        "\n",
        "  return windows, labels"
      ]
    },
    {
      "cell_type": "code",
      "execution_count": null,
      "metadata": {
        "colab": {
          "base_uri": "https://localhost:8080/"
        },
        "id": "WkwwI87tvCpa",
        "outputId": "b50112ba-e5a2-4957-d652-afed788f8dc7"
      },
      "outputs": [
        {
          "output_type": "execute_result",
          "data": {
            "text/plain": [
              "(2780, 2780)"
            ]
          },
          "metadata": {},
          "execution_count": 29
        }
      ],
      "source": [
        "full_windows, full_labels = make_windows(prices, windows_size=WINDOW_SIZE, horizon=HORIZON)\n",
        "len(full_windows), len(full_labels)"
      ]
    },
    {
      "cell_type": "code",
      "execution_count": null,
      "metadata": {
        "colab": {
          "base_uri": "https://localhost:8080/"
        },
        "id": "c9ZxcSXTxyXA",
        "outputId": "78fc2fbc-babe-42a0-9925-51e6c3a39a5a"
      },
      "outputs": [
        {
          "output_type": "stream",
          "name": "stdout",
          "text": [
            "Window: [123.65499 125.455   108.58483 118.67466 121.33866 120.65533 121.795  ], Label: [123.033]\n",
            "Window: [125.455   108.58483 118.67466 121.33866 120.65533 121.795   123.033  ], Label: [124.049]\n",
            "Window: [108.58483 118.67466 121.33866 120.65533 121.795   123.033   124.049  ], Label: [125.96116]\n"
          ]
        }
      ],
      "source": [
        "# Viewing The First 3 windows/labels\n",
        "for i in range(3):\n",
        "  print(f'Window: {full_windows[i]}, Label: {full_labels[i]}')"
      ]
    },
    {
      "cell_type": "code",
      "execution_count": null,
      "metadata": {
        "colab": {
          "base_uri": "https://localhost:8080/"
        },
        "id": "uXAH0r5w0JH4",
        "outputId": "e0365157-ac4d-44d6-ad4b-610d8e44fc07"
      },
      "outputs": [
        {
          "output_type": "stream",
          "name": "stdout",
          "text": [
            "Window: [58788.20967893 58102.19142623 55715.54665129 56573.5554719\n",
            " 52147.82118698 49764.1320816  50032.69313676], Label: [47885.62525472]\n",
            "Window: [58102.19142623 55715.54665129 56573.5554719  52147.82118698\n",
            " 49764.1320816  50032.69313676 47885.62525472], Label: [45604.61575361]\n",
            "Window: [55715.54665129 56573.5554719  52147.82118698 49764.1320816\n",
            " 50032.69313676 47885.62525472 45604.61575361], Label: [43144.47129086]\n"
          ]
        }
      ],
      "source": [
        "# Viewing The Last 3 windows/labels\n",
        "for i in range(3):\n",
        "  print(f'Window: {full_windows[i-3]}, Label: {full_labels[i-3]}')"
      ]
    },
    {
      "cell_type": "markdown",
      "metadata": {
        "id": "EZIRM0xP07-h"
      },
      "source": [
        "###TURNING WINDOWS INTO TRAINING AND TEST SETS"
      ]
    },
    {
      "cell_type": "code",
      "execution_count": null,
      "metadata": {
        "id": "BQxz19Ij14I0"
      },
      "outputs": [],
      "source": [
        "# Making The Train/Test Splits\n",
        "def make_train_test_splits(windows, labels, test_split=0.2):\n",
        "  \"\"\"\n",
        "  Splits Matching Pairs Of Windows And Labels Into Train And Test Splits.\n",
        "  \"\"\"\n",
        "  split_size = int(len(windows) * (1- test_split))\n",
        "  train_windows = windows[:split_size]\n",
        "  train_labels = labels[:split_size]\n",
        "  test_windows = windows[split_size:]\n",
        "  test_labels = labels[split_size:]\n",
        "\n",
        "  return train_windows, test_windows, train_labels, test_labels"
      ]
    },
    {
      "cell_type": "code",
      "execution_count": null,
      "metadata": {
        "colab": {
          "base_uri": "https://localhost:8080/"
        },
        "id": "X75l0F-B3YYA",
        "outputId": "3e1cca1d-e069-4a6e-a076-009b82989242"
      },
      "outputs": [
        {
          "output_type": "execute_result",
          "data": {
            "text/plain": [
              "(2224, 556, 2224, 556)"
            ]
          },
          "metadata": {},
          "execution_count": 33
        }
      ],
      "source": [
        "# Creating train And test Windows\n",
        "train_windows, test_windows, train_labels, test_labels = make_train_test_splits(full_windows, full_labels)\n",
        "len(train_windows), len(test_windows), len(train_labels), len(test_labels)"
      ]
    },
    {
      "cell_type": "markdown",
      "metadata": {
        "id": "ThtxvqQ04DCb"
      },
      "source": [
        "##MAKING A MODELLING CHECKPOINT CALLBACK"
      ]
    },
    {
      "cell_type": "code",
      "execution_count": null,
      "metadata": {
        "id": "F12V18Xufua9"
      },
      "outputs": [],
      "source": [
        "import os\n",
        "\n",
        "# Creating A Function To Implement A ModelCheckpoint Callback With A Specific Filename\n",
        "def create_model_checkpoint(model_name, save_path='model_experiments'):\n",
        "  return tf.keras.callbacks.ModelCheckpoint(filepath=os.path.join(save_path, model_name),\n",
        "                                            monitor='val_loss',\n",
        "                                            verbose=0,\n",
        "                                            save_best_only=True)"
      ]
    },
    {
      "cell_type": "markdown",
      "metadata": {
        "id": "_guacY4-hNse"
      },
      "source": [
        "##MODEL 1 : DENSE (window = 7, horizon = 1)"
      ]
    },
    {
      "cell_type": "code",
      "execution_count": null,
      "metadata": {
        "colab": {
          "base_uri": "https://localhost:8080/"
        },
        "id": "M22IvX59hrMY",
        "outputId": "7e6c770a-cd05-4825-ee3e-edc9d8789f27"
      },
      "outputs": [
        {
          "output_type": "stream",
          "name": "stdout",
          "text": [
            "Epoch 1/100\n",
            "18/18 [==============================] - 2s 51ms/step - loss: 780.3469 - mae: 780.3469 - mse: 2312739.0000 - val_loss: 2279.5828 - val_mae: 2279.5828 - val_mse: 12772095.0000\n",
            "Epoch 2/100\n",
            "18/18 [==============================] - 1s 38ms/step - loss: 247.6765 - mae: 247.6765 - mse: 285480.9062 - val_loss: 1005.9864 - val_mae: 1005.9864 - val_mse: 3441759.2500\n",
            "Epoch 3/100\n",
            "18/18 [==============================] - 1s 31ms/step - loss: 188.4107 - mae: 188.4107 - mse: 171890.0312 - val_loss: 923.2859 - val_mae: 923.2859 - val_mse: 2868195.0000\n",
            "Epoch 4/100\n",
            "18/18 [==============================] - 1s 30ms/step - loss: 169.4334 - mae: 169.4334 - mse: 151699.4375 - val_loss: 900.5932 - val_mae: 900.5932 - val_mse: 2683713.7500\n",
            "Epoch 5/100\n",
            "18/18 [==============================] - 1s 34ms/step - loss: 165.0900 - mae: 165.0900 - mse: 145490.8750 - val_loss: 895.2405 - val_mae: 895.2405 - val_mse: 2564606.2500\n",
            "Epoch 6/100\n",
            "18/18 [==============================] - 1s 33ms/step - loss: 158.5206 - mae: 158.5206 - mse: 133816.7969 - val_loss: 855.1868 - val_mae: 855.1868 - val_mse: 2481815.5000\n",
            "Epoch 7/100\n",
            "18/18 [==============================] - 1s 43ms/step - loss: 151.3568 - mae: 151.3568 - mse: 123446.8047 - val_loss: 840.9290 - val_mae: 840.9290 - val_mse: 2276476.2500\n",
            "Epoch 8/100\n",
            "18/18 [==============================] - 1s 32ms/step - loss: 145.2560 - mae: 145.2560 - mse: 117694.1797 - val_loss: 803.6005 - val_mae: 803.6005 - val_mse: 2140566.2500\n",
            "Epoch 9/100\n",
            "18/18 [==============================] - 1s 31ms/step - loss: 144.3546 - mae: 144.3546 - mse: 115269.0859 - val_loss: 799.5592 - val_mae: 799.5592 - val_mse: 2049233.7500\n",
            "Epoch 10/100\n",
            "18/18 [==============================] - 1s 31ms/step - loss: 141.2944 - mae: 141.2944 - mse: 112394.1953 - val_loss: 763.5060 - val_mae: 763.5060 - val_mse: 1933136.7500\n",
            "Epoch 11/100\n",
            "18/18 [==============================] - 0s 4ms/step - loss: 135.6591 - mae: 135.6591 - mse: 104117.6016 - val_loss: 771.3525 - val_mae: 771.3525 - val_mse: 1885888.2500\n",
            "Epoch 12/100\n",
            "18/18 [==============================] - 0s 4ms/step - loss: 134.1702 - mae: 134.1702 - mse: 101780.5234 - val_loss: 782.8326 - val_mae: 782.8325 - val_mse: 1881791.7500\n",
            "Epoch 13/100\n",
            "18/18 [==============================] - 0s 3ms/step - loss: 134.6014 - mae: 134.6014 - mse: 102344.3516 - val_loss: 784.4728 - val_mae: 784.4728 - val_mse: 1861070.5000\n",
            "Epoch 14/100\n",
            "18/18 [==============================] - 1s 32ms/step - loss: 130.6125 - mae: 130.6125 - mse: 96224.3594 - val_loss: 751.3470 - val_mae: 751.3470 - val_mse: 1749667.6250\n",
            "Epoch 15/100\n",
            "18/18 [==============================] - 1s 30ms/step - loss: 128.8352 - mae: 128.8352 - mse: 94306.8672 - val_loss: 696.5837 - val_mae: 696.5837 - val_mse: 1606358.6250\n",
            "Epoch 16/100\n",
            "18/18 [==============================] - 0s 4ms/step - loss: 124.8667 - mae: 124.8667 - mse: 90498.6172 - val_loss: 707.2988 - val_mae: 707.2988 - val_mse: 1602364.3750\n",
            "Epoch 17/100\n",
            "18/18 [==============================] - 0s 4ms/step - loss: 123.6096 - mae: 123.6096 - mse: 89226.7422 - val_loss: 714.2291 - val_mae: 714.2291 - val_mse: 1601816.6250\n",
            "Epoch 18/100\n",
            "18/18 [==============================] - 1s 32ms/step - loss: 122.3023 - mae: 122.3023 - mse: 87726.4766 - val_loss: 669.1414 - val_mae: 669.1414 - val_mse: 1498631.3750\n",
            "Epoch 19/100\n",
            "18/18 [==============================] - 0s 3ms/step - loss: 121.4932 - mae: 121.4932 - mse: 86447.8828 - val_loss: 721.5452 - val_mae: 721.5452 - val_mse: 1595832.0000\n",
            "Epoch 20/100\n",
            "18/18 [==============================] - 1s 31ms/step - loss: 119.2384 - mae: 119.2384 - mse: 84250.7500 - val_loss: 658.0786 - val_mae: 658.0786 - val_mse: 1448095.0000\n",
            "Epoch 21/100\n",
            "18/18 [==============================] - 1s 52ms/step - loss: 121.5293 - mae: 121.5293 - mse: 85926.5547 - val_loss: 638.3386 - val_mae: 638.3386 - val_mse: 1397797.1250\n",
            "Epoch 22/100\n",
            "18/18 [==============================] - 0s 6ms/step - loss: 119.3422 - mae: 119.3422 - mse: 83495.1953 - val_loss: 678.8881 - val_mae: 678.8881 - val_mse: 1465750.7500\n",
            "Epoch 23/100\n",
            "18/18 [==============================] - 0s 5ms/step - loss: 122.8203 - mae: 122.8203 - mse: 84656.3750 - val_loss: 651.8512 - val_mae: 651.8512 - val_mse: 1401081.1250\n",
            "Epoch 24/100\n",
            "18/18 [==============================] - 1s 55ms/step - loss: 117.0774 - mae: 117.0774 - mse: 81069.2109 - val_loss: 623.5611 - val_mae: 623.5611 - val_mse: 1362704.7500\n",
            "Epoch 25/100\n",
            "18/18 [==============================] - 1s 70ms/step - loss: 115.1816 - mae: 115.1816 - mse: 79065.0391 - val_loss: 618.5576 - val_mae: 618.5576 - val_mse: 1342634.1250\n",
            "Epoch 26/100\n",
            "18/18 [==============================] - 1s 63ms/step - loss: 115.0673 - mae: 115.0673 - mse: 78886.6484 - val_loss: 616.4918 - val_mae: 616.4918 - val_mse: 1321327.3750\n",
            "Epoch 27/100\n",
            "18/18 [==============================] - 0s 6ms/step - loss: 116.6431 - mae: 116.6431 - mse: 79058.1172 - val_loss: 619.0472 - val_mae: 619.0472 - val_mse: 1316206.6250\n",
            "Epoch 28/100\n",
            "18/18 [==============================] - 1s 63ms/step - loss: 114.0328 - mae: 114.0328 - mse: 77953.4609 - val_loss: 610.3879 - val_mae: 610.3879 - val_mse: 1316937.5000\n",
            "Epoch 29/100\n",
            "18/18 [==============================] - 0s 8ms/step - loss: 113.4892 - mae: 113.4892 - mse: 78513.0859 - val_loss: 617.2401 - val_mae: 617.2401 - val_mse: 1304227.6250\n",
            "Epoch 30/100\n",
            "18/18 [==============================] - 1s 63ms/step - loss: 116.4094 - mae: 116.4094 - mse: 78943.1484 - val_loss: 603.6490 - val_mae: 603.6490 - val_mse: 1283178.0000\n",
            "Epoch 31/100\n",
            "18/18 [==============================] - 0s 6ms/step - loss: 112.3454 - mae: 112.3454 - mse: 74879.3203 - val_loss: 623.4434 - val_mae: 623.4434 - val_mse: 1311036.6250\n",
            "Epoch 32/100\n",
            "18/18 [==============================] - 2s 94ms/step - loss: 113.2056 - mae: 113.2056 - mse: 77898.5000 - val_loss: 600.0261 - val_mae: 600.0261 - val_mse: 1271945.6250\n",
            "Epoch 33/100\n",
            "18/18 [==============================] - 0s 6ms/step - loss: 112.9529 - mae: 112.9529 - mse: 76235.3906 - val_loss: 653.0604 - val_mae: 653.0604 - val_mse: 1369885.5000\n",
            "Epoch 34/100\n",
            "18/18 [==============================] - 1s 69ms/step - loss: 112.1157 - mae: 112.1157 - mse: 77267.7578 - val_loss: 594.7913 - val_mae: 594.7913 - val_mse: 1263628.2500\n",
            "Epoch 35/100\n",
            "18/18 [==============================] - 1s 81ms/step - loss: 110.7447 - mae: 110.7447 - mse: 75067.1562 - val_loss: 592.7401 - val_mae: 592.7401 - val_mse: 1250752.6250\n",
            "Epoch 36/100\n",
            "18/18 [==============================] - 1s 78ms/step - loss: 116.3301 - mae: 116.3301 - mse: 77425.8047 - val_loss: 592.4697 - val_mae: 592.4697 - val_mse: 1246067.6250\n",
            "Epoch 37/100\n",
            "18/18 [==============================] - 0s 9ms/step - loss: 110.7676 - mae: 110.7676 - mse: 75596.7188 - val_loss: 618.5350 - val_mae: 618.5350 - val_mse: 1286741.6250\n",
            "Epoch 38/100\n",
            "18/18 [==============================] - 0s 15ms/step - loss: 112.5935 - mae: 112.5935 - mse: 75636.7109 - val_loss: 613.9557 - val_mae: 613.9557 - val_mse: 1306248.2500\n",
            "Epoch 39/100\n",
            "18/18 [==============================] - 2s 89ms/step - loss: 110.1321 - mae: 110.1321 - mse: 74271.8047 - val_loss: 586.6888 - val_mae: 586.6888 - val_mse: 1231217.3750\n",
            "Epoch 40/100\n",
            "18/18 [==============================] - 0s 6ms/step - loss: 109.4753 - mae: 109.4753 - mse: 73257.0078 - val_loss: 593.9153 - val_mae: 593.9153 - val_mse: 1256532.0000\n",
            "Epoch 41/100\n",
            "18/18 [==============================] - 1s 61ms/step - loss: 110.1777 - mae: 110.1777 - mse: 73581.0234 - val_loss: 586.4465 - val_mae: 586.4465 - val_mse: 1229670.8750\n",
            "Epoch 42/100\n",
            "18/18 [==============================] - 0s 5ms/step - loss: 111.5192 - mae: 111.5192 - mse: 76049.7500 - val_loss: 649.3650 - val_mae: 649.3650 - val_mse: 1345896.2500\n",
            "Epoch 43/100\n",
            "18/18 [==============================] - 0s 7ms/step - loss: 115.8939 - mae: 115.8939 - mse: 74405.6172 - val_loss: 686.8293 - val_mae: 686.8293 - val_mse: 1486392.7500\n",
            "Epoch 44/100\n",
            "18/18 [==============================] - 0s 11ms/step - loss: 123.0945 - mae: 123.0945 - mse: 83366.2891 - val_loss: 661.1304 - val_mae: 661.1304 - val_mse: 1411199.7500\n",
            "Epoch 45/100\n",
            "18/18 [==============================] - 0s 7ms/step - loss: 113.8169 - mae: 113.8169 - mse: 77100.1719 - val_loss: 626.8177 - val_mae: 626.8177 - val_mse: 1293826.5000\n",
            "Epoch 46/100\n",
            "18/18 [==============================] - 0s 8ms/step - loss: 114.0971 - mae: 114.0971 - mse: 76079.4453 - val_loss: 588.7769 - val_mae: 588.7769 - val_mse: 1238327.0000\n",
            "Epoch 47/100\n",
            "18/18 [==============================] - 0s 6ms/step - loss: 108.9936 - mae: 108.9936 - mse: 73660.3047 - val_loss: 636.0583 - val_mae: 636.0583 - val_mse: 1312960.0000\n",
            "Epoch 48/100\n",
            "18/18 [==============================] - 0s 8ms/step - loss: 109.2967 - mae: 109.2967 - mse: 73079.0703 - val_loss: 604.1586 - val_mae: 604.1586 - val_mse: 1245050.2500\n",
            "Epoch 49/100\n",
            "18/18 [==============================] - 0s 7ms/step - loss: 111.7787 - mae: 111.7787 - mse: 73888.8984 - val_loss: 591.5096 - val_mae: 591.5096 - val_mse: 1222480.7500\n",
            "Epoch 50/100\n",
            "18/18 [==============================] - 0s 7ms/step - loss: 111.7319 - mae: 111.7319 - mse: 73875.1641 - val_loss: 636.4677 - val_mae: 636.4677 - val_mse: 1341626.7500\n",
            "Epoch 51/100\n",
            "18/18 [==============================] - 0s 6ms/step - loss: 110.7498 - mae: 110.7498 - mse: 73830.9141 - val_loss: 589.2878 - val_mae: 589.2878 - val_mse: 1216414.1250\n",
            "Epoch 52/100\n",
            "18/18 [==============================] - 0s 6ms/step - loss: 111.5193 - mae: 111.5193 - mse: 75446.6875 - val_loss: 609.5289 - val_mae: 609.5289 - val_mse: 1277468.7500\n",
            "Epoch 53/100\n",
            "18/18 [==============================] - 1s 81ms/step - loss: 113.9868 - mae: 113.9868 - mse: 75752.9766 - val_loss: 584.7471 - val_mae: 584.7471 - val_mse: 1209497.1250\n",
            "Epoch 54/100\n",
            "18/18 [==============================] - 2s 95ms/step - loss: 110.1075 - mae: 110.1075 - mse: 72728.5625 - val_loss: 578.7416 - val_mae: 578.7416 - val_mse: 1200865.6250\n",
            "Epoch 55/100\n",
            "18/18 [==============================] - 0s 11ms/step - loss: 110.6423 - mae: 110.6423 - mse: 75084.4141 - val_loss: 581.5333 - val_mae: 581.5333 - val_mse: 1218268.7500\n",
            "Epoch 56/100\n",
            "18/18 [==============================] - 0s 8ms/step - loss: 107.6537 - mae: 107.6537 - mse: 71568.1328 - val_loss: 759.0189 - val_mae: 759.0189 - val_mse: 1698484.5000\n",
            "Epoch 57/100\n",
            "18/18 [==============================] - 0s 12ms/step - loss: 119.2012 - mae: 119.2012 - mse: 79652.9531 - val_loss: 603.5953 - val_mae: 603.5953 - val_mse: 1262626.7500\n",
            "Epoch 58/100\n",
            "18/18 [==============================] - 0s 8ms/step - loss: 116.4417 - mae: 116.4417 - mse: 75122.8828 - val_loss: 583.7296 - val_mae: 583.7296 - val_mse: 1206719.0000\n",
            "Epoch 59/100\n",
            "18/18 [==============================] - 0s 8ms/step - loss: 109.9014 - mae: 109.9014 - mse: 72680.9766 - val_loss: 592.8416 - val_mae: 592.8416 - val_mse: 1240090.3750\n",
            "Epoch 60/100\n",
            "18/18 [==============================] - 0s 8ms/step - loss: 107.7859 - mae: 107.7859 - mse: 72220.4922 - val_loss: 593.4969 - val_mae: 593.4969 - val_mse: 1220786.7500\n",
            "Epoch 61/100\n",
            "18/18 [==============================] - 1s 67ms/step - loss: 107.6960 - mae: 107.6960 - mse: 72155.8672 - val_loss: 575.5123 - val_mae: 575.5123 - val_mse: 1194018.5000\n",
            "Epoch 62/100\n",
            "18/18 [==============================] - 0s 10ms/step - loss: 107.1257 - mae: 107.1257 - mse: 70836.3438 - val_loss: 580.2645 - val_mae: 580.2645 - val_mse: 1213138.3750\n",
            "Epoch 63/100\n",
            "18/18 [==============================] - 0s 9ms/step - loss: 111.8451 - mae: 111.8451 - mse: 73612.9453 - val_loss: 654.6143 - val_mae: 654.6143 - val_mse: 1348994.2500\n",
            "Epoch 64/100\n",
            "18/18 [==============================] - 0s 7ms/step - loss: 110.3121 - mae: 110.3121 - mse: 72546.6641 - val_loss: 610.7810 - val_mae: 610.7810 - val_mse: 1251885.2500\n",
            "Epoch 65/100\n",
            "18/18 [==============================] - 1s 64ms/step - loss: 109.7098 - mae: 109.7098 - mse: 72575.1016 - val_loss: 573.9960 - val_mae: 573.9960 - val_mse: 1190387.3750\n",
            "Epoch 66/100\n",
            "18/18 [==============================] - 1s 65ms/step - loss: 106.8139 - mae: 106.8139 - mse: 70554.2734 - val_loss: 572.9989 - val_mae: 572.9989 - val_mse: 1187547.3750\n",
            "Epoch 67/100\n",
            "18/18 [==============================] - 0s 6ms/step - loss: 106.1394 - mae: 106.1394 - mse: 70026.4219 - val_loss: 602.1524 - val_mae: 602.1524 - val_mse: 1255793.1250\n",
            "Epoch 68/100\n",
            "18/18 [==============================] - 0s 5ms/step - loss: 112.9245 - mae: 112.9245 - mse: 70779.4219 - val_loss: 687.6375 - val_mae: 687.6375 - val_mse: 1476286.1250\n",
            "Epoch 69/100\n",
            "18/18 [==============================] - 0s 4ms/step - loss: 126.9916 - mae: 126.9916 - mse: 82712.0156 - val_loss: 664.9473 - val_mae: 664.9473 - val_mse: 1413700.8750\n",
            "Epoch 70/100\n",
            "18/18 [==============================] - 0s 6ms/step - loss: 124.8734 - mae: 124.8734 - mse: 83039.0547 - val_loss: 619.6686 - val_mae: 619.6686 - val_mse: 1298640.7500\n",
            "Epoch 71/100\n",
            "18/18 [==============================] - 0s 8ms/step - loss: 109.8522 - mae: 109.8522 - mse: 71643.5000 - val_loss: 582.3637 - val_mae: 582.3637 - val_mse: 1201057.1250\n",
            "Epoch 72/100\n",
            "18/18 [==============================] - 0s 10ms/step - loss: 107.6717 - mae: 107.6717 - mse: 71406.7734 - val_loss: 573.4947 - val_mae: 573.4947 - val_mse: 1192645.7500\n",
            "Epoch 73/100\n",
            "18/18 [==============================] - 0s 8ms/step - loss: 109.6036 - mae: 109.6036 - mse: 71761.6250 - val_loss: 583.9045 - val_mae: 583.9045 - val_mse: 1218967.2500\n",
            "Epoch 74/100\n",
            "18/18 [==============================] - 1s 61ms/step - loss: 107.7049 - mae: 107.7049 - mse: 71542.6094 - val_loss: 572.9933 - val_mae: 572.9933 - val_mse: 1189806.3750\n",
            "Epoch 75/100\n",
            "18/18 [==============================] - 0s 8ms/step - loss: 108.1179 - mae: 108.1179 - mse: 70535.7969 - val_loss: 583.9372 - val_mae: 583.9372 - val_mse: 1199156.5000\n",
            "Epoch 76/100\n",
            "18/18 [==============================] - 0s 10ms/step - loss: 109.5447 - mae: 109.5447 - mse: 71991.1328 - val_loss: 592.8235 - val_mae: 592.8235 - val_mse: 1234671.6250\n",
            "Epoch 77/100\n",
            "18/18 [==============================] - 0s 11ms/step - loss: 108.3639 - mae: 108.3639 - mse: 70784.8125 - val_loss: 575.4260 - val_mae: 575.4260 - val_mse: 1197659.8750\n",
            "Epoch 78/100\n",
            "18/18 [==============================] - 0s 14ms/step - loss: 108.0055 - mae: 108.0055 - mse: 70093.0234 - val_loss: 574.3941 - val_mae: 574.3941 - val_mse: 1193026.1250\n",
            "Epoch 79/100\n",
            "18/18 [==============================] - 0s 8ms/step - loss: 107.3223 - mae: 107.3223 - mse: 71654.6562 - val_loss: 597.2478 - val_mae: 597.2478 - val_mse: 1242042.0000\n",
            "Epoch 80/100\n",
            "18/18 [==============================] - 0s 10ms/step - loss: 108.1452 - mae: 108.1452 - mse: 71775.7266 - val_loss: 586.6866 - val_mae: 586.6866 - val_mse: 1199789.2500\n",
            "Epoch 81/100\n",
            "18/18 [==============================] - 0s 9ms/step - loss: 106.1153 - mae: 106.1153 - mse: 69995.2422 - val_loss: 575.1765 - val_mae: 575.1765 - val_mse: 1195805.5000\n",
            "Epoch 82/100\n",
            "18/18 [==============================] - 0s 10ms/step - loss: 116.6344 - mae: 116.6344 - mse: 77928.7344 - val_loss: 575.4340 - val_mae: 575.4340 - val_mse: 1192046.3750\n",
            "Epoch 83/100\n",
            "18/18 [==============================] - 0s 15ms/step - loss: 110.8731 - mae: 110.8731 - mse: 72825.0703 - val_loss: 654.5366 - val_mae: 654.5366 - val_mse: 1375390.8750\n",
            "Epoch 84/100\n",
            "18/18 [==============================] - 1s 78ms/step - loss: 111.9106 - mae: 111.9106 - mse: 73183.8438 - val_loss: 572.3373 - val_mae: 572.3373 - val_mse: 1176463.6250\n",
            "Epoch 85/100\n",
            "18/18 [==============================] - 0s 8ms/step - loss: 106.6154 - mae: 106.6154 - mse: 70752.4453 - val_loss: 574.2833 - val_mae: 574.2833 - val_mse: 1178176.8750\n",
            "Epoch 86/100\n",
            "18/18 [==============================] - 0s 7ms/step - loss: 108.4299 - mae: 108.4299 - mse: 70129.7188 - val_loss: 583.3530 - val_mae: 583.3530 - val_mse: 1191900.3750\n",
            "Epoch 87/100\n",
            "18/18 [==============================] - 0s 7ms/step - loss: 105.7481 - mae: 105.7481 - mse: 68589.9375 - val_loss: 593.0121 - val_mae: 593.0121 - val_mse: 1230071.7500\n",
            "Epoch 88/100\n",
            "18/18 [==============================] - 1s 58ms/step - loss: 107.2604 - mae: 107.2604 - mse: 70897.3281 - val_loss: 571.7658 - val_mae: 571.7658 - val_mse: 1182082.7500\n",
            "Epoch 89/100\n",
            "18/18 [==============================] - 1s 82ms/step - loss: 106.7823 - mae: 106.7823 - mse: 69118.5625 - val_loss: 568.6370 - val_mae: 568.6370 - val_mse: 1174329.7500\n",
            "Epoch 90/100\n",
            "18/18 [==============================] - 0s 6ms/step - loss: 105.8682 - mae: 105.8682 - mse: 67370.6953 - val_loss: 602.9690 - val_mae: 602.9690 - val_mse: 1230767.2500\n",
            "Epoch 91/100\n",
            "18/18 [==============================] - 0s 7ms/step - loss: 110.6365 - mae: 110.6365 - mse: 72148.0391 - val_loss: 605.6947 - val_mae: 605.6947 - val_mse: 1257883.8750\n",
            "Epoch 92/100\n",
            "18/18 [==============================] - 0s 7ms/step - loss: 109.4668 - mae: 109.4668 - mse: 72193.7734 - val_loss: 572.4370 - val_mae: 572.4370 - val_mse: 1183753.2500\n",
            "Epoch 93/100\n",
            "18/18 [==============================] - 0s 8ms/step - loss: 113.0063 - mae: 113.0063 - mse: 73147.9609 - val_loss: 617.3001 - val_mae: 617.3001 - val_mse: 1284326.5000\n",
            "Epoch 94/100\n",
            "18/18 [==============================] - 0s 8ms/step - loss: 112.4903 - mae: 112.4903 - mse: 73928.3047 - val_loss: 599.9803 - val_mae: 599.9803 - val_mse: 1225950.7500\n",
            "Epoch 95/100\n",
            "18/18 [==============================] - 0s 7ms/step - loss: 106.0053 - mae: 106.0053 - mse: 68764.8672 - val_loss: 570.6210 - val_mae: 570.6210 - val_mse: 1175398.3750\n",
            "Epoch 96/100\n",
            "18/18 [==============================] - 0s 6ms/step - loss: 109.5910 - mae: 109.5910 - mse: 70458.2422 - val_loss: 676.3395 - val_mae: 676.3395 - val_mse: 1426408.5000\n",
            "Epoch 97/100\n",
            "18/18 [==============================] - 0s 7ms/step - loss: 110.2213 - mae: 110.2213 - mse: 72762.1250 - val_loss: 574.2988 - val_mae: 574.2988 - val_mse: 1177002.2500\n",
            "Epoch 98/100\n",
            "18/18 [==============================] - 0s 12ms/step - loss: 106.7290 - mae: 106.7290 - mse: 69964.2500 - val_loss: 576.7734 - val_mae: 576.7734 - val_mse: 1192501.1250\n",
            "Epoch 99/100\n",
            "18/18 [==============================] - 1s 54ms/step - loss: 106.9889 - mae: 106.9889 - mse: 70740.1953 - val_loss: 568.5499 - val_mae: 568.5499 - val_mse: 1172587.7500\n",
            "Epoch 100/100\n",
            "18/18 [==============================] - 0s 7ms/step - loss: 117.7622 - mae: 117.7622 - mse: 73195.7734 - val_loss: 662.5322 - val_mae: 662.5322 - val_mse: 1358191.8750\n"
          ]
        },
        {
          "output_type": "execute_result",
          "data": {
            "text/plain": [
              "<keras.callbacks.History at 0x7ff647373b50>"
            ]
          },
          "metadata": {},
          "execution_count": 35
        }
      ],
      "source": [
        "import tensorflow as tf\n",
        "from tensorflow.keras import layers\n",
        "\n",
        "tf.random.set_seed(42)\n",
        "\n",
        "# 1. Constructing A Model\n",
        "model_1 = tf.keras.Sequential([\n",
        "    layers.Dense(128, activation='relu'),\n",
        "    layers.Dense(HORIZON, activation='linear')\n",
        "], name='model_1_dense')\n",
        "\n",
        "# 2. Compiling A Model\n",
        "model_1.compile(loss=tf.keras.losses.MeanAbsoluteError(),\n",
        "                optimizer=tf.keras.optimizers.Adam(),\n",
        "                metrics=['mae', 'mse'])\n",
        "\n",
        "# 3. Fitting The Model\n",
        "model_1.fit(x=train_windows,\n",
        "            y=train_labels,\n",
        "            epochs=100,\n",
        "            verbose=1,\n",
        "            batch_size=128,\n",
        "            validation_data=(test_windows, test_labels),\n",
        "            callbacks=[create_model_checkpoint(model_name=model_1.name)])"
      ]
    },
    {
      "cell_type": "code",
      "execution_count": null,
      "metadata": {
        "colab": {
          "base_uri": "https://localhost:8080/"
        },
        "id": "VpXRIcbbkjig",
        "outputId": "162f53df-0238-4a6f-f101-fec238b59fbb"
      },
      "outputs": [
        {
          "output_type": "stream",
          "name": "stdout",
          "text": [
            "18/18 [==============================] - 0s 7ms/step - loss: 662.5322 - mae: 662.5322 - mse: 1358192.1250\n"
          ]
        },
        {
          "output_type": "execute_result",
          "data": {
            "text/plain": [
              "[662.5322265625, 662.5322265625, 1358192.125]"
            ]
          },
          "metadata": {},
          "execution_count": 36
        }
      ],
      "source": [
        "# Evaluating Model On Test Data\n",
        "model_1.evaluate(test_windows, test_labels)"
      ]
    },
    {
      "cell_type": "code",
      "execution_count": null,
      "metadata": {
        "colab": {
          "base_uri": "https://localhost:8080/"
        },
        "id": "fdYuzFBumOO3",
        "outputId": "a1219c36-21fb-4eb3-d22a-6458d1db0997"
      },
      "outputs": [
        {
          "output_type": "stream",
          "name": "stdout",
          "text": [
            "18/18 [==============================] - 0s 2ms/step - loss: 568.5499 - mae: 568.5499 - mse: 1172587.7500\n"
          ]
        },
        {
          "output_type": "execute_result",
          "data": {
            "text/plain": [
              "[568.5498657226562, 568.5498657226562, 1172587.75]"
            ]
          },
          "metadata": {},
          "execution_count": 37
        }
      ],
      "source": [
        "# Loading In The saved Best Performing model_1 And Evaluate It On Test Data\n",
        "model_1 = tf.keras.models.load_model('model_experiments/model_1_dense/')\n",
        "model_1.evaluate(test_windows, test_labels)"
      ]
    },
    {
      "cell_type": "markdown",
      "metadata": {
        "id": "DFkktzusm3i-"
      },
      "source": [
        "##MAKING FORECASTS WITH A MODEL (ON THE TEST DATASET)"
      ]
    },
    {
      "cell_type": "code",
      "execution_count": null,
      "metadata": {
        "id": "aDXhVA9Fnbs4"
      },
      "outputs": [],
      "source": [
        "def make_preds(model, input_data):\n",
        "  \"\"\"\n",
        "  Uses Model To Make Predictions input_data.\n",
        "  \"\"\"\n",
        "  forecast = model.predict(input_data)\n",
        "  return tf.squeeze(forecast)"
      ]
    },
    {
      "cell_type": "code",
      "execution_count": null,
      "metadata": {
        "colab": {
          "base_uri": "https://localhost:8080/"
        },
        "id": "9bcC38YJn6lt",
        "outputId": "a5d4fa36-2f63-4d80-adf7-c28a160abb78"
      },
      "outputs": [
        {
          "output_type": "execute_result",
          "data": {
            "text/plain": [
              "(556, <tf.Tensor: shape=(10,), dtype=float32, numpy=\n",
              " array([8874.493, 8789.944, 9040.986, 8804.829, 8741.21 , 8749.835,\n",
              "        8705.865, 8513.171, 8478.415, 8536.302], dtype=float32)>)"
            ]
          },
          "metadata": {},
          "execution_count": 39
        }
      ],
      "source": [
        "# Making Predictions Using model_1 On The Test Dataset And Viewing Results\n",
        "model_1_preds = make_preds(model_1, test_windows)\n",
        "len(model_1_preds), model_1_preds[:10]"
      ]
    },
    {
      "cell_type": "code",
      "execution_count": null,
      "metadata": {
        "colab": {
          "base_uri": "https://localhost:8080/"
        },
        "id": "8aQ9jsH0pMW_",
        "outputId": "2b0c363b-9db2-4863-fabc-e9cf74818dfe"
      },
      "outputs": [
        {
          "output_type": "execute_result",
          "data": {
            "text/plain": [
              "{'MAE': 568.5498,\n",
              " 'MSE': 1172587.6,\n",
              " 'RMSE': 1082.8608,\n",
              " 'MAPE': 2.549229,\n",
              " 'MASE': 0.99878454}"
            ]
          },
          "metadata": {},
          "execution_count": 40
        }
      ],
      "source": [
        "# Evaluation preds\n",
        "model_1_results = evaluate_preds(y_true=tf.squeeze(test_labels),\n",
        "                                 y_pred=model_1_preds)\n",
        "model_1_results"
      ]
    },
    {
      "cell_type": "code",
      "execution_count": null,
      "metadata": {
        "id": "6Sx-A1EKpjCl",
        "colab": {
          "base_uri": "https://localhost:8080/"
        },
        "outputId": "5f971011-e112-4219-8dd3-023a9642a7a2"
      },
      "outputs": [
        {
          "output_type": "execute_result",
          "data": {
            "text/plain": [
              "{'MAE': 567.9802,\n",
              " 'MSE': 1147547.0,\n",
              " 'RMSE': 1071.2362,\n",
              " 'MAPE': 2.5165248,\n",
              " 'MASE': 0.99957}"
            ]
          },
          "metadata": {},
          "execution_count": 41
        }
      ],
      "source": [
        "naive_results"
      ]
    },
    {
      "cell_type": "code",
      "execution_count": null,
      "metadata": {
        "id": "3lzZvsWBqCGP",
        "colab": {
          "base_uri": "https://localhost:8080/",
          "height": 442
        },
        "outputId": "4d8c4a77-5656-40b9-e1a4-e47cbe19cb0f"
      },
      "outputs": [
        {
          "output_type": "display_data",
          "data": {
            "text/plain": [
              "<Figure size 720x504 with 1 Axes>"
            ],
            "image/png": "[encoded data removed]"
          },
          "metadata": {
            "needs_background": "light"
          }
        }
      ],
      "source": [
        "# Plotting Our model 1 Predictions\n",
        "offset = 300\n",
        "plt.figure(figsize=(10, 7))\n",
        "plot_time_series(timesteps=X_test[-len(test_windows):],\n",
        "                 values=test_labels[:, 0],\n",
        "                 start=offset,\n",
        "                 label='Test Data')\n",
        "plot_time_series(timesteps=X_test[-len(test_windows):],\n",
        "                 values=model_1_preds,\n",
        "                 start=offset,\n",
        "                 format='-',\n",
        "                 label='model_1_preds')"
      ]
    },
    {
      "cell_type": "markdown",
      "metadata": {
        "id": "m34yuwlErjXU"
      },
      "source": [
        "##MODEL 2 : DENSE (window = 30, horizon = 1)"
      ]
    },
    {
      "cell_type": "code",
      "execution_count": null,
      "metadata": {
        "id": "STXU5zQ0sUz_"
      },
      "outputs": [],
      "source": [
        "HORIZON = 1\n",
        "WINDOW_SIZE = 30"
      ]
    },
    {
      "cell_type": "code",
      "execution_count": null,
      "metadata": {
        "id": "O6hPfcNNszkO",
        "colab": {
          "base_uri": "https://localhost:8080/"
        },
        "outputId": "04436c9b-a88d-490c-c679-febd8a0f6dca"
      },
      "outputs": [
        {
          "output_type": "execute_result",
          "data": {
            "text/plain": [
              "(2757, 2757)"
            ]
          },
          "metadata": {},
          "execution_count": 44
        }
      ],
      "source": [
        "# Making Windowed Data With Appropriate horizon And window Sizes\n",
        "full_windows, full_labels = make_windows(prices, windows_size=WINDOW_SIZE, horizon=HORIZON)\n",
        "len(full_windows), len(full_labels)"
      ]
    },
    {
      "cell_type": "code",
      "execution_count": null,
      "metadata": {
        "id": "VEefLXRytaGK",
        "colab": {
          "base_uri": "https://localhost:8080/"
        },
        "outputId": "d61f77de-0c3e-4129-a970-7b38068f2405"
      },
      "outputs": [
        {
          "output_type": "execute_result",
          "data": {
            "text/plain": [
              "(2205, 552, 2205, 552)"
            ]
          },
          "metadata": {},
          "execution_count": 45
        }
      ],
      "source": [
        "# Making training And testing Windows\n",
        "train_windows, test_windows, train_labels, test_labels = make_train_test_splits(windows=full_windows,\n",
        "                                                                                labels=full_labels,\n",
        "                                                                                test_split=0.2)\n",
        "\n",
        "len(train_windows), len(test_windows), len(train_labels), len(test_labels)"
      ]
    },
    {
      "cell_type": "code",
      "execution_count": null,
      "metadata": {
        "id": "G9qpElDlunU4",
        "colab": {
          "base_uri": "https://localhost:8080/"
        },
        "outputId": "4456f669-6406-4481-a106-5f002169377a"
      },
      "outputs": [
        {
          "output_type": "execute_result",
          "data": {
            "text/plain": [
              "<keras.callbacks.History at 0x7ff643b48c10>"
            ]
          },
          "metadata": {},
          "execution_count": 46
        }
      ],
      "source": [
        "tf.random.set_seed(42)\n",
        "\n",
        "# Creating Model\n",
        "model_2 = tf.keras.Sequential([\n",
        "    layers.Dense(128, activation='relu'),\n",
        "    layers.Dense(HORIZON),\n",
        "], name='model_2_dense')\n",
        "\n",
        "# Compiling The Model\n",
        "model_2.compile(loss=tf.keras.losses.MeanAbsoluteError(),\n",
        "                optimizer=tf.keras.optimizers.Adam())\n",
        "\n",
        "# Fitting The Model\n",
        "model_2.fit(train_windows,\n",
        "            train_labels,\n",
        "            epochs=100,\n",
        "            batch_size=128,\n",
        "            verbose=0,\n",
        "            validation_data=(test_windows, test_labels),\n",
        "            callbacks=[create_model_checkpoint(model_name=model_2.name)])"
      ]
    },
    {
      "cell_type": "code",
      "execution_count": null,
      "metadata": {
        "id": "pCJXuEW8zfwI",
        "colab": {
          "base_uri": "https://localhost:8080/"
        },
        "outputId": "97978f58-98f9-4fcd-83d3-7ac77dd6ae4c"
      },
      "outputs": [
        {
          "output_type": "stream",
          "name": "stdout",
          "text": [
            "18/18 [==============================] - 0s 2ms/step - loss: 658.0289\n"
          ]
        },
        {
          "output_type": "execute_result",
          "data": {
            "text/plain": [
              "658.0288696289062"
            ]
          },
          "metadata": {},
          "execution_count": 47
        }
      ],
      "source": [
        "# Evaluating model_2 On test data\n",
        "model_2.evaluate(test_windows, test_labels)"
      ]
    },
    {
      "cell_type": "code",
      "execution_count": null,
      "metadata": {
        "id": "JPrFzaVVzqdB",
        "colab": {
          "base_uri": "https://localhost:8080/"
        },
        "outputId": "8d447c12-a02a-48b4-9423-ee2326aaec75"
      },
      "outputs": [
        {
          "output_type": "stream",
          "name": "stdout",
          "text": [
            "18/18 [==============================] - 0s 1ms/step - loss: 608.8480\n"
          ]
        },
        {
          "output_type": "execute_result",
          "data": {
            "text/plain": [
              "608.8480224609375"
            ]
          },
          "metadata": {},
          "execution_count": 48
        }
      ],
      "source": [
        "# Loading In The Best Performing Model\n",
        "model_2 = tf.keras.models.load_model('/content/model_experiments/model_2_dense/')\n",
        "model_2.evaluate(test_windows, test_labels)"
      ]
    },
    {
      "cell_type": "code",
      "execution_count": null,
      "metadata": {
        "id": "mWqJ7XVl0Er2"
      },
      "outputs": [],
      "source": [
        "# Getting Forecast Predictions\n",
        "model_2_preds = make_preds(model_2,\n",
        "                           input_data=test_windows)"
      ]
    },
    {
      "cell_type": "code",
      "execution_count": null,
      "metadata": {
        "id": "CX8UCsBv127i",
        "colab": {
          "base_uri": "https://localhost:8080/"
        },
        "outputId": "6493dc37-1c75-4b9b-b09c-d077d37fb35d"
      },
      "outputs": [
        {
          "output_type": "execute_result",
          "data": {
            "text/plain": [
              "((552, 1), TensorShape([552]))"
            ]
          },
          "metadata": {},
          "execution_count": 50
        }
      ],
      "source": [
        "test_labels.shape, model_2_preds.shape"
      ]
    },
    {
      "cell_type": "code",
      "execution_count": null,
      "metadata": {
        "id": "7A9h8VTb0ZYu",
        "colab": {
          "base_uri": "https://localhost:8080/"
        },
        "outputId": "6396c09c-14f1-4166-eb41-d6497b71c6ed"
      },
      "outputs": [
        {
          "output_type": "execute_result",
          "data": {
            "text/plain": [
              "{'MAE': 608.84814,\n",
              " 'MSE': 1284314.4,\n",
              " 'RMSE': 1133.276,\n",
              " 'MAPE': 2.7680664,\n",
              " 'MASE': 1.0642724}"
            ]
          },
          "metadata": {},
          "execution_count": 51
        }
      ],
      "source": [
        "# Evaluating Results For model_2 Predictions\n",
        "model_2_results = evaluate_preds(y_true=tf.squeeze(test_labels),\n",
        "                                 y_pred=model_2_preds)\n",
        "model_2_results"
      ]
    },
    {
      "cell_type": "code",
      "execution_count": null,
      "metadata": {
        "id": "n_HJUK781ZIF",
        "colab": {
          "base_uri": "https://localhost:8080/"
        },
        "outputId": "51f2b548-be25-4104-83d5-08f058e31e25"
      },
      "outputs": [
        {
          "output_type": "execute_result",
          "data": {
            "text/plain": [
              "{'MAE': 568.5498,\n",
              " 'MSE': 1172587.6,\n",
              " 'RMSE': 1082.8608,\n",
              " 'MAPE': 2.549229,\n",
              " 'MASE': 0.99878454}"
            ]
          },
          "metadata": {},
          "execution_count": 52
        }
      ],
      "source": [
        "model_1_results"
      ]
    },
    {
      "cell_type": "code",
      "execution_count": null,
      "metadata": {
        "id": "0bamxUxr-Gx0",
        "colab": {
          "base_uri": "https://localhost:8080/",
          "height": 442
        },
        "outputId": "3e3da8e7-3d90-42a5-dfc1-fb8b55377c04"
      },
      "outputs": [
        {
          "output_type": "display_data",
          "data": {
            "text/plain": [
              "<Figure size 720x504 with 1 Axes>"
            ],
            "image/png": "[encoded data removed]"
          },
          "metadata": {
            "needs_background": "light"
          }
        }
      ],
      "source": [
        "offset = 300\n",
        "plt.figure(figsize=(10, 7))\n",
        "plot_time_series(timesteps=X_test[-len(test_windows):],\n",
        "                 values=test_labels[:, 0],\n",
        "                 start=offset,\n",
        "                 label='Test Data')\n",
        "plot_time_series(timesteps=X_test[-len(test_windows):],\n",
        "                 values=model_2_preds,\n",
        "                 start=offset,\n",
        "                 format='-',\n",
        "                 label='model_2_preds')"
      ]
    },
    {
      "cell_type": "markdown",
      "metadata": {
        "id": "ZMewGcc8_Xlq"
      },
      "source": [
        "##MODEL 3 : DENSE (window = 30, horizon = 7)"
      ]
    },
    {
      "cell_type": "code",
      "execution_count": null,
      "metadata": {
        "id": "osKCJZVTBn1-",
        "colab": {
          "base_uri": "https://localhost:8080/"
        },
        "outputId": "6dfcb825-29a3-4187-c199-2761d6548b4c"
      },
      "outputs": [
        {
          "output_type": "execute_result",
          "data": {
            "text/plain": [
              "(2751, 2751)"
            ]
          },
          "metadata": {},
          "execution_count": 54
        }
      ],
      "source": [
        "HORIZON = 7\n",
        "WINDOW_SIZE = 30\n",
        "\n",
        "full_windows, full_labels = make_windows(prices, windows_size=WINDOW_SIZE, horizon=HORIZON)\n",
        "len(full_windows), len(full_labels)"
      ]
    },
    {
      "cell_type": "code",
      "execution_count": null,
      "metadata": {
        "id": "_QcNDOlTCCUc",
        "colab": {
          "base_uri": "https://localhost:8080/"
        },
        "outputId": "309eb7a9-68c2-4d87-9316-9d2913e4b35c"
      },
      "outputs": [
        {
          "output_type": "execute_result",
          "data": {
            "text/plain": [
              "(2200, 551, 2200, 551)"
            ]
          },
          "metadata": {},
          "execution_count": 55
        }
      ],
      "source": [
        "train_windows, test_windows, train_labels, test_labels = make_train_test_splits(windows=full_windows,\n",
        "                                                                                labels=full_labels)\n",
        "len(train_windows), len(test_windows), len(train_labels), len(test_labels)"
      ]
    },
    {
      "cell_type": "code",
      "execution_count": null,
      "metadata": {
        "id": "SHGwqEfjCuAR",
        "colab": {
          "base_uri": "https://localhost:8080/"
        },
        "outputId": "b441450d-9c83-457c-baff-0fceb52a1690"
      },
      "outputs": [
        {
          "output_type": "stream",
          "name": "stdout",
          "text": [
            "Epoch 1/100\n",
            "18/18 [==============================] - 1s 34ms/step - loss: 1476.6801 - val_loss: 3088.5391\n",
            "Epoch 2/100\n",
            "18/18 [==============================] - 1s 30ms/step - loss: 552.8872 - val_loss: 2462.5020\n",
            "Epoch 3/100\n",
            "18/18 [==============================] - 1s 31ms/step - loss: 435.1955 - val_loss: 2282.7729\n",
            "Epoch 4/100\n",
            "18/18 [==============================] - 0s 29ms/step - loss: 391.9522 - val_loss: 1980.5011\n",
            "Epoch 5/100\n",
            "18/18 [==============================] - 0s 3ms/step - loss: 357.7267 - val_loss: 1985.0293\n",
            "Epoch 6/100\n",
            "18/18 [==============================] - 1s 32ms/step - loss: 332.7856 - val_loss: 1754.1522\n",
            "Epoch 7/100\n",
            "18/18 [==============================] - 1s 30ms/step - loss: 309.8981 - val_loss: 1590.3005\n",
            "Epoch 8/100\n",
            "18/18 [==============================] - 1s 29ms/step - loss: 302.8700 - val_loss: 1565.3329\n",
            "Epoch 9/100\n",
            "18/18 [==============================] - 0s 4ms/step - loss: 293.6388 - val_loss: 1611.2915\n",
            "Epoch 10/100\n",
            "18/18 [==============================] - 0s 29ms/step - loss: 292.9813 - val_loss: 1515.2767\n",
            "Epoch 11/100\n",
            "18/18 [==============================] - 1s 32ms/step - loss: 283.2764 - val_loss: 1477.6067\n",
            "Epoch 12/100\n",
            "18/18 [==============================] - 0s 4ms/step - loss: 275.6171 - val_loss: 1523.7949\n",
            "Epoch 13/100\n",
            "18/18 [==============================] - 1s 30ms/step - loss: 271.0623 - val_loss: 1454.5190\n",
            "Epoch 14/100\n",
            "18/18 [==============================] - 1s 45ms/step - loss: 270.5262 - val_loss: 1419.8560\n",
            "Epoch 15/100\n",
            "18/18 [==============================] - 0s 4ms/step - loss: 264.9192 - val_loss: 1514.7672\n",
            "Epoch 16/100\n",
            "18/18 [==============================] - 0s 3ms/step - loss: 263.9895 - val_loss: 1428.1069\n",
            "Epoch 17/100\n",
            "18/18 [==============================] - 0s 4ms/step - loss: 262.7860 - val_loss: 1509.7175\n",
            "Epoch 18/100\n",
            "18/18 [==============================] - 0s 5ms/step - loss: 261.2750 - val_loss: 1485.4717\n",
            "Epoch 19/100\n",
            "18/18 [==============================] - 0s 5ms/step - loss: 258.8603 - val_loss: 1498.3242\n",
            "Epoch 20/100\n",
            "18/18 [==============================] - 0s 3ms/step - loss: 261.5325 - val_loss: 1431.1338\n",
            "Epoch 21/100\n",
            "18/18 [==============================] - 0s 4ms/step - loss: 256.0999 - val_loss: 1434.0571\n",
            "Epoch 22/100\n",
            "18/18 [==============================] - 0s 4ms/step - loss: 257.1093 - val_loss: 1432.9050\n",
            "Epoch 23/100\n",
            "18/18 [==============================] - 0s 29ms/step - loss: 260.5021 - val_loss: 1380.8607\n",
            "Epoch 24/100\n",
            "18/18 [==============================] - 1s 32ms/step - loss: 266.9105 - val_loss: 1377.7487\n",
            "Epoch 25/100\n",
            "18/18 [==============================] - 0s 4ms/step - loss: 253.5253 - val_loss: 1491.6226\n",
            "Epoch 26/100\n",
            "18/18 [==============================] - 0s 4ms/step - loss: 252.3594 - val_loss: 1396.9802\n",
            "Epoch 27/100\n",
            "18/18 [==============================] - 0s 3ms/step - loss: 249.1352 - val_loss: 1436.5671\n",
            "Epoch 28/100\n",
            "18/18 [==============================] - 0s 4ms/step - loss: 249.6862 - val_loss: 1401.4629\n",
            "Epoch 29/100\n",
            "18/18 [==============================] - 0s 3ms/step - loss: 249.7410 - val_loss: 1394.3362\n",
            "Epoch 30/100\n",
            "18/18 [==============================] - 1s 32ms/step - loss: 249.0822 - val_loss: 1347.6769\n",
            "Epoch 31/100\n",
            "18/18 [==============================] - 0s 4ms/step - loss: 244.0749 - val_loss: 1348.6328\n",
            "Epoch 32/100\n",
            "18/18 [==============================] - 1s 32ms/step - loss: 246.8022 - val_loss: 1329.3359\n",
            "Epoch 33/100\n",
            "18/18 [==============================] - 0s 4ms/step - loss: 245.9506 - val_loss: 1384.7731\n",
            "Epoch 34/100\n",
            "18/18 [==============================] - 0s 4ms/step - loss: 246.0174 - val_loss: 1355.9598\n",
            "Epoch 35/100\n",
            "18/18 [==============================] - 0s 4ms/step - loss: 243.7620 - val_loss: 1363.7579\n",
            "Epoch 36/100\n",
            "18/18 [==============================] - 0s 3ms/step - loss: 241.1248 - val_loss: 1410.3391\n",
            "Epoch 37/100\n",
            "18/18 [==============================] - 0s 4ms/step - loss: 258.0173 - val_loss: 1349.0780\n",
            "Epoch 38/100\n",
            "18/18 [==============================] - 0s 4ms/step - loss: 239.5506 - val_loss: 1361.1649\n",
            "Epoch 39/100\n",
            "18/18 [==============================] - 0s 4ms/step - loss: 245.0304 - val_loss: 1396.5168\n",
            "Epoch 40/100\n",
            "18/18 [==============================] - 0s 3ms/step - loss: 240.2838 - val_loss: 1475.3779\n",
            "Epoch 41/100\n",
            "18/18 [==============================] - 0s 4ms/step - loss: 242.0395 - val_loss: 1403.7788\n",
            "Epoch 42/100\n",
            "18/18 [==============================] - 0s 3ms/step - loss: 245.7990 - val_loss: 1335.5558\n",
            "Epoch 43/100\n",
            "18/18 [==============================] - 0s 4ms/step - loss: 240.2967 - val_loss: 1371.6216\n",
            "Epoch 44/100\n",
            "18/18 [==============================] - 1s 30ms/step - loss: 250.6715 - val_loss: 1292.5607\n",
            "Epoch 45/100\n",
            "18/18 [==============================] - 0s 3ms/step - loss: 244.9295 - val_loss: 1513.4651\n",
            "Epoch 46/100\n",
            "18/18 [==============================] - 0s 3ms/step - loss: 242.6354 - val_loss: 1294.0117\n",
            "Epoch 47/100\n",
            "18/18 [==============================] - 0s 3ms/step - loss: 236.4085 - val_loss: 1323.3668\n",
            "Epoch 48/100\n",
            "18/18 [==============================] - 0s 4ms/step - loss: 234.9307 - val_loss: 1314.9104\n",
            "Epoch 49/100\n",
            "18/18 [==============================] - 0s 3ms/step - loss: 240.2824 - val_loss: 1314.3116\n",
            "Epoch 50/100\n",
            "18/18 [==============================] - 0s 4ms/step - loss: 235.9135 - val_loss: 1300.9117\n",
            "Epoch 51/100\n",
            "18/18 [==============================] - 0s 5ms/step - loss: 244.2592 - val_loss: 1401.4980\n",
            "Epoch 52/100\n",
            "18/18 [==============================] - 0s 4ms/step - loss: 233.0795 - val_loss: 1322.4376\n",
            "Epoch 53/100\n",
            "18/18 [==============================] - 1s 31ms/step - loss: 231.7043 - val_loss: 1289.7489\n",
            "Epoch 54/100\n",
            "18/18 [==============================] - 0s 3ms/step - loss: 236.4574 - val_loss: 1304.5195\n",
            "Epoch 55/100\n",
            "18/18 [==============================] - 0s 4ms/step - loss: 233.9601 - val_loss: 1325.4091\n",
            "Epoch 56/100\n",
            "18/18 [==============================] - 0s 3ms/step - loss: 234.6053 - val_loss: 1342.9772\n",
            "Epoch 57/100\n",
            "18/18 [==============================] - 0s 5ms/step - loss: 235.8340 - val_loss: 1398.1770\n",
            "Epoch 58/100\n",
            "18/18 [==============================] - 0s 4ms/step - loss: 232.2876 - val_loss: 1307.6246\n",
            "Epoch 59/100\n",
            "18/18 [==============================] - 0s 4ms/step - loss: 231.2605 - val_loss: 1292.0947\n",
            "Epoch 60/100\n",
            "18/18 [==============================] - 1s 30ms/step - loss: 230.9664 - val_loss: 1271.3101\n",
            "Epoch 61/100\n",
            "18/18 [==============================] - 0s 5ms/step - loss: 230.5149 - val_loss: 1461.6400\n",
            "Epoch 62/100\n",
            "18/18 [==============================] - 0s 4ms/step - loss: 233.8956 - val_loss: 1303.2072\n",
            "Epoch 63/100\n",
            "18/18 [==============================] - 0s 4ms/step - loss: 236.4534 - val_loss: 1382.0212\n",
            "Epoch 64/100\n",
            "18/18 [==============================] - 1s 29ms/step - loss: 231.5335 - val_loss: 1258.1943\n",
            "Epoch 65/100\n",
            "18/18 [==============================] - 0s 5ms/step - loss: 233.2865 - val_loss: 1395.1260\n",
            "Epoch 66/100\n",
            "18/18 [==============================] - 0s 4ms/step - loss: 233.4467 - val_loss: 1472.3950\n",
            "Epoch 67/100\n",
            "18/18 [==============================] - 0s 4ms/step - loss: 237.0803 - val_loss: 1277.4172\n",
            "Epoch 68/100\n",
            "18/18 [==============================] - 0s 4ms/step - loss: 229.8266 - val_loss: 1342.0269\n",
            "Epoch 69/100\n",
            "18/18 [==============================] - 0s 4ms/step - loss: 229.1300 - val_loss: 1536.4250\n",
            "Epoch 70/100\n",
            "18/18 [==============================] - 0s 4ms/step - loss: 235.6916 - val_loss: 1278.5677\n",
            "Epoch 71/100\n",
            "18/18 [==============================] - 1s 31ms/step - loss: 226.6589 - val_loss: 1258.1080\n",
            "Epoch 72/100\n",
            "18/18 [==============================] - 0s 29ms/step - loss: 228.9357 - val_loss: 1250.1577\n",
            "Epoch 73/100\n",
            "18/18 [==============================] - 0s 3ms/step - loss: 226.1103 - val_loss: 1278.9072\n",
            "Epoch 74/100\n",
            "18/18 [==============================] - 0s 3ms/step - loss: 230.0703 - val_loss: 1364.9247\n",
            "Epoch 75/100\n",
            "18/18 [==============================] - 0s 3ms/step - loss: 227.6293 - val_loss: 1386.9498\n",
            "Epoch 76/100\n",
            "18/18 [==============================] - 0s 4ms/step - loss: 228.9475 - val_loss: 1282.8600\n",
            "Epoch 77/100\n",
            "18/18 [==============================] - 1s 30ms/step - loss: 225.1728 - val_loss: 1234.3922\n",
            "Epoch 78/100\n",
            "18/18 [==============================] - 0s 3ms/step - loss: 229.5752 - val_loss: 1258.4149\n",
            "Epoch 79/100\n",
            "18/18 [==============================] - 0s 5ms/step - loss: 228.7715 - val_loss: 1314.1998\n",
            "Epoch 80/100\n",
            "18/18 [==============================] - 0s 3ms/step - loss: 229.0316 - val_loss: 1302.7209\n",
            "Epoch 81/100\n",
            "18/18 [==============================] - 0s 4ms/step - loss: 226.3574 - val_loss: 1250.7902\n",
            "Epoch 82/100\n",
            "18/18 [==============================] - 0s 4ms/step - loss: 224.8654 - val_loss: 1271.8049\n",
            "Epoch 83/100\n",
            "18/18 [==============================] - 0s 5ms/step - loss: 224.5736 - val_loss: 1289.4341\n",
            "Epoch 84/100\n",
            "18/18 [==============================] - 0s 4ms/step - loss: 225.7016 - val_loss: 1259.0988\n",
            "Epoch 85/100\n",
            "18/18 [==============================] - 0s 4ms/step - loss: 226.3121 - val_loss: 1267.8599\n",
            "Epoch 86/100\n",
            "18/18 [==============================] - 0s 3ms/step - loss: 224.5820 - val_loss: 1281.6602\n",
            "Epoch 87/100\n",
            "18/18 [==============================] - 0s 4ms/step - loss: 228.1579 - val_loss: 1371.5221\n",
            "Epoch 88/100\n",
            "18/18 [==============================] - 0s 4ms/step - loss: 227.8217 - val_loss: 1460.1110\n",
            "Epoch 89/100\n",
            "18/18 [==============================] - 0s 3ms/step - loss: 229.7546 - val_loss: 1283.3890\n",
            "Epoch 90/100\n",
            "18/18 [==============================] - 0s 3ms/step - loss: 231.4251 - val_loss: 1359.4939\n",
            "Epoch 91/100\n",
            "18/18 [==============================] - 0s 3ms/step - loss: 225.5690 - val_loss: 1269.3485\n",
            "Epoch 92/100\n",
            "18/18 [==============================] - 0s 3ms/step - loss: 226.3247 - val_loss: 1243.8672\n",
            "Epoch 93/100\n",
            "18/18 [==============================] - 0s 4ms/step - loss: 231.3765 - val_loss: 1319.8845\n",
            "Epoch 94/100\n",
            "18/18 [==============================] - 0s 4ms/step - loss: 226.6964 - val_loss: 1302.1136\n",
            "Epoch 95/100\n",
            "18/18 [==============================] - 0s 4ms/step - loss: 228.1130 - val_loss: 1269.6951\n",
            "Epoch 96/100\n",
            "18/18 [==============================] - 0s 3ms/step - loss: 230.4718 - val_loss: 1404.5326\n",
            "Epoch 97/100\n",
            "18/18 [==============================] - 0s 4ms/step - loss: 230.1207 - val_loss: 1290.2529\n",
            "Epoch 98/100\n",
            "18/18 [==============================] - 0s 4ms/step - loss: 229.7066 - val_loss: 1314.9495\n",
            "Epoch 99/100\n",
            "18/18 [==============================] - 1s 30ms/step - loss: 225.6212 - val_loss: 1228.1417\n",
            "Epoch 100/100\n",
            "18/18 [==============================] - 0s 4ms/step - loss: 222.7613 - val_loss: 1322.7781\n"
          ]
        },
        {
          "output_type": "execute_result",
          "data": {
            "text/plain": [
              "<keras.callbacks.History at 0x7ff6434af4d0>"
            ]
          },
          "metadata": {},
          "execution_count": 56
        }
      ],
      "source": [
        "tf.random.set_seed(42)\n",
        "\n",
        "# Creating A Model\n",
        "model_3 = tf.keras.Sequential([\n",
        "    layers.Dense(128, activation='relu'),\n",
        "    layers.Dense(HORIZON)\n",
        "], name='model_3_dense')\n",
        "\n",
        "# Compiling The Model\n",
        "model_3.compile(loss=tf.keras.losses.MeanAbsoluteError(),\n",
        "                optimizer=tf.keras.optimizers.Adam())\n",
        "\n",
        "# Fitting The Model\n",
        "model_3.fit(train_windows,\n",
        "            train_labels,\n",
        "            batch_size=128,\n",
        "            epochs=100,\n",
        "            verbose=1,\n",
        "            validation_data=(test_windows, test_labels),\n",
        "            callbacks=[create_model_checkpoint(model_name=model_3.name)])"
      ]
    },
    {
      "cell_type": "code",
      "execution_count": null,
      "metadata": {
        "id": "V3_6hNdREebx",
        "colab": {
          "base_uri": "https://localhost:8080/"
        },
        "outputId": "4845cb06-2bd2-4de6-a5da-ffde3c9ecfee"
      },
      "outputs": [
        {
          "output_type": "stream",
          "name": "stdout",
          "text": [
            "18/18 [==============================] - 0s 1ms/step - loss: 1322.7781\n"
          ]
        },
        {
          "output_type": "execute_result",
          "data": {
            "text/plain": [
              "1322.778076171875"
            ]
          },
          "metadata": {},
          "execution_count": 57
        }
      ],
      "source": [
        "# Evaluating The Model On The Test Data\n",
        "model_3.evaluate(test_windows, test_labels)"
      ]
    },
    {
      "cell_type": "code",
      "execution_count": null,
      "metadata": {
        "id": "RPKI6pxEJuHY",
        "colab": {
          "base_uri": "https://localhost:8080/"
        },
        "outputId": "773399cd-a353-458a-ffe3-6f229f63eb2e"
      },
      "outputs": [
        {
          "output_type": "stream",
          "name": "stdout",
          "text": [
            "18/18 [==============================] - 0s 2ms/step - loss: 1228.1417\n"
          ]
        },
        {
          "output_type": "execute_result",
          "data": {
            "text/plain": [
              "1228.1417236328125"
            ]
          },
          "metadata": {},
          "execution_count": 58
        }
      ],
      "source": [
        "# Loading The Best Version Of model_3 And Evaluating\n",
        "model_3 = tf.keras.models.load_model('model_experiments/model_3_dense')\n",
        "model_3.evaluate(test_windows, test_labels)"
      ]
    },
    {
      "cell_type": "code",
      "execution_count": null,
      "metadata": {
        "id": "Q3_lkIHwKR6f",
        "colab": {
          "base_uri": "https://localhost:8080/"
        },
        "outputId": "c0520ce7-56dc-4fb3-9fae-99e2142629db"
      },
      "outputs": [
        {
          "output_type": "execute_result",
          "data": {
            "text/plain": [
              "<tf.Tensor: shape=(5, 7), dtype=float32, numpy=\n",
              "array([[9233.328 , 9332.702 , 9363.651 , 9442.775 , 9401.978 , 9414.001 ,\n",
              "        9280.01  ],\n",
              "       [8911.084 , 9065.984 , 9113.08  , 9026.601 , 8990.093 , 9000.148 ,\n",
              "        9053.433 ],\n",
              "       [8848.506 , 9018.2295, 9006.146 , 8934.578 , 8929.888 , 8856.351 ,\n",
              "        8958.367 ],\n",
              "       [9048.449 , 9058.819 , 8966.749 , 9127.248 , 8982.123 , 9056.629 ,\n",
              "        9002.575 ],\n",
              "       [8958.309 , 9008.146 , 8827.891 , 8995.736 , 9129.433 , 9099.142 ,\n",
              "        8881.021 ]], dtype=float32)>"
            ]
          },
          "metadata": {},
          "execution_count": 59
        }
      ],
      "source": [
        "# Making Predictions With model_3\n",
        "model_3_preds = make_preds(model_3,\n",
        "                           input_data=test_windows)\n",
        "\n",
        "model_3_preds[:5]"
      ]
    },
    {
      "cell_type": "code",
      "execution_count": null,
      "metadata": {
        "id": "XUkfMSleKkqS",
        "colab": {
          "base_uri": "https://localhost:8080/"
        },
        "outputId": "23f82dbc-eb53-469e-c560-f11e58ce33d2"
      },
      "outputs": [
        {
          "output_type": "execute_result",
          "data": {
            "text/plain": [
              "{'MAE': array([  559.42004 ,   276.0053  ,   298.20258 ,   408.06152 ,\n",
              "          431.32047 ,   526.28064 ,   542.41644 ,   459.79108 ,\n",
              "          490.63736 ,   631.6582  ,   802.51654 ,   731.79333 ,\n",
              "          684.06476 ,   789.71857 ,   563.4593  ,   271.9013  ,\n",
              "          231.86858 ,   258.64767 ,   277.65277 ,   291.5478  ,\n",
              "          105.425575,   132.63156 ,   205.97643 ,   262.20816 ,\n",
              "          169.8651  ,   165.05127 ,   110.21959 ,    83.64655 ,\n",
              "          115.86182 ,   152.87025 ,   279.98862 ,   380.96127 ,\n",
              "          280.21414 ,   271.9101  ,   264.43088 ,   261.91315 ,\n",
              "          330.29108 ,   242.21861 ,   253.72746 ,   245.38596 ,\n",
              "          412.562   ,   128.63539 ,    88.56452 ,    92.15639 ,\n",
              "          100.39704 ,   102.41455 ,    74.52804 ,    94.00349 ,\n",
              "           84.86837 ,    76.64781 ,   108.49679 ,   144.869   ,\n",
              "          187.69133 ,   162.5261  ,   265.83133 ,   391.21323 ,\n",
              "          552.2943  ,   541.77313 ,   522.20886 ,   523.98157 ,\n",
              "          430.13052 ,   276.80893 ,   263.94058 ,   346.60178 ,\n",
              "          449.3755  ,   494.68695 ,   524.3805  ,   532.446   ,\n",
              "          147.137   ,   232.74303 ,   213.22754 ,   407.64008 ,\n",
              "          528.1755  ,   381.76352 ,   288.17203 ,   365.8348  ,\n",
              "          332.32047 ,   393.45953 ,   525.2578  ,   656.50446 ,\n",
              "          811.64105 ,   640.2487  ,   293.96652 ,   163.34152 ,\n",
              "          214.56223 ,   211.33469 ,   237.02092 ,   322.86914 ,\n",
              "          365.69547 ,   561.3761  ,   439.0353  ,   436.3436  ,\n",
              "          359.31528 ,   248.87918 ,   167.8086  ,   263.49414 ,\n",
              "          310.0152  ,   507.3171  ,   621.88586 ,   777.44714 ,\n",
              "          512.9869  ,   292.40332 ,   202.28111 ,   327.75348 ,\n",
              "          356.55942 ,   364.2507  ,   453.20215 ,   574.33777 ,\n",
              "          966.9287  ,   940.8019  ,   871.2143  ,   374.3736  ,\n",
              "          174.17635 ,   241.6317  ,   192.01842 ,   354.8773  ,\n",
              "          305.95822 ,   407.91135 ,   562.78625 ,  1000.76465 ,\n",
              "         1604.6038  ,  2171.9666  ,  1956.6292  ,  2101.5525  ,\n",
              "         2263.4653  ,  2644.0884  ,  1284.6072  ,   680.17303 ,\n",
              "          450.15256 ,   391.20877 ,   514.96826 ,   414.87408 ,\n",
              "          485.30225 ,   301.8972  ,   314.97287 ,   298.2189  ,\n",
              "          351.74908 ,   286.78683 ,   316.8676  ,   322.0376  ,\n",
              "          342.37445 ,   373.64133 ,   283.48422 ,   587.4204  ,\n",
              "          666.5479  ,   415.29117 ,   351.52155 ,   228.57352 ,\n",
              "          281.31793 ,   207.98508 ,   233.22957 ,   522.5366  ,\n",
              "          344.37173 ,   535.6847  ,   403.58908 ,   351.62738 ,\n",
              "          196.2786  ,   204.0111  ,   210.801   ,   162.25252 ,\n",
              "          284.53592 ,   245.85555 ,   225.53348 ,   272.62347 ,\n",
              "          321.16434 ,   365.74408 ,   523.12604 ,   706.972   ,\n",
              "          516.4347  ,   604.03156 ,   827.5575  ,   887.2248  ,\n",
              "          991.22644 ,  1084.594   ,   499.86246 ,   265.87973 ,\n",
              "          353.98926 ,   401.75015 ,   416.3312  ,   392.2098  ,\n",
              "          466.42563 ,   458.61328 ,   622.09735 ,   973.6868  ,\n",
              "          865.1095  ,   278.56168 ,   516.1124  ,   737.87164 ,\n",
              "          363.9961  ,   231.46066 ,   265.72015 ,   234.37752 ,\n",
              "          366.99582 ,   436.41098 ,   645.9733  ,   610.24457 ,\n",
              "          342.28433 ,   262.02386 ,   323.00375 ,   306.09793 ,\n",
              "          523.2842  ,   736.6734  ,   707.1592  ,   451.09836 ,\n",
              "          301.78976 ,   144.70912 ,   199.37123 ,   336.74512 ,\n",
              "          146.3319  ,   138.04367 ,   307.15137 ,   179.54256 ,\n",
              "          165.28293 ,   204.35352 ,   271.4813  ,   372.5491  ,\n",
              "          525.0003  ,   147.24805 ,   107.68108 ,   150.50168 ,\n",
              "          137.84389 ,   209.29674 ,   181.5173  ,   185.5844  ,\n",
              "          145.70578 ,   140.22517 ,   158.3178  ,   177.3323  ,\n",
              "          274.27832 ,   572.3242  ,   270.27078 ,   279.54477 ,\n",
              "          133.47781 ,    55.439594,    81.092636,    68.80943 ,\n",
              "          103.634346,   153.1716  ,   149.0791  ,   168.81125 ,\n",
              "           74.92425 ,   162.96986 ,    56.424107,    93.80176 ,\n",
              "          210.05315 ,   146.7373  ,   143.01674 ,    74.46889 ,\n",
              "           83.6822  ,   123.72587 ,   171.18959 ,   152.87207 ,\n",
              "          176.66936 ,   192.75906 ,   269.69754 ,   310.21527 ,\n",
              "          603.6744  ,   699.2436  ,   812.1265  ,   911.0148  ,\n",
              "         1125.0621  ,  1342.5162  ,  1313.9249  ,   521.97644 ,\n",
              "          205.17201 ,   259.8019  ,   227.63268 ,   301.16617 ,\n",
              "          385.06558 ,   150.06682 ,   131.36873 ,   206.08928 ,\n",
              "          130.17215 ,   285.26996 ,   290.4891  ,   284.52246 ,\n",
              "          233.101   ,   336.17328 ,   216.41406 ,   185.488   ,\n",
              "          164.74861 ,   193.0219  ,   168.33244 ,   244.41086 ,\n",
              "          427.41226 ,   597.6722  ,   279.71664 ,   304.67145 ,\n",
              "          176.03697 ,   239.18875 ,   355.67758 ,   290.50726 ,\n",
              "          171.10756 ,   184.33385 ,   261.0728  ,   350.27106 ,\n",
              "          577.03156 ,   771.4784  ,  1050.9551  ,  1481.2781  ,\n",
              "         1378.0541  ,   883.13226 ,   572.96063 ,   130.63058 ,\n",
              "          206.059   ,   197.40959 ,   295.65317 ,   404.69308 ,\n",
              "          398.2896  ,   417.95145 ,   438.75586 ,   388.33496 ,\n",
              "          214.90555 ,   105.01005 ,   325.9368  ,   447.4184  ,\n",
              "          361.00977 ,   496.7426  ,   307.85727 ,   158.863   ,\n",
              "          169.79129 ,   313.21262 ,   134.87863 ,   118.55971 ,\n",
              "          148.13351 ,   215.45215 ,   311.0682  ,   274.3397  ,\n",
              "          205.59319 ,   154.73787 ,   170.1815  ,   233.73215 ,\n",
              "          328.0646  ,   456.9986  ,   544.226   ,   657.4069  ,\n",
              "          596.3923  ,   493.66547 ,   158.6808  ,    92.03822 ,\n",
              "          306.65457 ,   252.29018 ,   425.00195 ,   607.69196 ,\n",
              "          757.7344  ,  1028.1162  ,  1196.5586  ,  1187.6671  ,\n",
              "         1222.1669  ,   399.41867 ,   264.33035 ,   223.53445 ,\n",
              "          348.61246 ,   267.4036  ,   292.8566  ,   226.46219 ,\n",
              "          163.67912 ,   388.74594 ,   616.5091  ,   715.7144  ,\n",
              "          884.2673  ,  1118.2787  ,  1178.191   ,  1176.8744  ,\n",
              "          447.41656 ,   517.2567  ,   402.29672 ,   321.86285 ,\n",
              "          541.6454  ,   816.1635  ,   814.1642  ,   806.601   ,\n",
              "         1098.4758  ,  1303.5609  ,  1819.226   ,  1520.301   ,\n",
              "          975.065   ,   500.0745  ,   451.08258 ,   624.44836 ,\n",
              "          932.54913 ,  1119.5061  ,  1098.8876  ,  1111.4788  ,\n",
              "          981.3917  ,   774.1716  ,  1216.6174  ,  1347.8223  ,\n",
              "         1275.0948  ,   297.71875 ,   200.9509  ,   508.31027 ,\n",
              "          814.637   ,   605.5293  ,   654.36163 ,   563.6462  ,\n",
              "          596.4467  ,   581.3574  ,   830.5762  ,  1476.597   ,\n",
              "         2502.964   ,  2741.3472  ,  3085.4458  ,  3333.7878  ,\n",
              "         3539.5178  ,  2340.6372  ,   909.3376  ,   490.21567 ,\n",
              "          972.10657 ,  1305.3005  ,  1392.7361  ,  1755.094   ,\n",
              "         2546.695   ,  3059.948   ,  3003.2554  ,  2345.634   ,\n",
              "         2578.2778  ,  2814.2083  ,  3490.5386  ,  3260.6985  ,\n",
              "         4013.9187  ,  4978.504   ,  4385.956   ,  4103.263   ,\n",
              "         4391.792   ,  3081.4644  ,  2669.2148  ,  2414.4084  ,\n",
              "         4396.1475  ,  5788.4326  ,  5140.9053  ,  1273.4592  ,\n",
              "         1228.788   ,   701.4922  ,  2658.4453  ,  3027.572   ,\n",
              "         3027.8152  ,  3052.0781  ,  3045.396   ,  3537.386   ,\n",
              "         3745.5918  ,   900.0968  ,  1300.6917  ,  1302.6451  ,\n",
              "         1263.2556  ,  1302.2109  ,  2369.464   ,  3758.8523  ,\n",
              "         3492.7053  ,  2445.4978  ,  2877.3337  ,  3181.6016  ,\n",
              "         4807.9404  ,  5343.167   ,  4497.2007  ,  4869.027   ,\n",
              "         6087.3286  ,  6035.864   ,  8042.9697  ,  4592.853   ,\n",
              "         1518.462   ,  1500.4481  ,  1698.0397  ,  2548.5916  ,\n",
              "         2541.6692  ,  3393.869   ,  2871.6948  ,  3457.3716  ,\n",
              "         2717.7974  ,  3099.4827  ,  5651.3228  ,  6983.054   ,\n",
              "        10184.632   ,  8898.209   ,  4790.104   ,  2860.8967  ,\n",
              "         2013.5424  ,  1576.1022  ,  2593.8655  ,  3928.4883  ,\n",
              "         2703.8203  ,  2768.889   ,  3018.4146  ,  3906.845   ,\n",
              "         5233.6826  ,  6350.7373  ,  6068.0386  ,  5488.909   ,\n",
              "         4320.8374  ,  2024.2377  ,  1894.8945  ,  1482.7812  ,\n",
              "         1518.4553  ,  2880.513   ,  1606.4152  ,  1566.9939  ,\n",
              "         2957.5447  ,  4173.5615  ,  5676.796   ,  5417.197   ,\n",
              "         5249.5586  ,  1434.1613  ,  2133.1199  ,  2881.859   ,\n",
              "         3821.452   ,  4351.3306  ,  2311.1194  ,  2531.862   ,\n",
              "         1582.3064  ,   743.0675  ,   740.6685  ,   830.79297 ,\n",
              "          862.8683  ,   569.9665  ,  1134.5519  ,  1382.0139  ,\n",
              "         1559.6451  ,  2509.4558  ,  3264.3242  ,  3508.3386  ,\n",
              "         2416.577   ,  2335.6223  ,  2526.2778  ,  3310.1401  ,\n",
              "         5526.7583  ,  7300.811   ,  8667.999   ,  8214.251   ,\n",
              "         6219.2544  ,  4510.4214  ,  4505.271   ,  2656.5486  ,\n",
              "         1991.4564  ,  3071.716   ,  4366.595   ,  6207.0596  ,\n",
              "         3825.3962  ,  1774.5725  ,  2043.5586  ,  2223.3137  ,\n",
              "         1501.3549  ,  1830.9236  ,  1363.1423  ,  2061.2495  ,\n",
              "         2064.8828  ,  1645.9509  ,  2415.7795  ,  3431.0178  ,\n",
              "         5687.66    ,  7175.9517  ,  7918.8955  ], dtype=float32),\n",
              " 'MSE': array([3.33394000e+05, 1.03724445e+05, 9.75477734e+04, 1.80555578e+05,\n",
              "        2.26793469e+05, 3.19683781e+05, 3.31785156e+05, 2.79899312e+05,\n",
              "        3.70252281e+05, 5.32036625e+05, 7.95682000e+05, 6.82951375e+05,\n",
              "        5.56032125e+05, 6.60285000e+05, 3.52380906e+05, 1.16671945e+05,\n",
              "        8.00336719e+04, 9.34664531e+04, 9.21393672e+04, 1.04041875e+05,\n",
              "        1.96615488e+04, 2.64791699e+04, 6.18707188e+04, 1.02955797e+05,\n",
              "        4.36306016e+04, 3.45583516e+04, 1.73448262e+04, 1.06492334e+04,\n",
              "        1.50544912e+04, 3.00173652e+04, 9.54852891e+04, 1.50687219e+05,\n",
              "        9.55566953e+04, 1.24640773e+05, 1.22260398e+05, 1.22192852e+05,\n",
              "        1.64926156e+05, 1.04291938e+05, 1.04716102e+05, 7.14317812e+04,\n",
              "        1.85622641e+05, 2.40555898e+04, 1.04443379e+04, 1.08766943e+04,\n",
              "        1.81710645e+04, 1.34194131e+04, 7.59755225e+03, 1.30255479e+04,\n",
              "        9.67257910e+03, 1.21373447e+04, 1.71709180e+04, 2.91904902e+04,\n",
              "        5.34009375e+04, 4.30802227e+04, 1.54338922e+05, 2.63090000e+05,\n",
              "        3.92752844e+05, 3.85401812e+05, 3.42097688e+05, 3.03134500e+05,\n",
              "        2.02138109e+05, 1.61282828e+05, 1.68757281e+05, 2.24789250e+05,\n",
              "        3.34351000e+05, 3.17256219e+05, 3.24330469e+05, 2.94770938e+05,\n",
              "        3.21403379e+04, 7.15406328e+04, 6.01047383e+04, 1.94125781e+05,\n",
              "        2.96338000e+05, 1.73771594e+05, 1.10524422e+05, 1.69625984e+05,\n",
              "        1.34109234e+05, 2.44139016e+05, 3.85172812e+05, 5.37043375e+05,\n",
              "        6.99801562e+05, 4.24303656e+05, 9.64800000e+04, 4.17386289e+04,\n",
              "        5.79252109e+04, 5.76000039e+04, 7.16003516e+04, 1.40586828e+05,\n",
              "        1.72043281e+05, 3.53915438e+05, 2.63749906e+05, 2.47050219e+05,\n",
              "        1.52179578e+05, 8.25143125e+04, 3.97282109e+04, 7.46978125e+04,\n",
              "        1.56581328e+05, 3.18724781e+05, 4.61892062e+05, 6.32013812e+05,\n",
              "        3.03695938e+05, 1.08098164e+05, 5.32101680e+04, 1.21410133e+05,\n",
              "        2.14644328e+05, 2.69117562e+05, 3.37814000e+05, 4.53375344e+05,\n",
              "        1.08349212e+06, 9.69460000e+05, 7.77834312e+05, 1.66238922e+05,\n",
              "        4.37044336e+04, 7.97520547e+04, 5.02197266e+04, 1.45318984e+05,\n",
              "        1.32896734e+05, 2.33199766e+05, 3.67667812e+05, 1.87499225e+06,\n",
              "        3.82544675e+06, 6.11114400e+06, 5.20348900e+06, 5.72459100e+06,\n",
              "        5.94761650e+06, 7.06636100e+06, 1.77607712e+06, 5.71786875e+05,\n",
              "        2.38541328e+05, 1.96971125e+05, 3.72253031e+05, 2.90039969e+05,\n",
              "        3.16406531e+05, 1.58819891e+05, 1.78927250e+05, 1.23254617e+05,\n",
              "        1.53376625e+05, 1.07515883e+05, 1.52277422e+05, 1.95200203e+05,\n",
              "        2.03025844e+05, 2.16209500e+05, 1.07583070e+05, 4.19026469e+05,\n",
              "        5.16380344e+05, 2.37964578e+05, 1.60922766e+05, 6.32510664e+04,\n",
              "        1.01699102e+05, 6.11560195e+04, 5.93905352e+04, 3.07242906e+05,\n",
              "        1.51582078e+05, 3.16971906e+05, 2.01775000e+05, 1.35609594e+05,\n",
              "        4.69756445e+04, 5.22583164e+04, 6.42655742e+04, 3.81848828e+04,\n",
              "        1.08177227e+05, 9.06808047e+04, 6.81520859e+04, 8.95860234e+04,\n",
              "        1.13006180e+05, 1.79956609e+05, 3.22909750e+05, 7.15943688e+05,\n",
              "        5.49820938e+05, 6.98467312e+05, 1.05350462e+06, 1.06671038e+06,\n",
              "        1.13801400e+06, 1.18490050e+06, 3.22156281e+05, 2.08278234e+05,\n",
              "        2.85719562e+05, 2.43085984e+05, 2.06137266e+05, 2.00610203e+05,\n",
              "        2.55878719e+05, 3.12861438e+05, 6.31455375e+05, 1.10615862e+06,\n",
              "        9.01712938e+05, 1.76444016e+05, 3.40770812e+05, 5.88025688e+05,\n",
              "        1.55192500e+05, 7.37252344e+04, 1.07882586e+05, 7.47378125e+04,\n",
              "        2.11414594e+05, 2.25098469e+05, 4.67451500e+05, 3.93355188e+05,\n",
              "        1.56228234e+05, 8.65428203e+04, 1.18756789e+05, 1.16208570e+05,\n",
              "        4.17561219e+05, 6.82756562e+05, 5.77383688e+05, 2.78386688e+05,\n",
              "        1.91040875e+05, 4.51314023e+04, 9.66046719e+04, 1.35987234e+05,\n",
              "        3.46512305e+04, 2.73080371e+04, 1.20861430e+05, 5.39484766e+04,\n",
              "        4.05714727e+04, 7.52649922e+04, 9.88261641e+04, 1.81728578e+05,\n",
              "        2.87719406e+05, 3.26745312e+04, 1.88171465e+04, 3.13027598e+04,\n",
              "        3.67352773e+04, 5.45493164e+04, 4.20905508e+04, 3.76223359e+04,\n",
              "        2.50840273e+04, 3.01902812e+04, 3.87692148e+04, 4.62195898e+04,\n",
              "        9.53595703e+04, 3.34977250e+05, 8.52137344e+04, 8.93841406e+04,\n",
              "        2.57094395e+04, 4.94461572e+03, 8.79626367e+03, 8.49029102e+03,\n",
              "        1.57091475e+04, 3.55610195e+04, 3.16384863e+04, 3.69771133e+04,\n",
              "        6.76249902e+03, 3.62076914e+04, 4.05944751e+03, 1.35008799e+04,\n",
              "        4.68076211e+04, 2.68615254e+04, 2.30234590e+04, 7.54533350e+03,\n",
              "        9.36424023e+03, 1.82010156e+04, 3.38128711e+04, 2.85906777e+04,\n",
              "        5.20125000e+04, 6.49524297e+04, 1.04471016e+05, 1.46007438e+05,\n",
              "        7.14144688e+05, 9.58125312e+05, 1.22509600e+06, 1.29478712e+06,\n",
              "        1.68467775e+06, 2.08443112e+06, 1.80137138e+06, 3.43922781e+05,\n",
              "        8.38062969e+04, 8.79114766e+04, 6.41988086e+04, 1.04314453e+05,\n",
              "        2.05045047e+05, 3.14043750e+04, 2.54131523e+04, 4.96176289e+04,\n",
              "        3.26739727e+04, 1.10487914e+05, 1.30131867e+05, 1.24735758e+05,\n",
              "        9.50999453e+04, 1.58834859e+05, 9.33186641e+04, 9.37423594e+04,\n",
              "        5.72294297e+04, 5.36821914e+04, 4.13911602e+04, 7.44215391e+04,\n",
              "        2.05739219e+05, 3.66187438e+05, 1.16855016e+05, 1.17204914e+05,\n",
              "        4.12653633e+04, 9.10168750e+04, 1.75218281e+05, 1.09306273e+05,\n",
              "        5.18959297e+04, 9.13076484e+04, 1.20695414e+05, 2.13619031e+05,\n",
              "        4.99358281e+05, 9.10010562e+05, 1.38975025e+06, 2.40428150e+06,\n",
              "        1.95363112e+06, 8.23527188e+05, 3.59575312e+05, 2.67775332e+04,\n",
              "        4.69525234e+04, 7.13935547e+04, 1.49703359e+05, 2.84783344e+05,\n",
              "        2.56093453e+05, 2.42521719e+05, 2.33469703e+05, 1.67033984e+05,\n",
              "        5.82417461e+04, 2.51238906e+04, 1.46595703e+05, 2.57371109e+05,\n",
              "        1.79850125e+05, 3.15337250e+05, 1.43075406e+05, 5.45757695e+04,\n",
              "        4.02590859e+04, 1.04498383e+05, 2.46403535e+04, 1.82447305e+04,\n",
              "        3.22257832e+04, 7.33687812e+04, 1.17344664e+05, 9.29680547e+04,\n",
              "        5.05981641e+04, 3.16992832e+04, 4.74245938e+04, 1.20601891e+05,\n",
              "        1.93126094e+05, 3.08337844e+05, 4.02318344e+05, 4.99645938e+05,\n",
              "        3.91438750e+05, 2.66566938e+05, 3.88146797e+04, 1.24275049e+04,\n",
              "        1.16664797e+05, 7.14946953e+04, 3.96406812e+05, 7.48489312e+05,\n",
              "        9.75264562e+05, 1.51613375e+06, 1.74917412e+06, 1.57698800e+06,\n",
              "        1.58133600e+06, 2.45576719e+05, 9.23140078e+04, 6.55380859e+04,\n",
              "        1.31787750e+05, 1.15113414e+05, 1.02307930e+05, 7.25379219e+04,\n",
              "        5.40419141e+04, 5.24896812e+05, 9.50770125e+05, 9.26232125e+05,\n",
              "        1.11365888e+06, 1.60103862e+06, 1.57692200e+06, 1.47775112e+06,\n",
              "        3.83324469e+05, 3.69744031e+05, 2.38819047e+05, 1.43169625e+05,\n",
              "        4.32763156e+05, 1.06803788e+06, 1.17400338e+06, 1.00694612e+06,\n",
              "        1.58363538e+06, 2.21012875e+06, 3.77491825e+06, 2.50035525e+06,\n",
              "        1.18956588e+06, 3.58880188e+05, 3.03592812e+05, 8.44406500e+05,\n",
              "        1.34112062e+06, 1.83813462e+06, 1.75363200e+06, 1.99065762e+06,\n",
              "        1.55192062e+06, 7.54376062e+05, 1.98689962e+06, 1.98100862e+06,\n",
              "        1.75947562e+06, 1.28232172e+05, 5.40807266e+04, 3.39730281e+05,\n",
              "        7.68867188e+05, 5.17358750e+05, 5.58042312e+05, 4.50932219e+05,\n",
              "        4.61642469e+05, 4.06037281e+05, 1.20640425e+06, 4.41879750e+06,\n",
              "        9.13147900e+06, 1.13353390e+07, 1.30212570e+07, 1.33741100e+07,\n",
              "        1.30366630e+07, 5.69693500e+06, 1.04668162e+06, 5.55939375e+05,\n",
              "        1.45060125e+06, 2.21110100e+06, 2.93645750e+06, 4.17465325e+06,\n",
              "        8.86809600e+06, 1.12878900e+07, 1.06687820e+07, 9.75505400e+06,\n",
              "        1.13975120e+07, 1.14823420e+07, 1.65296480e+07, 1.71318060e+07,\n",
              "        2.64630180e+07, 3.67715960e+07, 2.96931160e+07, 2.13515460e+07,\n",
              "        2.45664100e+07, 1.40850790e+07, 7.98280700e+06, 1.00049820e+07,\n",
              "        2.39863500e+07, 3.69922320e+07, 2.79343300e+07, 2.16239375e+06,\n",
              "        1.95902162e+06, 9.66099125e+05, 8.49763400e+06, 1.26890310e+07,\n",
              "        1.31594640e+07, 1.40178720e+07, 1.10246220e+07, 1.47196250e+07,\n",
              "        1.47363250e+07, 1.04302138e+06, 2.51192675e+06, 2.82747050e+06,\n",
              "        2.01651562e+06, 2.33862700e+06, 6.62512800e+06, 1.67676470e+07,\n",
              "        1.61179680e+07, 8.83295300e+06, 1.08211450e+07, 1.35291040e+07,\n",
              "        3.16443400e+07, 4.43336120e+07, 3.55703480e+07, 3.59946480e+07,\n",
              "        4.78694120e+07, 4.24167600e+07, 6.63626600e+07, 2.33264860e+07,\n",
              "        3.14468200e+06, 4.87435350e+06, 4.78159750e+06, 1.07451600e+07,\n",
              "        1.08128370e+07, 1.72822160e+07, 1.14444390e+07, 1.49543870e+07,\n",
              "        8.87318500e+06, 1.16514550e+07, 4.61954440e+07, 6.23508280e+07,\n",
              "        1.12169384e+08, 8.19101200e+07, 2.64749020e+07, 1.25423810e+07,\n",
              "        5.62378700e+06, 3.60028975e+06, 7.83456250e+06, 1.69358820e+07,\n",
              "        1.06481170e+07, 1.23299020e+07, 1.75144200e+07, 2.47907220e+07,\n",
              "        3.78497200e+07, 5.26399120e+07, 4.78895560e+07, 3.45402760e+07,\n",
              "        2.01211540e+07, 7.52182800e+06, 4.23857350e+06, 3.06185050e+06,\n",
              "        3.44073350e+06, 9.38222300e+06, 5.84576100e+06, 4.33842200e+06,\n",
              "        1.37386530e+07, 2.51135820e+07, 3.83723960e+07, 3.33786180e+07,\n",
              "        3.01767680e+07, 3.73629075e+06, 6.47484450e+06, 1.15425380e+07,\n",
              "        1.68360760e+07, 2.10577000e+07, 5.81830550e+06, 6.72836650e+06,\n",
              "        3.22983575e+06, 6.79807688e+05, 7.93674000e+05, 1.18572462e+06,\n",
              "        9.69263312e+05, 6.35788812e+05, 1.58890925e+06, 2.93819975e+06,\n",
              "        4.41733200e+06, 1.04396230e+07, 1.59341440e+07, 1.58365250e+07,\n",
              "        8.02327050e+06, 6.90858150e+06, 7.81497500e+06, 1.88693180e+07,\n",
              "        4.18421640e+07, 6.20995120e+07, 8.48631200e+07, 7.41613920e+07,\n",
              "        4.62633920e+07, 2.55688940e+07, 2.45755620e+07, 1.02823180e+07,\n",
              "        5.33402050e+06, 1.16097650e+07, 2.34686680e+07, 4.12730560e+07,\n",
              "        1.70490560e+07, 3.89742050e+06, 4.65160700e+06, 6.30977050e+06,\n",
              "        3.60876825e+06, 4.55321650e+06, 3.40397625e+06, 5.22099650e+06,\n",
              "        5.63631050e+06, 4.36895950e+06, 9.38240800e+06, 2.11363800e+07,\n",
              "        4.66035280e+07, 6.60825960e+07, 8.01464320e+07], dtype=float32),\n",
              " 'RMSE': array([  577.4028  ,   322.0628  ,   312.32635 ,   424.9183  ,\n",
              "          476.2284  ,   565.4059  ,   576.00793 ,   529.05505 ,\n",
              "          608.4836  ,   729.4084  ,   892.01    ,   826.4087  ,\n",
              "          745.67566 ,   812.5792  ,   593.6168  ,   341.57275 ,\n",
              "          282.90222 ,   305.72284 ,   303.54468 ,   322.55524 ,\n",
              "          140.21965 ,   162.72421 ,   248.73827 ,   320.86728 ,\n",
              "          208.87941 ,   185.89874 ,   131.69975 ,   103.195114,\n",
              "          122.69674 ,   173.2552  ,   309.00693 ,   388.18454 ,\n",
              "          309.12244 ,   353.045   ,   349.65756 ,   349.56097 ,\n",
              "          406.11105 ,   322.94263 ,   323.59863 ,   267.26724 ,\n",
              "          430.83945 ,   155.09865 ,   102.19755 ,   104.29139 ,\n",
              "          134.8001  ,   115.84219 ,    87.16393 ,   114.129524,\n",
              "           98.349266,   110.16961 ,   131.03784 ,   170.85223 ,\n",
              "          231.08643 ,   207.55775 ,   392.8599  ,   512.92303 ,\n",
              "          626.7     ,   620.80743 ,   584.8912  ,   550.5765  ,\n",
              "          449.59775 ,   401.60034 ,   410.80078 ,   474.11948 ,\n",
              "          578.23083 ,   563.255   ,   569.5002  ,   542.92816 ,\n",
              "          179.27727 ,   267.4708  ,   245.16267 ,   440.59705 ,\n",
              "          544.3694  ,   416.85922 ,   332.45215 ,   411.85672 ,\n",
              "          366.20926 ,   494.10425 ,   620.623   ,   732.83234 ,\n",
              "          836.54144 ,   651.3859  ,   310.6123  ,   204.30034 ,\n",
              "          240.67656 ,   239.99997 ,   267.58243 ,   374.9491  ,\n",
              "          414.78098 ,   594.9079  ,   513.56586 ,   497.04144 ,\n",
              "          390.102   ,   287.25305 ,   199.31937 ,   273.309   ,\n",
              "          395.70358 ,   564.5571  ,   679.62646 ,   794.9929  ,\n",
              "          551.0861  ,   328.78287 ,   230.6733  ,   348.43958 ,\n",
              "          463.29724 ,   518.76544 ,   581.2177  ,   673.3315  ,\n",
              "         1040.9092  ,   984.61163 ,   881.9492  ,   407.7241  ,\n",
              "          209.05605 ,   282.40405 ,   224.09758 ,   381.20724 ,\n",
              "          364.55005 ,   482.90762 ,   606.3562  ,  1369.3035  ,\n",
              "         1955.875   ,  2472.0725  ,  2281.1157  ,  2392.6116  ,\n",
              "         2438.7737  ,  2658.263   ,  1332.6954  ,   756.1659  ,\n",
              "          488.4069  ,   443.81427 ,   610.1254  ,   538.5535  ,\n",
              "          562.5002  ,   398.52213 ,   422.99796 ,   351.07635 ,\n",
              "          391.63327 ,   327.89615 ,   390.2274  ,   441.81464 ,\n",
              "          450.58386 ,   464.98334 ,   327.99857 ,   647.3225  ,\n",
              "          718.596   ,   487.81613 ,   401.15176 ,   251.49767 ,\n",
              "          318.90295 ,   247.29744 ,   243.70172 ,   554.295   ,\n",
              "          389.33542 ,   563.00256 ,   449.1937  ,   368.2521  ,\n",
              "          216.73863 ,   228.60077 ,   253.50656 ,   195.40953 ,\n",
              "          328.90305 ,   301.13254 ,   261.05954 ,   299.30923 ,\n",
              "          336.1639  ,   424.21292 ,   568.2515  ,   846.1345  ,\n",
              "          741.4991  ,   835.74347 ,  1026.4037  ,  1032.8168  ,\n",
              "         1066.7773  ,  1088.5314  ,   567.58813 ,   456.37512 ,\n",
              "          534.5274  ,   493.03748 ,   454.0234  ,   447.89532 ,\n",
              "          505.8445  ,   559.34015 ,   794.6417  ,  1051.7407  ,\n",
              "          949.5857  ,   420.0524  ,   583.75574 ,   766.8283  ,\n",
              "          393.9448  ,   271.5239  ,   328.45486 ,   273.38217 ,\n",
              "          459.79843 ,   474.44547 ,   683.7042  ,   627.1803  ,\n",
              "          395.25717 ,   294.1816  ,   344.61108 ,   340.8938  ,\n",
              "          646.18976 ,   826.29083 ,   759.8577  ,   527.62366 ,\n",
              "          437.08224 ,   212.44153 ,   310.81293 ,   368.76447 ,\n",
              "          186.14839 ,   165.25143 ,   347.65128 ,   232.26811 ,\n",
              "          201.4236  ,   274.34467 ,   314.36627 ,   426.29636 ,\n",
              "          536.3948  ,   180.76097 ,   137.17561 ,   176.92586 ,\n",
              "          191.66447 ,   233.55795 ,   205.15982 ,   193.96477 ,\n",
              "          158.37938 ,   173.75351 ,   196.899   ,   214.98743 ,\n",
              "          308.80344 ,   578.7722  ,   291.9139  ,   298.9718  ,\n",
              "          160.34163 ,    70.31796 ,    93.7884  ,    92.14277 ,\n",
              "          125.336136,   188.57628 ,   177.87212 ,   192.29436 ,\n",
              "           82.23441 ,   190.28319 ,    63.71379 ,   116.19328 ,\n",
              "          216.35071 ,   163.89487 ,   151.73482 ,    86.863884,\n",
              "           96.769005,   134.91113 ,   183.88277 ,   169.08778 ,\n",
              "          228.06248 ,   254.85767 ,   323.2198  ,   382.1092  ,\n",
              "          845.0708  ,   978.83875 ,  1106.8406  ,  1137.8871  ,\n",
              "         1297.9513  ,  1443.756   ,  1342.1517  ,   586.4493  ,\n",
              "          289.49316 ,   296.49872 ,   253.37482 ,   322.97748 ,\n",
              "          452.819   ,   177.2128  ,   159.41504 ,   222.75017 ,\n",
              "          180.75943 ,   332.39722 ,   360.73795 ,   353.17947 ,\n",
              "          308.38278 ,   398.5409  ,   305.48105 ,   306.17374 ,\n",
              "          239.22673 ,   231.69418 ,   203.4482  ,   272.8031  ,\n",
              "          453.58484 ,   605.1342  ,   341.84064 ,   342.35202 ,\n",
              "          203.13878 ,   301.69    ,   418.59082 ,   330.615   ,\n",
              "          227.8068  ,   302.17157 ,   347.41245 ,   462.18936 ,\n",
              "          706.6529  ,   953.94476 ,  1178.8766  ,  1550.5745  ,\n",
              "         1397.7235  ,   907.484   ,   599.64594 ,   163.63843 ,\n",
              "          216.6853  ,   267.19574 ,   386.9152  ,   533.65094 ,\n",
              "          506.05673 ,   492.46497 ,   483.18704 ,   408.6979  ,\n",
              "          241.33325 ,   158.50517 ,   382.8782  ,   507.31757 ,\n",
              "          424.08734 ,   561.549   ,   378.2531  ,   233.61456 ,\n",
              "          200.64667 ,   323.2621  ,   156.97244 ,   135.07304 ,\n",
              "          179.51541 ,   270.8667  ,   342.5561  ,   304.90665 ,\n",
              "          224.94034 ,   178.04294 ,   217.77187 ,   347.27786 ,\n",
              "          439.46112 ,   555.2818  ,   634.2857  ,   706.8563  ,\n",
              "          625.65063 ,   516.3012  ,   197.0144  ,   111.47874 ,\n",
              "          341.5623  ,   267.38492 ,   629.60846 ,   865.1527  ,\n",
              "          987.55475 ,  1231.3138  ,  1322.5634  ,  1255.7819  ,\n",
              "         1257.5118  ,   495.557   ,   303.8322  ,   256.00403 ,\n",
              "          363.02582 ,   339.28366 ,   319.8561  ,   269.32864 ,\n",
              "          232.46918 ,   724.49756 ,   975.0744  ,   962.40955 ,\n",
              "         1055.3004  ,  1265.3215  ,  1255.7555  ,  1215.6279  ,\n",
              "          619.132   ,   608.0658  ,   488.69116 ,   378.37762 ,\n",
              "          657.84735 ,  1033.4591  ,  1083.5144  ,  1003.4671  ,\n",
              "         1258.4258  ,  1486.6501  ,  1942.9149  ,  1581.2511  ,\n",
              "         1090.6722  ,   599.0661  ,   550.99255 ,   918.9159  ,\n",
              "         1158.0676  ,  1355.7782  ,  1324.2477  ,  1410.9067  ,\n",
              "         1245.7611  ,   868.5482  ,  1409.5743  ,  1407.4832  ,\n",
              "         1326.4523  ,   358.0952  ,   232.55263 ,   582.8639  ,\n",
              "          876.85065 ,   719.2765  ,   747.0222  ,   671.51483 ,\n",
              "          679.44275 ,   637.2106  ,  1098.3644  ,  2102.0935  ,\n",
              "         3021.8337  ,  3366.7996  ,  3608.4978  ,  3657.063   ,\n",
              "         3610.6318  ,  2386.8252  ,  1023.07465 ,   745.6134  ,\n",
              "         1204.409   ,  1486.9772  ,  1713.6095  ,  2043.1968  ,\n",
              "         2977.9348  ,  3359.7454  ,  3266.3103  ,  3123.308   ,\n",
              "         3376.0203  ,  3388.5605  ,  4065.6672  ,  4139.0586  ,\n",
              "         5144.2217  ,  6063.9585  ,  5449.139   ,  4620.7734  ,\n",
              "         4956.4517  ,  3753.0093  ,  2825.3862  ,  3163.0654  ,\n",
              "         4897.586   ,  6082.1235  ,  5285.2935  ,  1470.5078  ,\n",
              "         1399.6504  ,   982.9033  ,  2915.0703  ,  3562.1665  ,\n",
              "         3627.598   ,  3744.0452  ,  3320.3347  ,  3836.6165  ,\n",
              "         3838.7922  ,  1021.2842  ,  1584.906   ,  1681.5083  ,\n",
              "         1420.0408  ,  1529.257   ,  2573.9324  ,  4094.8315  ,\n",
              "         4014.719   ,  2972.0286  ,  3289.5508  ,  3678.1934  ,\n",
              "         5625.3306  ,  6658.349   ,  5964.0884  ,  5999.554   ,\n",
              "         6918.7725  ,  6512.815   ,  8146.3286  ,  4829.75    ,\n",
              "         1773.3251  ,  2207.7937  ,  2186.6865  ,  3277.9807  ,\n",
              "         3288.2878  ,  4157.1885  ,  3382.9626  ,  3867.0903  ,\n",
              "         2978.789   ,  3413.4229  ,  6796.723   ,  7896.2534  ,\n",
              "        10591.005   ,  9050.421   ,  5145.3765  ,  3541.5222  ,\n",
              "         2371.4524  ,  1897.4427  ,  2799.0288  ,  4115.3228  ,\n",
              "         3263.1453  ,  3511.3958  ,  4185.023   ,  4979.0283  ,\n",
              "         6152.212   ,  7255.3374  ,  6920.228   ,  5877.097   ,\n",
              "         4485.6606  ,  2742.5952  ,  2058.7795  ,  1749.8142  ,\n",
              "         1854.9214  ,  3063.0415  ,  2417.8008  ,  2082.8877  ,\n",
              "         3706.5693  ,  5011.345   ,  6194.545   ,  5777.4233  ,\n",
              "         5493.339   ,  1932.9486  ,  2544.5715  ,  3397.431   ,\n",
              "         4103.1787  ,  4588.8667  ,  2412.1162  ,  2593.9094  ,\n",
              "         1797.1744  ,   824.5045  ,   890.88385 ,  1088.9098  ,\n",
              "          984.5117  ,   797.36365 ,  1260.5194  ,  1714.1178  ,\n",
              "         2101.745   ,  3231.0405  ,  3991.7598  ,  3979.513   ,\n",
              "         2832.5378  ,  2628.4182  ,  2795.5276  ,  4343.883   ,\n",
              "         6468.552   ,  7880.3247  ,  9212.118   ,  8611.701   ,\n",
              "         6801.7197  ,  5056.5693  ,  4957.374   ,  3206.6055  ,\n",
              "         2309.5498  ,  3407.3103  ,  4844.4473  ,  6424.411   ,\n",
              "         4129.0503  ,  1974.1885  ,  2156.7583  ,  2511.9255  ,\n",
              "         1899.6758  ,  2133.827   ,  1844.9868  ,  2284.95    ,\n",
              "         2374.0916  ,  2090.2056  ,  3063.0718  ,  4597.432   ,\n",
              "         6826.6777  ,  8129.12    ,  8952.454   ], dtype=float32),\n",
              " 'MAPE': array([ 6.383133  ,  3.1873055 ,  3.4441986 ,  4.7474217 ,  5.087393  ,\n",
              "         6.2807307 ,  6.541848  ,  5.720405  ,  6.363076  ,  8.315235  ,\n",
              "        10.800634  , 10.020564  ,  9.454184  , 10.886435  ,  7.8023076 ,\n",
              "         3.7682526 ,  3.155776  ,  3.437866  ,  3.6989737 ,  3.8828704 ,\n",
              "         1.3986939 ,  1.7881403 ,  2.8099759 ,  3.586232  ,  2.3180187 ,\n",
              "         2.242667  ,  1.4899626 ,  1.1336712 ,  1.5688592 ,  2.1066084 ,\n",
              "         3.8841438 ,  5.2990785 ,  3.9507866 ,  3.9636142 ,  3.8526888 ,\n",
              "         3.8195531 ,  4.802899  ,  3.5313706 ,  3.6780703 ,  3.46592   ,\n",
              "         5.6844716 ,  1.781396  ,  1.2288109 ,  1.2746593 ,  1.3930616 ,\n",
              "         1.4077994 ,  1.0244621 ,  1.2907869 ,  1.1759014 ,  1.0764247 ,\n",
              "         1.5163736 ,  2.0254838 ,  2.6292856 ,  2.2210493 ,  3.4710693 ,\n",
              "         5.017667  ,  7.0700006 ,  6.8297133 ,  6.527853  ,  6.520673  ,\n",
              "         5.3245935 ,  3.3024843 ,  3.071215  ,  3.98927   ,  5.1149187 ,\n",
              "         5.61996   ,  5.953922  ,  6.0512958 ,  1.6630603 ,  2.6762862 ,\n",
              "         2.4792778 ,  4.7584987 ,  6.204536  ,  4.5032034 ,  3.402323  ,\n",
              "         4.296131  ,  3.8193192 ,  4.302126  ,  5.675283  ,  7.0431447 ,\n",
              "         8.695885  ,  6.8402886 ,  3.1351395 ,  1.7247756 ,  2.2906337 ,\n",
              "         2.239771  ,  2.4867249 ,  3.3104722 ,  3.7112315 ,  5.63722   ,\n",
              "         4.333159  ,  4.287891  ,  3.5142124 ,  2.4285538 ,  1.6611431 ,\n",
              "         2.6178567 ,  3.1315804 ,  5.1447906 ,  6.353043  ,  7.9626427 ,\n",
              "         5.287782  ,  3.019717  ,  2.0546832 ,  3.4092698 ,  3.8586323 ,\n",
              "         4.0400887 ,  5.076718  ,  6.4802604 , 11.007784  , 10.7414465 ,\n",
              "         9.975953  ,  4.3021564 ,  1.9976255 ,  2.7215734 ,  2.1505435 ,\n",
              "         4.012396  ,  3.618029  ,  4.9309316 ,  6.8522887 , 14.579784  ,\n",
              "        24.689518  , 35.3894    , 34.018784  , 38.566185  , 41.93856   ,\n",
              "        49.170227  , 23.934246  , 12.76731   ,  8.060933  ,  6.7705026 ,\n",
              "         8.406375  ,  6.574843  ,  7.4993    ,  4.5726724 ,  5.019635  ,\n",
              "         4.6231947 ,  5.3266654 ,  4.374331  ,  5.0321302 ,  5.182704  ,\n",
              "         5.5057526 ,  5.9565516 ,  4.374629  ,  8.735546  ,  9.690324  ,\n",
              "         5.9229927 ,  4.960857  ,  3.2358913 ,  3.916653  ,  2.960389  ,\n",
              "         3.2594497 ,  7.427887  ,  4.961269  ,  7.767851  ,  5.8759427 ,\n",
              "         5.0899153 ,  2.7828124 ,  2.8943253 ,  2.9632704 ,  2.2983522 ,\n",
              "         3.979706  ,  3.4080956 ,  3.0998034 ,  3.7605264 ,  4.432523  ,\n",
              "         4.82497   ,  6.85255   ,  8.808609  ,  6.1029444 ,  6.961776  ,\n",
              "         9.447651  , 10.045695  , 11.199372  , 12.213851  ,  5.522779  ,\n",
              "         2.7715328 ,  3.6357415 ,  4.1950994 ,  4.3852634 ,  4.1972456 ,\n",
              "         4.983673  ,  5.084654  ,  7.0168824 , 10.815913  ,  9.642549  ,\n",
              "         3.1320593 ,  5.3848643 ,  7.675372  ,  3.774346  ,  2.4561572 ,\n",
              "         2.8501215 ,  2.5092413 ,  3.9920144 ,  4.77418   ,  7.1354446 ,\n",
              "         6.7556424 ,  3.8018935 ,  2.8637733 ,  3.509565  ,  3.2845404 ,\n",
              "         5.372305  ,  7.5835423 ,  7.2673955 ,  4.5891204 ,  3.0293348 ,\n",
              "         1.4613218 ,  1.9975586 ,  3.4842055 ,  1.5093697 ,  1.4179296 ,\n",
              "         3.2048676 ,  1.8887612 ,  1.7362866 ,  2.1689427 ,  2.8873942 ,\n",
              "         3.9644148 ,  5.5802307 ,  1.5622852 ,  1.149674  ,  1.6047982 ,\n",
              "         1.4754645 ,  2.231686  ,  1.9317787 ,  1.9744525 ,  1.5439414 ,\n",
              "         1.4976854 ,  1.6820679 ,  1.897119  ,  2.9943423 ,  6.2459874 ,\n",
              "         2.953745  ,  3.064406  ,  1.4674717 ,  0.60568035,  0.8881008 ,\n",
              "         0.74896526,  1.1339073 ,  1.6680954 ,  1.608187  ,  1.8191533 ,\n",
              "         0.8100192 ,  1.7489618 ,  0.6075544 ,  1.0088054 ,  2.2717352 ,\n",
              "         1.5915908 ,  1.5513337 ,  0.80798715,  0.91097534,  1.3482684 ,\n",
              "         1.8638477 ,  1.6469681 ,  1.8685368 ,  2.02392   ,  2.8186364 ,\n",
              "         3.1947546 ,  5.8327208 ,  6.557446  ,  7.4054317 ,  8.245705  ,\n",
              "        10.09411   , 11.89811   , 11.6254015 ,  4.5898523 ,  1.7863373 ,\n",
              "         2.2723162 ,  1.9803488 ,  2.6221123 ,  3.3960602 ,  1.3109515 ,\n",
              "         1.1341455 ,  1.759563  ,  1.128492  ,  2.4649835 ,  2.5131893 ,\n",
              "         2.4598405 ,  2.0161705 ,  2.8633106 ,  1.7830117 ,  1.5193297 ,\n",
              "         1.3595337 ,  1.614378  ,  1.4105192 ,  2.059183  ,  3.6486063 ,\n",
              "         5.1331215 ,  2.424635  ,  2.6510155 ,  1.5341433 ,  2.09643   ,\n",
              "         3.1137257 ,  2.539438  ,  1.4683777 ,  1.568614  ,  2.2879937 ,\n",
              "         3.1728706 ,  5.3861685 ,  7.392792  , 10.086266  , 14.331542  ,\n",
              "        13.409384  ,  8.636568  ,  5.616763  ,  1.2732922 ,  1.9986842 ,\n",
              "         1.8976632 ,  2.7845583 ,  3.754111  ,  3.6711032 ,  3.8447108 ,\n",
              "         4.0184684 ,  3.5524209 ,  1.9625986 ,  0.98632026,  3.0846426 ,\n",
              "         4.236171  ,  3.4315605 ,  4.7224817 ,  2.9343495 ,  1.5163301 ,\n",
              "         1.5953581 ,  2.9111507 ,  1.2543285 ,  1.1071885 ,  1.3919702 ,\n",
              "         2.0292516 ,  2.9253087 ,  2.5853817 ,  1.9386241 ,  1.4526908 ,\n",
              "         1.5694046 ,  2.1026871 ,  2.9367437 ,  4.04099   ,  4.7796817 ,\n",
              "         5.770069  ,  5.2124357 ,  4.3052373 ,  1.3792781 ,  0.8005689 ,\n",
              "         2.684975  ,  2.188901  ,  3.448495  ,  4.792791  ,  5.909497  ,\n",
              "         7.955139  ,  9.233251  ,  9.119957  ,  9.261035  ,  2.9975643 ,\n",
              "         1.9903    ,  1.6718756 ,  2.58726   ,  1.9542675 ,  2.1405175 ,\n",
              "         1.6731445 ,  1.178066  ,  2.6046596 ,  4.0535207 ,  4.755552  ,\n",
              "         5.835533  ,  7.3285947 ,  7.6915874 ,  7.6137385 ,  2.8398395 ,\n",
              "         3.3314493 ,  2.5113592 ,  2.0298178 ,  3.3189912 ,  4.8585114 ,\n",
              "         4.7158113 ,  4.6272564 ,  6.2273393 ,  7.223699  ,  9.988826  ,\n",
              "         8.288783  ,  5.237044  ,  2.6687312 ,  2.4694824 ,  3.5809126 ,\n",
              "         5.3039985 ,  6.3736773 ,  6.23859   ,  6.344448  ,  5.5967784 ,\n",
              "         4.148265  ,  6.354063  ,  7.0523105 ,  6.644291  ,  1.5557402 ,\n",
              "         1.0602225 ,  2.6997712 ,  4.3472815 ,  3.2732253 ,  3.5330117 ,\n",
              "         3.0514553 ,  3.2215595 ,  3.1218312 ,  4.204726  ,  6.9420166 ,\n",
              "        11.60342   , 12.176869  , 13.453348  , 14.439218  , 15.278827  ,\n",
              "        10.020564  ,  3.8659077 ,  2.0333557 ,  3.9704196 ,  5.2561073 ,\n",
              "         5.4017196 ,  6.697758  ,  9.399555  , 11.09861   , 10.672504  ,\n",
              "         7.815193  ,  8.272939  ,  8.983307  , 10.819359  ,  9.587128  ,\n",
              "        11.14034   , 13.304127  , 11.300749  , 10.6548    , 11.274142  ,\n",
              "         7.8193297 ,  6.9860325 ,  6.769106  , 12.204499  , 16.113087  ,\n",
              "        14.353757  ,  3.5346606 ,  3.313356  ,  1.8951993 ,  7.7469826 ,\n",
              "         9.033199  ,  9.231903  ,  9.467803  ,  9.404374  , 11.023445  ,\n",
              "        11.800318  ,  2.8124304 ,  4.0199337 ,  3.950694  ,  3.7909858 ,\n",
              "         3.9367132 ,  6.9262767 , 10.6855    ,  9.707618  ,  6.670374  ,\n",
              "         7.674061  ,  8.309083  , 11.966503  , 12.519148  , 10.110762  ,\n",
              "        10.707312  , 13.19876   , 12.978641  , 17.091331  ,  9.630076  ,\n",
              "         3.1794276 ,  2.9887314 ,  3.3808594 ,  4.881789  ,  4.761776  ,\n",
              "         6.241043  ,  5.2421517 ,  6.347189  ,  5.175462  ,  6.029026  ,\n",
              "        11.695898  , 14.624441  , 21.540733  , 18.883375  , 10.238024  ,\n",
              "         6.1705375 ,  4.2898383 ,  3.2523804 ,  5.2908754 ,  7.9320273 ,\n",
              "         5.3697076 ,  5.336057  ,  5.5906935 ,  7.074054  ,  9.375492  ,\n",
              "        11.086345  , 10.371183  ,  9.408301  ,  7.407569  ,  3.3996441 ,\n",
              "         3.2378588 ,  2.5028694 ,  2.6447754 ,  5.0076265 ,  2.8739963 ,\n",
              "         2.8070548 ,  5.404184  ,  7.739886  , 10.505011  , 10.031975  ,\n",
              "         9.742052  ,  2.6674068 ,  3.8989453 ,  5.0200095 ,  6.615648  ,\n",
              "         7.476633  ,  3.9717202 ,  4.3323865 ,  2.6973286 ,  1.2728416 ,\n",
              "         1.2849373 ,  1.4467553 ,  1.4952526 ,  0.98913246,  1.9539042 ,\n",
              "         2.3853426 ,  2.5916712 ,  4.069341  ,  5.2415066 ,  5.630094  ,\n",
              "         3.8688655 ,  3.7874763 ,  4.2134275 ,  5.7756824 ,  9.770691  ,\n",
              "        13.159069  , 16.036814  , 15.505876  , 12.111253  ,  8.840368  ,\n",
              "         8.823597  ,  5.2454715 ,  3.878957  ,  5.697788  ,  7.8928275 ,\n",
              "        11.124117  ,  6.7739263 ,  3.14318   ,  3.6283498 ,  3.892282  ,\n",
              "         2.6967316 ,  3.2670074 ,  2.4376302 ,  3.6690652 ,  3.585248  ,\n",
              "         2.9584897 ,  4.53231   ,  6.682528  , 11.290611  , 14.65142   ,\n",
              "        16.85183   ], dtype=float32),\n",
              " 'MASE': 2.1854093}"
            ]
          },
          "metadata": {},
          "execution_count": 60
        }
      ],
      "source": [
        "# Evaluating model_3 Results\n",
        "model_3_results = evaluate_preds(y_true=tf.squeeze(test_labels),\n",
        "                                 y_pred=model_3_preds)\n",
        "model_3_results"
      ]
    },
    {
      "cell_type": "markdown",
      "metadata": {
        "id": "0v-sNK1ZLRPa"
      },
      "source": [
        "##MAKING OUR EVALUATION FUNCTION TO WORK FOR LARGER HORIZONS (Tensor With Different Shapes)"
      ]
    },
    {
      "cell_type": "code",
      "execution_count": null,
      "metadata": {
        "id": "huwuTuFeMRCQ"
      },
      "outputs": [],
      "source": [
        "# Creating A Function Which Takes In Model Predictions And Truth Values, And Returns Evaluation Metrics\n",
        "def evaluate_preds(y_true, y_pred):\n",
        "  y_true = tf.cast(y_true, dtype=tf.float32)\n",
        "  y_pred = tf.cast(y_pred, dtype=tf.float32)\n",
        "\n",
        "  # Calculate Various Evaluation Metrics\n",
        "  mae = tf.keras.metrics.mean_absolute_error(y_true, y_pred)\n",
        "  mse = tf.keras.metrics.mean_squared_error(y_true, y_pred)\n",
        "  rmse = tf.sqrt(mse)\n",
        "  mape = tf.keras.metrics.mean_absolute_percentage_error(y_true, y_pred)\n",
        "  mase = mean_absolute_scaled_error(y_true, y_pred)\n",
        "\n",
        "  # Account for Different Sized Metrics (For Longer horizons, Reducing Metrics To A Single Value)\n",
        "  if mae.ndim > 0:\n",
        "    mae = tf.reduce_mean(mae)\n",
        "    mse = tf.reduce_mean(mse)\n",
        "    rmse = tf.reduce_mean(rmse)\n",
        "    mape = tf.reduce_mean(mape)\n",
        "    mase = tf.reduce_mean(mase)\n",
        "\n",
        "\n",
        "  return {'MAE': mae.numpy(),\n",
        "          'MSE': mse.numpy(),\n",
        "          'RMSE': rmse.numpy(),\n",
        "          'MAPE': mape.numpy(),\n",
        "          'MASE': mase.numpy()}"
      ]
    },
    {
      "cell_type": "code",
      "execution_count": null,
      "metadata": {
        "id": "eGfv-Q1uNuC3",
        "colab": {
          "base_uri": "https://localhost:8080/"
        },
        "outputId": "fe079515-15d7-4106-c3f3-de7f4e5ef19e"
      },
      "outputs": [
        {
          "output_type": "execute_result",
          "data": {
            "text/plain": [
              "{'MAE': 1228.1416,\n",
              " 'MSE': 5323686.5,\n",
              " 'RMSE': 1412.9114,\n",
              " 'MAPE': 5.4698334,\n",
              " 'MASE': 2.1854093}"
            ]
          },
          "metadata": {},
          "execution_count": 62
        }
      ],
      "source": [
        "# Evaluating model_3 Results\n",
        "model_3_results = evaluate_preds(y_true=tf.squeeze(test_labels),\n",
        "                                 y_pred=model_3_preds)\n",
        "model_3_results"
      ]
    },
    {
      "cell_type": "code",
      "execution_count": null,
      "metadata": {
        "id": "Vi9TP42FN2m8",
        "colab": {
          "base_uri": "https://localhost:8080/",
          "height": 442
        },
        "outputId": "62a0266b-1a79-49ce-94f3-41b537f5f7e5"
      },
      "outputs": [
        {
          "output_type": "display_data",
          "data": {
            "text/plain": [
              "<Figure size 720x504 with 1 Axes>"
            ],
            "image/png": "[encoded data removed]"
          },
          "metadata": {
            "needs_background": "light"
          }
        }
      ],
      "source": [
        "offset = 300\n",
        "plt.figure(figsize=(10, 7))\n",
        "plot_time_series(timesteps=X_test[-len(test_windows):],\n",
        "                 values=test_labels[:, 0],\n",
        "                 format='-',\n",
        "                 start=offset,\n",
        "                 label='Test Data')\n",
        "plot_time_series(timesteps=X_test[-len(test_windows):],\n",
        "                 values=model_3_preds,\n",
        "                 start=offset,\n",
        "                 label='model_3_preds')"
      ]
    },
    {
      "cell_type": "code",
      "execution_count": null,
      "metadata": {
        "id": "-mimpbCUO3la",
        "colab": {
          "base_uri": "https://localhost:8080/",
          "height": 442
        },
        "outputId": "4a5b48ff-61df-4180-f7e0-c5a088d11a9e"
      },
      "outputs": [
        {
          "output_type": "display_data",
          "data": {
            "text/plain": [
              "<Figure size 720x504 with 1 Axes>"
            ],
            "image/png": "[encoded data removed]"
          },
          "metadata": {
            "needs_background": "light"
          }
        }
      ],
      "source": [
        "offset = 300\n",
        "plt.figure(figsize=(10, 7))\n",
        "plot_time_series(timesteps=X_test[-len(test_windows):],\n",
        "                 values=test_labels[:, 0],\n",
        "                 start=offset,\n",
        "                 label='Test Data')\n",
        "plot_time_series(timesteps=X_test[-len(test_windows):],\n",
        "                 values=tf.reduce_mean(model_3_preds, axis=1),\n",
        "                 format='-',                 \n",
        "                 start=offset,\n",
        "                 label='model_3_preds')"
      ]
    },
    {
      "cell_type": "markdown",
      "metadata": {
        "id": "BxNEdzV0P7-B"
      },
      "source": [
        "##BEST PERFORMING MODEL SO FAR (A COMPARISON)"
      ]
    },
    {
      "cell_type": "code",
      "execution_count": null,
      "metadata": {
        "id": "FfzvX5gnRRiw",
        "colab": {
          "base_uri": "https://localhost:8080/",
          "height": 440
        },
        "outputId": "c7ca81fa-6b88-4502-84e0-5fa764158a72"
      },
      "outputs": [
        {
          "output_type": "display_data",
          "data": {
            "text/plain": [
              "<Figure size 720x504 with 1 Axes>"
            ],
            "image/png": "[encoded data removed]"
          },
          "metadata": {
            "needs_background": "light"
          }
        }
      ],
      "source": [
        "pd.DataFrame({'NAIVE': naive_results['MAE'],\n",
        "              'HORIZON_1_WINDOW_7': model_1_results['MAE'],\n",
        "              'HORIZON_1_WINDOW_30': model_2_results['MAE'],\n",
        "              'HORIZON_7_WINDOW_30': model_3_results['MAE']}, index=['MAE']).plot(figsize=(10, 7), kind='bar');"
      ]
    },
    {
      "cell_type": "markdown",
      "metadata": {
        "id": "u_LSzS-LTHUC"
      },
      "source": [
        "##MODEL 4 : Conv1D"
      ]
    },
    {
      "cell_type": "code",
      "execution_count": null,
      "metadata": {
        "id": "Kfngw6omdqve"
      },
      "outputs": [],
      "source": [
        "HORIZON = 1\n",
        "WINDOW_SIZE = 7"
      ]
    },
    {
      "cell_type": "code",
      "execution_count": null,
      "metadata": {
        "id": "hSQuLhy5eIlb",
        "colab": {
          "base_uri": "https://localhost:8080/"
        },
        "outputId": "feae953a-e0ba-4192-ab96-4104cbe128d2"
      },
      "outputs": [
        {
          "output_type": "execute_result",
          "data": {
            "text/plain": [
              "(2780, 2780)"
            ]
          },
          "metadata": {},
          "execution_count": 67
        }
      ],
      "source": [
        "# Creating Windowed Data\n",
        "full_windows, full_labels = make_windows(prices, windows_size=WINDOW_SIZE, horizon=HORIZON)\n",
        "len(full_windows), len(full_labels)"
      ]
    },
    {
      "cell_type": "code",
      "execution_count": null,
      "metadata": {
        "id": "P5QTNMfZeeYO",
        "colab": {
          "base_uri": "https://localhost:8080/"
        },
        "outputId": "aeb19f0d-f22e-4b59-cc60-ddc2cd2661e1"
      },
      "outputs": [
        {
          "output_type": "execute_result",
          "data": {
            "text/plain": [
              "(2224, 556, 2224, 556)"
            ]
          },
          "metadata": {},
          "execution_count": 68
        }
      ],
      "source": [
        "# Creating train/test Sets\n",
        "train_windows, test_windows, train_labels, test_labels = make_train_test_splits(full_windows, full_labels)\n",
        "len(train_windows), len(test_windows), len(train_labels), len(test_labels)"
      ]
    },
    {
      "cell_type": "code",
      "execution_count": null,
      "metadata": {
        "id": "s_nsYl3yfmGv",
        "colab": {
          "base_uri": "https://localhost:8080/"
        },
        "outputId": "d0a4b16d-ed15-423b-8fe6-0d7ca3f4878b"
      },
      "outputs": [
        {
          "output_type": "execute_result",
          "data": {
            "text/plain": [
              "(7,)"
            ]
          },
          "metadata": {},
          "execution_count": 69
        }
      ],
      "source": [
        "train_windows[0].shape"
      ]
    },
    {
      "cell_type": "code",
      "execution_count": null,
      "metadata": {
        "id": "bzTG4QGZgRSw",
        "colab": {
          "base_uri": "https://localhost:8080/"
        },
        "outputId": "a086e227-fad9-4b7e-9997-f1393820106b"
      },
      "outputs": [
        {
          "output_type": "execute_result",
          "data": {
            "text/plain": [
              "<tf.Tensor: shape=(7,), dtype=float64, numpy=\n",
              "array([123.65499, 125.455  , 108.58483, 118.67466, 121.33866, 120.65533,\n",
              "       121.795  ])>"
            ]
          },
          "metadata": {},
          "execution_count": 70
        }
      ],
      "source": [
        "x = tf.constant(train_windows[0])\n",
        "x"
      ]
    },
    {
      "cell_type": "code",
      "execution_count": null,
      "metadata": {
        "id": "h4tUzpEQgeWL"
      },
      "outputs": [],
      "source": [
        "expand_dims_layer = layers.Lambda(lambda x: tf.expand_dims(x, axis=1))"
      ]
    },
    {
      "cell_type": "code",
      "execution_count": null,
      "metadata": {
        "id": "v-Z1czi1g5YD",
        "colab": {
          "base_uri": "https://localhost:8080/"
        },
        "outputId": "8075a2af-927c-4a76-98c7-1ea381f3ab37"
      },
      "outputs": [
        {
          "output_type": "stream",
          "name": "stdout",
          "text": [
            "ORIGINAL SHAPE: (7,)\n",
            "EXPANDED SHAPE: (7, 1)\n",
            "ORIGINAL VALUES WITH EXPANDED SHAPE:\n",
            " [[123.65499]\n",
            " [125.455  ]\n",
            " [108.58483]\n",
            " [118.67466]\n",
            " [121.33866]\n",
            " [120.65533]\n",
            " [121.795  ]]\n"
          ]
        }
      ],
      "source": [
        "# Testing Out Our lambda layer\n",
        "print(f'ORIGINAL SHAPE: {x.shape}')\n",
        "print(f'EXPANDED SHAPE: {expand_dims_layer(x).shape}')\n",
        "print(f'ORIGINAL VALUES WITH EXPANDED SHAPE:\\n {expand_dims_layer(x)}')"
      ]
    },
    {
      "cell_type": "code",
      "execution_count": null,
      "metadata": {
        "id": "kHM3wnrUh4Lc",
        "colab": {
          "base_uri": "https://localhost:8080/"
        },
        "outputId": "94e435ca-e81a-4951-e2ed-85ab55d9c854"
      },
      "outputs": [
        {
          "output_type": "execute_result",
          "data": {
            "text/plain": [
              "<keras.callbacks.History at 0x7ff64434cb90>"
            ]
          },
          "metadata": {},
          "execution_count": 73
        }
      ],
      "source": [
        "tf.random.set_seed(42)\n",
        "\n",
        "model_4 = tf.keras.Sequential([\n",
        "    layers.Lambda(lambda x: tf.expand_dims(x, axis=1)),\n",
        "    layers.Conv1D(filters=128, kernel_size=7, strides=1, padding='causal', activation='relu'),\n",
        "    layers.Dense(HORIZON)\n",
        "], name='model_4_conv1D')\n",
        "\n",
        "model_4.compile(loss=tf.keras.losses.MeanAbsoluteError(),\n",
        "                optimizer=tf.keras.optimizers.Adam())\n",
        "\n",
        "model_4.fit(train_windows,\n",
        "            train_labels,\n",
        "            batch_size=128,\n",
        "            epochs=100,\n",
        "            verbose=0,\n",
        "            validation_data=(test_windows, test_labels),\n",
        "            callbacks=[create_model_checkpoint(model_name=model_4.name)])\n"
      ]
    },
    {
      "cell_type": "code",
      "execution_count": null,
      "metadata": {
        "id": "iHmi3m5MlJ6g",
        "colab": {
          "base_uri": "https://localhost:8080/"
        },
        "outputId": "5222b239-5ca7-403a-807c-0c2ff1e3611a"
      },
      "outputs": [
        {
          "output_type": "stream",
          "name": "stdout",
          "text": [
            "Model: \"model_4_conv1D\"\n",
            "_________________________________________________________________\n",
            " Layer (type)                Output Shape              Param #   \n",
            "=================================================================\n",
            " lambda_1 (Lambda)           (None, 1, 7)              0         \n",
            "                                                                 \n",
            " conv1d (Conv1D)             (None, 1, 128)            6400      \n",
            "                                                                 \n",
            " dense_6 (Dense)             (None, 1, 1)              129       \n",
            "                                                                 \n",
            "=================================================================\n",
            "Total params: 6,529\n",
            "Trainable params: 6,529\n",
            "Non-trainable params: 0\n",
            "_________________________________________________________________\n"
          ]
        }
      ],
      "source": [
        "model_4.summary()"
      ]
    },
    {
      "cell_type": "code",
      "execution_count": null,
      "metadata": {
        "id": "TzvYSbQ_lkkI",
        "colab": {
          "base_uri": "https://localhost:8080/"
        },
        "outputId": "d4812582-1a2b-479d-b689-11b675ab3c49"
      },
      "outputs": [
        {
          "output_type": "stream",
          "name": "stdout",
          "text": [
            "18/18 [==============================] - 0s 2ms/step - loss: 609.9927\n"
          ]
        },
        {
          "output_type": "execute_result",
          "data": {
            "text/plain": [
              "609.99267578125"
            ]
          },
          "metadata": {},
          "execution_count": 75
        }
      ],
      "source": [
        "# Evaluating Model\n",
        "model_4.evaluate(test_windows, test_labels)"
      ]
    },
    {
      "cell_type": "code",
      "execution_count": null,
      "metadata": {
        "id": "1noDv5p8lqR5",
        "colab": {
          "base_uri": "https://localhost:8080/"
        },
        "outputId": "23610b4c-5fee-4877-f2f8-ea63c856e4c1"
      },
      "outputs": [
        {
          "output_type": "stream",
          "name": "stdout",
          "text": [
            "18/18 [==============================] - 0s 2ms/step - loss: 570.3994\n"
          ]
        },
        {
          "output_type": "execute_result",
          "data": {
            "text/plain": [
              "570.3993530273438"
            ]
          },
          "metadata": {},
          "execution_count": 76
        }
      ],
      "source": [
        "# Loading The Best Performing Conv1D And Re-Evaluating\n",
        "model_4 = tf.keras.models.load_model('/content/model_experiments/model_4_conv1D')\n",
        "model_4.evaluate(test_windows, test_labels)"
      ]
    },
    {
      "cell_type": "code",
      "execution_count": null,
      "metadata": {
        "id": "z_mYDE1umUS2",
        "colab": {
          "base_uri": "https://localhost:8080/"
        },
        "outputId": "d6d31eb8-06bb-4d0d-ff2d-eb08e6df7c16"
      },
      "outputs": [
        {
          "output_type": "execute_result",
          "data": {
            "text/plain": [
              "<tf.Tensor: shape=(10,), dtype=float32, numpy=\n",
              "array([8897.537 , 8793.336 , 9025.615 , 8800.965 , 8748.348 , 8769.1875,\n",
              "       8684.735 , 8543.161 , 8480.019 , 8531.297 ], dtype=float32)>"
            ]
          },
          "metadata": {},
          "execution_count": 77
        }
      ],
      "source": [
        "# Making Predictions\n",
        "model_4_preds = make_preds(model_4, test_windows)\n",
        "model_4_preds[:10]"
      ]
    },
    {
      "cell_type": "code",
      "execution_count": null,
      "metadata": {
        "id": "mS-BssXcmpIW",
        "colab": {
          "base_uri": "https://localhost:8080/"
        },
        "outputId": "350c8f38-745d-464b-b963-f739585b9f44"
      },
      "outputs": [
        {
          "output_type": "execute_result",
          "data": {
            "text/plain": [
              "{'MAE': 570.39935,\n",
              " 'MSE': 1182763.1,\n",
              " 'RMSE': 1087.5492,\n",
              " 'MAPE': 2.5455725,\n",
              " 'MASE': 1.0020337}"
            ]
          },
          "metadata": {},
          "execution_count": 78
        }
      ],
      "source": [
        "# Evaluating Results\n",
        "model_4_results = evaluate_preds(y_true=tf.squeeze(test_labels),\n",
        "                                 y_pred=model_4_preds)\n",
        "model_4_results"
      ]
    },
    {
      "cell_type": "markdown",
      "metadata": {
        "id": "bE8CO_4Dm9f0"
      },
      "source": [
        "##MODEL 5 : RNN (LSTM)"
      ]
    },
    {
      "cell_type": "code",
      "execution_count": null,
      "metadata": {
        "id": "owu-ZPgvneLF",
        "colab": {
          "base_uri": "https://localhost:8080/"
        },
        "outputId": "83540770-49e0-4c9a-b529-11bf0222acda"
      },
      "outputs": [
        {
          "output_type": "stream",
          "name": "stdout",
          "text": [
            "Epoch 1/100\n",
            "11/18 [=================>............] - ETA: 0s - loss: 2544.2009 "
          ]
        },
        {
          "output_type": "stream",
          "name": "stderr",
          "text": [
            "WARNING:absl:<keras.layers.recurrent.LSTMCell object at 0x7ff6444c4350> has the same name 'LSTMCell' as a built-in Keras object. Consider renaming <class 'keras.layers.recurrent.LSTMCell'> to avoid naming conflicts when loading with `tf.keras.models.load_model`. If renaming is not possible, pass the object in the `custom_objects` parameter of the load function.\n"
          ]
        },
        {
          "output_type": "stream",
          "name": "stdout",
          "text": [
            "\b\b\b\b\b\b\b\b\b\b\b\b\b\b\b\b\b\b\b\b\b\b\b\b\b\b\b\b\b\b\b\b\b\b\b\b\b\b\b\b\b\b\b\b\b\b\b\b\b\b\b\b\b\b\b\b\b\b\b\b\b\b\b\b\b\b\r18/18 [==============================] - 4s 160ms/step - loss: 2323.6123 - val_loss: 9224.3506\n",
            "Epoch 2/100\n",
            " 9/18 [==============>...............] - ETA: 0s - loss: 1004.6306"
          ]
        },
        {
          "output_type": "stream",
          "name": "stderr",
          "text": [
            "WARNING:absl:<keras.layers.recurrent.LSTMCell object at 0x7ff6444c4350> has the same name 'LSTMCell' as a built-in Keras object. Consider renaming <class 'keras.layers.recurrent.LSTMCell'> to avoid naming conflicts when loading with `tf.keras.models.load_model`. If renaming is not possible, pass the object in the `custom_objects` parameter of the load function.\n"
          ]
        },
        {
          "output_type": "stream",
          "name": "stdout",
          "text": [
            "\b\b\b\b\b\b\b\b\b\b\b\b\b\b\b\b\b\b\b\b\b\b\b\b\b\b\b\b\b\b\b\b\b\b\b\b\b\b\b\b\b\b\b\b\b\b\b\b\b\b\b\b\b\b\b\b\b\b\b\b\b\b\b\b\b\b\r18/18 [==============================] - 2s 128ms/step - loss: 695.4956 - val_loss: 1485.8942\n",
            "Epoch 3/100\n",
            "10/18 [===============>..............] - ETA: 0s - loss: 273.3071"
          ]
        },
        {
          "output_type": "stream",
          "name": "stderr",
          "text": [
            "WARNING:absl:<keras.layers.recurrent.LSTMCell object at 0x7ff6444c4350> has the same name 'LSTMCell' as a built-in Keras object. Consider renaming <class 'keras.layers.recurrent.LSTMCell'> to avoid naming conflicts when loading with `tf.keras.models.load_model`. If renaming is not possible, pass the object in the `custom_objects` parameter of the load function.\n"
          ]
        },
        {
          "output_type": "stream",
          "name": "stdout",
          "text": [
            "\b\b\b\b\b\b\b\b\b\b\b\b\b\b\b\b\b\b\b\b\b\b\b\b\b\b\b\b\b\b\b\b\b\b\b\b\b\b\b\b\b\b\b\b\b\b\b\b\b\b\b\b\b\b\b\b\b\b\b\b\b\b\b\b\b\r18/18 [==============================] - 2s 122ms/step - loss: 237.3010 - val_loss: 1298.9436\n",
            "Epoch 4/100\n",
            "10/18 [===============>..............] - ETA: 0s - loss: 200.8831"
          ]
        },
        {
          "output_type": "stream",
          "name": "stderr",
          "text": [
            "WARNING:absl:<keras.layers.recurrent.LSTMCell object at 0x7ff6444c4350> has the same name 'LSTMCell' as a built-in Keras object. Consider renaming <class 'keras.layers.recurrent.LSTMCell'> to avoid naming conflicts when loading with `tf.keras.models.load_model`. If renaming is not possible, pass the object in the `custom_objects` parameter of the load function.\n"
          ]
        },
        {
          "output_type": "stream",
          "name": "stdout",
          "text": [
            "\b\b\b\b\b\b\b\b\b\b\b\b\b\b\b\b\b\b\b\b\b\b\b\b\b\b\b\b\b\b\b\b\b\b\b\b\b\b\b\b\b\b\b\b\b\b\b\b\b\b\b\b\b\b\b\b\b\b\b\b\b\b\b\b\b\r18/18 [==============================] - 2s 146ms/step - loss: 181.9182 - val_loss: 966.6407\n",
            "Epoch 5/100\n",
            "18/18 [==============================] - 0s 8ms/step - loss: 173.4021 - val_loss: 970.9384\n",
            "Epoch 6/100\n",
            "11/18 [=================>............] - ETA: 0s - loss: 169.3526"
          ]
        },
        {
          "output_type": "stream",
          "name": "stderr",
          "text": [
            "WARNING:absl:<keras.layers.recurrent.LSTMCell object at 0x7ff6444c4350> has the same name 'LSTMCell' as a built-in Keras object. Consider renaming <class 'keras.layers.recurrent.LSTMCell'> to avoid naming conflicts when loading with `tf.keras.models.load_model`. If renaming is not possible, pass the object in the `custom_objects` parameter of the load function.\n"
          ]
        },
        {
          "output_type": "stream",
          "name": "stdout",
          "text": [
            "\b\b\b\b\b\b\b\b\b\b\b\b\b\b\b\b\b\b\b\b\b\b\b\b\b\b\b\b\b\b\b\b\b\b\b\b\b\b\b\b\b\b\b\b\b\b\b\b\b\b\b\b\b\b\b\b\b\b\b\b\b\b\b\b\b\r18/18 [==============================] - 2s 125ms/step - loss: 172.3319 - val_loss: 891.5209\n",
            "Epoch 7/100\n",
            "18/18 [==============================] - 0s 9ms/step - loss: 168.9708 - val_loss: 968.6377\n",
            "Epoch 8/100\n",
            "18/18 [==============================] - 0s 7ms/step - loss: 169.5318 - val_loss: 963.4456\n",
            "Epoch 9/100\n",
            "18/18 [==============================] - 0s 8ms/step - loss: 167.5760 - val_loss: 956.5829\n",
            "Epoch 10/100\n",
            "18/18 [==============================] - 0s 7ms/step - loss: 166.3443 - val_loss: 936.8956\n",
            "Epoch 11/100\n",
            "18/18 [==============================] - 0s 7ms/step - loss: 165.4762 - val_loss: 909.1110\n",
            "Epoch 12/100\n",
            "18/18 [==============================] - ETA: 0s - loss: 169.9951"
          ]
        },
        {
          "output_type": "stream",
          "name": "stderr",
          "text": [
            "WARNING:absl:<keras.layers.recurrent.LSTMCell object at 0x7ff6444c4350> has the same name 'LSTMCell' as a built-in Keras object. Consider renaming <class 'keras.layers.recurrent.LSTMCell'> to avoid naming conflicts when loading with `tf.keras.models.load_model`. If renaming is not possible, pass the object in the `custom_objects` parameter of the load function.\n"
          ]
        },
        {
          "output_type": "stream",
          "name": "stdout",
          "text": [
            "\b\b\b\b\b\b\b\b\b\b\b\b\b\b\b\b\b\b\b\b\b\b\b\b\b\b\b\b\b\b\b\b\b\b\b\b\b\b\b\b\b\b\b\b\b\b\b\b\b\b\b\b\b\b\b\b\b\b\b\b\b\b\b\b\b\r18/18 [==============================] - 2s 125ms/step - loss: 169.9951 - val_loss: 891.2327\n",
            "Epoch 13/100\n",
            "18/18 [==============================] - 0s 7ms/step - loss: 160.3806 - val_loss: 898.5595\n",
            "Epoch 14/100\n",
            "18/18 [==============================] - 0s 8ms/step - loss: 157.6484 - val_loss: 927.9266\n",
            "Epoch 15/100\n",
            "18/18 [==============================] - 0s 8ms/step - loss: 167.6508 - val_loss: 982.9256\n",
            "Epoch 16/100\n",
            "18/18 [==============================] - 0s 7ms/step - loss: 160.4521 - val_loss: 916.0458\n",
            "Epoch 17/100\n",
            "18/18 [==============================] - 0s 7ms/step - loss: 153.8805 - val_loss: 928.6927\n",
            "Epoch 18/100\n",
            "10/18 [===============>..............] - ETA: 0s - loss: 162.7562"
          ]
        },
        {
          "output_type": "stream",
          "name": "stderr",
          "text": [
            "WARNING:absl:<keras.layers.recurrent.LSTMCell object at 0x7ff6444c4350> has the same name 'LSTMCell' as a built-in Keras object. Consider renaming <class 'keras.layers.recurrent.LSTMCell'> to avoid naming conflicts when loading with `tf.keras.models.load_model`. If renaming is not possible, pass the object in the `custom_objects` parameter of the load function.\n"
          ]
        },
        {
          "output_type": "stream",
          "name": "stdout",
          "text": [
            "\b\b\b\b\b\b\b\b\b\b\b\b\b\b\b\b\b\b\b\b\b\b\b\b\b\b\b\b\b\b\b\b\b\b\b\b\b\b\b\b\b\b\b\b\b\b\b\b\b\b\b\b\b\b\b\b\b\b\b\b\b\b\b\b\b\r18/18 [==============================] - 2s 123ms/step - loss: 152.1556 - val_loss: 865.6219\n",
            "Epoch 19/100\n",
            "18/18 [==============================] - 0s 8ms/step - loss: 148.8319 - val_loss: 876.9328\n",
            "Epoch 20/100\n",
            "17/18 [===========================>..] - ETA: 0s - loss: 149.3575"
          ]
        },
        {
          "output_type": "stream",
          "name": "stderr",
          "text": [
            "WARNING:absl:<keras.layers.recurrent.LSTMCell object at 0x7ff6444c4350> has the same name 'LSTMCell' as a built-in Keras object. Consider renaming <class 'keras.layers.recurrent.LSTMCell'> to avoid naming conflicts when loading with `tf.keras.models.load_model`. If renaming is not possible, pass the object in the `custom_objects` parameter of the load function.\n"
          ]
        },
        {
          "output_type": "stream",
          "name": "stdout",
          "text": [
            "\b\b\b\b\b\b\b\b\b\b\b\b\b\b\b\b\b\b\b\b\b\b\b\b\b\b\b\b\b\b\b\b\b\b\b\b\b\b\b\b\b\b\b\b\b\b\b\b\b\b\b\b\b\b\b\b\b\b\b\b\b\b\b\b\b\r18/18 [==============================] - 3s 151ms/step - loss: 149.6801 - val_loss: 831.2376\n",
            "Epoch 21/100\n",
            "10/18 [===============>..............] - ETA: 0s - loss: 152.9093"
          ]
        },
        {
          "output_type": "stream",
          "name": "stderr",
          "text": [
            "WARNING:absl:<keras.layers.recurrent.LSTMCell object at 0x7ff6444c4350> has the same name 'LSTMCell' as a built-in Keras object. Consider renaming <class 'keras.layers.recurrent.LSTMCell'> to avoid naming conflicts when loading with `tf.keras.models.load_model`. If renaming is not possible, pass the object in the `custom_objects` parameter of the load function.\n"
          ]
        },
        {
          "output_type": "stream",
          "name": "stdout",
          "text": [
            "\b\b\b\b\b\b\b\b\b\b\b\b\b\b\b\b\b\b\b\b\b\b\b\b\b\b\b\b\b\b\b\b\b\b\b\b\b\b\b\b\b\b\b\b\b\b\b\b\b\b\b\b\b\b\b\b\b\b\b\b\b\b\b\b\b\r18/18 [==============================] - 2s 125ms/step - loss: 145.7330 - val_loss: 821.0629\n",
            "Epoch 22/100\n",
            "18/18 [==============================] - 0s 7ms/step - loss: 143.9433 - val_loss: 821.2911\n",
            "Epoch 23/100\n",
            "18/18 [==============================] - 0s 7ms/step - loss: 143.1268 - val_loss: 837.1895\n",
            "Epoch 24/100\n",
            "11/18 [=================>............] - ETA: 0s - loss: 137.9351"
          ]
        },
        {
          "output_type": "stream",
          "name": "stderr",
          "text": [
            "WARNING:absl:<keras.layers.recurrent.LSTMCell object at 0x7ff6444c4350> has the same name 'LSTMCell' as a built-in Keras object. Consider renaming <class 'keras.layers.recurrent.LSTMCell'> to avoid naming conflicts when loading with `tf.keras.models.load_model`. If renaming is not possible, pass the object in the `custom_objects` parameter of the load function.\n"
          ]
        },
        {
          "output_type": "stream",
          "name": "stdout",
          "text": [
            "\b\b\b\b\b\b\b\b\b\b\b\b\b\b\b\b\b\b\b\b\b\b\b\b\b\b\b\b\b\b\b\b\b\b\b\b\b\b\b\b\b\b\b\b\b\b\b\b\b\b\b\b\b\b\b\b\b\b\b\b\b\b\b\b\b\r18/18 [==============================] - 2s 125ms/step - loss: 141.0378 - val_loss: 808.0547\n",
            "Epoch 25/100\n",
            "11/18 [=================>............] - ETA: 0s - loss: 145.0154"
          ]
        },
        {
          "output_type": "stream",
          "name": "stderr",
          "text": [
            "WARNING:absl:<keras.layers.recurrent.LSTMCell object at 0x7ff6444c4350> has the same name 'LSTMCell' as a built-in Keras object. Consider renaming <class 'keras.layers.recurrent.LSTMCell'> to avoid naming conflicts when loading with `tf.keras.models.load_model`. If renaming is not possible, pass the object in the `custom_objects` parameter of the load function.\n"
          ]
        },
        {
          "output_type": "stream",
          "name": "stdout",
          "text": [
            "\b\b\b\b\b\b\b\b\b\b\b\b\b\b\b\b\b\b\b\b\b\b\b\b\b\b\b\b\b\b\b\b\b\b\b\b\b\b\b\b\b\b\b\b\b\b\b\b\b\b\b\b\b\b\b\b\b\b\b\b\b\b\b\b\b\r18/18 [==============================] - 2s 124ms/step - loss: 139.0068 - val_loss: 787.0112\n",
            "Epoch 26/100\n",
            "18/18 [==============================] - ETA: 0s - loss: 137.9395"
          ]
        },
        {
          "output_type": "stream",
          "name": "stderr",
          "text": [
            "WARNING:absl:<keras.layers.recurrent.LSTMCell object at 0x7ff6444c4350> has the same name 'LSTMCell' as a built-in Keras object. Consider renaming <class 'keras.layers.recurrent.LSTMCell'> to avoid naming conflicts when loading with `tf.keras.models.load_model`. If renaming is not possible, pass the object in the `custom_objects` parameter of the load function.\n"
          ]
        },
        {
          "output_type": "stream",
          "name": "stdout",
          "text": [
            "\b\b\b\b\b\b\b\b\b\b\b\b\b\b\b\b\b\b\b\b\b\b\b\b\b\b\b\b\b\b\b\b\b\b\b\b\b\b\b\b\b\b\b\b\b\b\b\b\b\b\b\b\b\b\b\b\b\b\b\b\b\b\b\b\b\r18/18 [==============================] - 4s 240ms/step - loss: 137.9395 - val_loss: 769.2203\n",
            "Epoch 27/100\n",
            "18/18 [==============================] - 0s 15ms/step - loss: 136.4498 - val_loss: 772.5977\n",
            "Epoch 28/100\n",
            "18/18 [==============================] - ETA: 0s - loss: 135.2745"
          ]
        },
        {
          "output_type": "stream",
          "name": "stderr",
          "text": [
            "WARNING:absl:<keras.layers.recurrent.LSTMCell object at 0x7ff6444c4350> has the same name 'LSTMCell' as a built-in Keras object. Consider renaming <class 'keras.layers.recurrent.LSTMCell'> to avoid naming conflicts when loading with `tf.keras.models.load_model`. If renaming is not possible, pass the object in the `custom_objects` parameter of the load function.\n"
          ]
        },
        {
          "output_type": "stream",
          "name": "stdout",
          "text": [
            "\b\b\b\b\b\b\b\b\b\b\b\b\b\b\b\b\b\b\b\b\b\b\b\b\b\b\b\b\b\b\b\b\b\b\b\b\b\b\b\b\b\b\b\b\b\b\b\b\b\b\b\b\b\b\b\b\b\b\b\b\b\b\b\b\b\r18/18 [==============================] - 5s 302ms/step - loss: 135.2745 - val_loss: 751.0115\n",
            "Epoch 29/100\n",
            "18/18 [==============================] - 0s 12ms/step - loss: 135.5958 - val_loss: 759.8718\n",
            "Epoch 30/100\n",
            "18/18 [==============================] - 0s 12ms/step - loss: 138.2377 - val_loss: 789.2983\n",
            "Epoch 31/100\n",
            "14/18 [======================>.......] - ETA: 0s - loss: 133.7275"
          ]
        },
        {
          "output_type": "stream",
          "name": "stderr",
          "text": [
            "WARNING:absl:<keras.layers.recurrent.LSTMCell object at 0x7ff6444c4350> has the same name 'LSTMCell' as a built-in Keras object. Consider renaming <class 'keras.layers.recurrent.LSTMCell'> to avoid naming conflicts when loading with `tf.keras.models.load_model`. If renaming is not possible, pass the object in the `custom_objects` parameter of the load function.\n"
          ]
        },
        {
          "output_type": "stream",
          "name": "stdout",
          "text": [
            "\b\b\b\b\b\b\b\b\b\b\b\b\b\b\b\b\b\b\b\b\b\b\b\b\b\b\b\b\b\b\b\b\b\b\b\b\b\b\b\b\b\b\b\b\b\b\b\b\b\b\b\b\b\b\b\b\b\b\b\b\b\b\b\b\b\r18/18 [==============================] - 4s 236ms/step - loss: 133.4514 - val_loss: 730.3293\n",
            "Epoch 32/100\n",
            "18/18 [==============================] - 0s 12ms/step - loss: 129.2459 - val_loss: 730.9674\n",
            "Epoch 33/100\n",
            "13/18 [====================>.........] - ETA: 0s - loss: 129.6380"
          ]
        },
        {
          "output_type": "stream",
          "name": "stderr",
          "text": [
            "WARNING:absl:<keras.layers.recurrent.LSTMCell object at 0x7ff6444c4350> has the same name 'LSTMCell' as a built-in Keras object. Consider renaming <class 'keras.layers.recurrent.LSTMCell'> to avoid naming conflicts when loading with `tf.keras.models.load_model`. If renaming is not possible, pass the object in the `custom_objects` parameter of the load function.\n"
          ]
        },
        {
          "output_type": "stream",
          "name": "stdout",
          "text": [
            "\b\b\b\b\b\b\b\b\b\b\b\b\b\b\b\b\b\b\b\b\b\b\b\b\b\b\b\b\b\b\b\b\b\b\b\b\b\b\b\b\b\b\b\b\b\b\b\b\b\b\b\b\b\b\b\b\b\b\b\b\b\b\b\b\b\r18/18 [==============================] - 4s 261ms/step - loss: 128.6682 - val_loss: 726.6902\n",
            "Epoch 34/100\n",
            "10/18 [===============>..............] - ETA: 0s - loss: 131.6328"
          ]
        },
        {
          "output_type": "stream",
          "name": "stderr",
          "text": [
            "WARNING:absl:<keras.layers.recurrent.LSTMCell object at 0x7ff6444c4350> has the same name 'LSTMCell' as a built-in Keras object. Consider renaming <class 'keras.layers.recurrent.LSTMCell'> to avoid naming conflicts when loading with `tf.keras.models.load_model`. If renaming is not possible, pass the object in the `custom_objects` parameter of the load function.\n"
          ]
        },
        {
          "output_type": "stream",
          "name": "stdout",
          "text": [
            "\b\b\b\b\b\b\b\b\b\b\b\b\b\b\b\b\b\b\b\b\b\b\b\b\b\b\b\b\b\b\b\b\b\b\b\b\b\b\b\b\b\b\b\b\b\b\b\b\b\b\b\b\b\b\b\b\b\b\b\b\b\b\b\b\b\r18/18 [==============================] - 2s 133ms/step - loss: 128.9641 - val_loss: 708.2340\n",
            "Epoch 35/100\n",
            "10/18 [===============>..............] - ETA: 0s - loss: 125.0531"
          ]
        },
        {
          "output_type": "stream",
          "name": "stderr",
          "text": [
            "WARNING:absl:<keras.layers.recurrent.LSTMCell object at 0x7ff6444c4350> has the same name 'LSTMCell' as a built-in Keras object. Consider renaming <class 'keras.layers.recurrent.LSTMCell'> to avoid naming conflicts when loading with `tf.keras.models.load_model`. If renaming is not possible, pass the object in the `custom_objects` parameter of the load function.\n"
          ]
        },
        {
          "output_type": "stream",
          "name": "stdout",
          "text": [
            "\b\b\b\b\b\b\b\b\b\b\b\b\b\b\b\b\b\b\b\b\b\b\b\b\b\b\b\b\b\b\b\b\b\b\b\b\b\b\b\b\b\b\b\b\b\b\b\b\b\b\b\b\b\b\b\b\b\b\b\b\b\b\b\b\b\r18/18 [==============================] - 2s 125ms/step - loss: 126.4375 - val_loss: 702.6016\n",
            "Epoch 36/100\n",
            "10/18 [===============>..............] - ETA: 0s - loss: 120.9583"
          ]
        },
        {
          "output_type": "stream",
          "name": "stderr",
          "text": [
            "WARNING:absl:<keras.layers.recurrent.LSTMCell object at 0x7ff6444c4350> has the same name 'LSTMCell' as a built-in Keras object. Consider renaming <class 'keras.layers.recurrent.LSTMCell'> to avoid naming conflicts when loading with `tf.keras.models.load_model`. If renaming is not possible, pass the object in the `custom_objects` parameter of the load function.\n"
          ]
        },
        {
          "output_type": "stream",
          "name": "stdout",
          "text": [
            "\b\b\b\b\b\b\b\b\b\b\b\b\b\b\b\b\b\b\b\b\b\b\b\b\b\b\b\b\b\b\b\b\b\b\b\b\b\b\b\b\b\b\b\b\b\b\b\b\b\b\b\b\b\b\b\b\b\b\b\b\b\b\b\b\b\r18/18 [==============================] - 2s 124ms/step - loss: 125.8648 - val_loss: 696.0234\n",
            "Epoch 37/100\n",
            "11/18 [=================>............] - ETA: 0s - loss: 122.4251"
          ]
        },
        {
          "output_type": "stream",
          "name": "stderr",
          "text": [
            "WARNING:absl:<keras.layers.recurrent.LSTMCell object at 0x7ff6444c4350> has the same name 'LSTMCell' as a built-in Keras object. Consider renaming <class 'keras.layers.recurrent.LSTMCell'> to avoid naming conflicts when loading with `tf.keras.models.load_model`. If renaming is not possible, pass the object in the `custom_objects` parameter of the load function.\n"
          ]
        },
        {
          "output_type": "stream",
          "name": "stdout",
          "text": [
            "\b\b\b\b\b\b\b\b\b\b\b\b\b\b\b\b\b\b\b\b\b\b\b\b\b\b\b\b\b\b\b\b\b\b\b\b\b\b\b\b\b\b\b\b\b\b\b\b\b\b\b\b\b\b\b\b\b\b\b\b\b\b\b\b\b\r18/18 [==============================] - 3s 150ms/step - loss: 124.2744 - val_loss: 692.3998\n",
            "Epoch 38/100\n",
            "11/18 [=================>............] - ETA: 0s - loss: 131.0452"
          ]
        },
        {
          "output_type": "stream",
          "name": "stderr",
          "text": [
            "WARNING:absl:<keras.layers.recurrent.LSTMCell object at 0x7ff6444c4350> has the same name 'LSTMCell' as a built-in Keras object. Consider renaming <class 'keras.layers.recurrent.LSTMCell'> to avoid naming conflicts when loading with `tf.keras.models.load_model`. If renaming is not possible, pass the object in the `custom_objects` parameter of the load function.\n"
          ]
        },
        {
          "output_type": "stream",
          "name": "stdout",
          "text": [
            "\b\b\b\b\b\b\b\b\b\b\b\b\b\b\b\b\b\b\b\b\b\b\b\b\b\b\b\b\b\b\b\b\b\b\b\b\b\b\b\b\b\b\b\b\b\b\b\b\b\b\b\b\b\b\b\b\b\b\b\b\b\b\b\b\b\r18/18 [==============================] - 2s 124ms/step - loss: 123.4617 - val_loss: 682.3129\n",
            "Epoch 39/100\n",
            "18/18 [==============================] - 0s 7ms/step - loss: 124.4908 - val_loss: 689.1117\n",
            "Epoch 40/100\n",
            "18/18 [==============================] - 0s 7ms/step - loss: 123.6601 - val_loss: 688.7414\n",
            "Epoch 41/100\n",
            "11/18 [=================>............] - ETA: 0s - loss: 127.5033"
          ]
        },
        {
          "output_type": "stream",
          "name": "stderr",
          "text": [
            "WARNING:absl:<keras.layers.recurrent.LSTMCell object at 0x7ff6444c4350> has the same name 'LSTMCell' as a built-in Keras object. Consider renaming <class 'keras.layers.recurrent.LSTMCell'> to avoid naming conflicts when loading with `tf.keras.models.load_model`. If renaming is not possible, pass the object in the `custom_objects` parameter of the load function.\n"
          ]
        },
        {
          "output_type": "stream",
          "name": "stdout",
          "text": [
            "\b\b\b\b\b\b\b\b\b\b\b\b\b\b\b\b\b\b\b\b\b\b\b\b\b\b\b\b\b\b\b\b\b\b\b\b\b\b\b\b\b\b\b\b\b\b\b\b\b\b\b\b\b\b\b\b\b\b\b\b\b\b\b\b\b\r18/18 [==============================] - 2s 124ms/step - loss: 121.6996 - val_loss: 673.3080\n",
            "Epoch 42/100\n",
            "11/18 [=================>............] - ETA: 0s - loss: 122.2319"
          ]
        },
        {
          "output_type": "stream",
          "name": "stderr",
          "text": [
            "WARNING:absl:<keras.layers.recurrent.LSTMCell object at 0x7ff6444c4350> has the same name 'LSTMCell' as a built-in Keras object. Consider renaming <class 'keras.layers.recurrent.LSTMCell'> to avoid naming conflicts when loading with `tf.keras.models.load_model`. If renaming is not possible, pass the object in the `custom_objects` parameter of the load function.\n"
          ]
        },
        {
          "output_type": "stream",
          "name": "stdout",
          "text": [
            "\b\b\b\b\b\b\b\b\b\b\b\b\b\b\b\b\b\b\b\b\b\b\b\b\b\b\b\b\b\b\b\b\b\b\b\b\b\b\b\b\b\b\b\b\b\b\b\b\b\b\b\b\b\b\b\b\b\b\b\b\b\b\b\b\b\r18/18 [==============================] - 2s 144ms/step - loss: 121.2662 - val_loss: 665.5682\n",
            "Epoch 43/100\n",
            "18/18 [==============================] - ETA: 0s - loss: 121.1914"
          ]
        },
        {
          "output_type": "stream",
          "name": "stderr",
          "text": [
            "WARNING:absl:<keras.layers.recurrent.LSTMCell object at 0x7ff6444c4350> has the same name 'LSTMCell' as a built-in Keras object. Consider renaming <class 'keras.layers.recurrent.LSTMCell'> to avoid naming conflicts when loading with `tf.keras.models.load_model`. If renaming is not possible, pass the object in the `custom_objects` parameter of the load function.\n"
          ]
        },
        {
          "output_type": "stream",
          "name": "stdout",
          "text": [
            "\b\b\b\b\b\b\b\b\b\b\b\b\b\b\b\b\b\b\b\b\b\b\b\b\b\b\b\b\b\b\b\b\b\b\b\b\b\b\b\b\b\b\b\b\b\b\b\b\b\b\b\b\b\b\b\b\b\b\b\b\b\b\b\b\b\r18/18 [==============================] - 2s 126ms/step - loss: 121.1914 - val_loss: 663.4371\n",
            "Epoch 44/100\n",
            "18/18 [==============================] - 0s 7ms/step - loss: 121.3492 - val_loss: 666.4625\n",
            "Epoch 45/100\n",
            "11/18 [=================>............] - ETA: 0s - loss: 119.2985"
          ]
        },
        {
          "output_type": "stream",
          "name": "stderr",
          "text": [
            "WARNING:absl:<keras.layers.recurrent.LSTMCell object at 0x7ff6444c4350> has the same name 'LSTMCell' as a built-in Keras object. Consider renaming <class 'keras.layers.recurrent.LSTMCell'> to avoid naming conflicts when loading with `tf.keras.models.load_model`. If renaming is not possible, pass the object in the `custom_objects` parameter of the load function.\n"
          ]
        },
        {
          "output_type": "stream",
          "name": "stdout",
          "text": [
            "\b\b\b\b\b\b\b\b\b\b\b\b\b\b\b\b\b\b\b\b\b\b\b\b\b\b\b\b\b\b\b\b\b\b\b\b\b\b\b\b\b\b\b\b\b\b\b\b\b\b\b\b\b\b\b\b\b\b\b\b\b\b\b\b\b\r18/18 [==============================] - 2s 136ms/step - loss: 119.4222 - val_loss: 653.1441\n",
            "Epoch 46/100\n",
            "16/18 [=========================>....] - ETA: 0s - loss: 119.8582"
          ]
        },
        {
          "output_type": "stream",
          "name": "stderr",
          "text": [
            "WARNING:absl:<keras.layers.recurrent.LSTMCell object at 0x7ff6444c4350> has the same name 'LSTMCell' as a built-in Keras object. Consider renaming <class 'keras.layers.recurrent.LSTMCell'> to avoid naming conflicts when loading with `tf.keras.models.load_model`. If renaming is not possible, pass the object in the `custom_objects` parameter of the load function.\n"
          ]
        },
        {
          "output_type": "stream",
          "name": "stdout",
          "text": [
            "\b\b\b\b\b\b\b\b\b\b\b\b\b\b\b\b\b\b\b\b\b\b\b\b\b\b\b\b\b\b\b\b\b\b\b\b\b\b\b\b\b\b\b\b\b\b\b\b\b\b\b\b\b\b\b\b\b\b\b\b\b\b\b\b\b\r18/18 [==============================] - 4s 215ms/step - loss: 119.1475 - val_loss: 649.3669\n",
            "Epoch 47/100\n",
            "18/18 [==============================] - 0s 14ms/step - loss: 119.5113 - val_loss: 650.3450\n",
            "Epoch 48/100\n",
            "16/18 [=========================>....] - ETA: 0s - loss: 116.5687"
          ]
        },
        {
          "output_type": "stream",
          "name": "stderr",
          "text": [
            "WARNING:absl:<keras.layers.recurrent.LSTMCell object at 0x7ff6444c4350> has the same name 'LSTMCell' as a built-in Keras object. Consider renaming <class 'keras.layers.recurrent.LSTMCell'> to avoid naming conflicts when loading with `tf.keras.models.load_model`. If renaming is not possible, pass the object in the `custom_objects` parameter of the load function.\n"
          ]
        },
        {
          "output_type": "stream",
          "name": "stdout",
          "text": [
            "\b\b\b\b\b\b\b\b\b\b\b\b\b\b\b\b\b\b\b\b\b\b\b\b\b\b\b\b\b\b\b\b\b\b\b\b\b\b\b\b\b\b\b\b\b\b\b\b\b\b\b\b\b\b\b\b\b\b\b\b\b\b\b\b\b\r18/18 [==============================] - 4s 220ms/step - loss: 117.9849 - val_loss: 643.7015\n",
            "Epoch 49/100\n",
            "18/18 [==============================] - 0s 13ms/step - loss: 117.3458 - val_loss: 649.1431\n",
            "Epoch 50/100\n",
            "18/18 [==============================] - 0s 11ms/step - loss: 119.0112 - val_loss: 658.5665\n",
            "Epoch 51/100\n",
            "18/18 [==============================] - 0s 13ms/step - loss: 118.3833 - val_loss: 673.2418\n",
            "Epoch 52/100\n",
            "18/18 [==============================] - 0s 17ms/step - loss: 118.0016 - val_loss: 644.5724\n",
            "Epoch 53/100\n",
            "13/18 [====================>.........] - ETA: 0s - loss: 115.5949"
          ]
        },
        {
          "output_type": "stream",
          "name": "stderr",
          "text": [
            "WARNING:absl:<keras.layers.recurrent.LSTMCell object at 0x7ff6444c4350> has the same name 'LSTMCell' as a built-in Keras object. Consider renaming <class 'keras.layers.recurrent.LSTMCell'> to avoid naming conflicts when loading with `tf.keras.models.load_model`. If renaming is not possible, pass the object in the `custom_objects` parameter of the load function.\n"
          ]
        },
        {
          "output_type": "stream",
          "name": "stdout",
          "text": [
            "\b\b\b\b\b\b\b\b\b\b\b\b\b\b\b\b\b\b\b\b\b\b\b\b\b\b\b\b\b\b\b\b\b\b\b\b\b\b\b\b\b\b\b\b\b\b\b\b\b\b\b\b\b\b\b\b\b\b\b\b\b\b\b\b\b\r18/18 [==============================] - 3s 205ms/step - loss: 117.5012 - val_loss: 632.1457\n",
            "Epoch 54/100\n",
            "18/18 [==============================] - 0s 13ms/step - loss: 117.3330 - val_loss: 637.2055\n",
            "Epoch 55/100\n",
            "17/18 [===========================>..] - ETA: 0s - loss: 117.3520"
          ]
        },
        {
          "output_type": "stream",
          "name": "stderr",
          "text": [
            "WARNING:absl:<keras.layers.recurrent.LSTMCell object at 0x7ff6444c4350> has the same name 'LSTMCell' as a built-in Keras object. Consider renaming <class 'keras.layers.recurrent.LSTMCell'> to avoid naming conflicts when loading with `tf.keras.models.load_model`. If renaming is not possible, pass the object in the `custom_objects` parameter of the load function.\n"
          ]
        },
        {
          "output_type": "stream",
          "name": "stdout",
          "text": [
            "\b\b\b\b\b\b\b\b\b\b\b\b\b\b\b\b\b\b\b\b\b\b\b\b\b\b\b\b\b\b\b\b\b\b\b\b\b\b\b\b\b\b\b\b\b\b\b\b\b\b\b\b\b\b\b\b\b\b\b\b\b\b\b\b\b\r18/18 [==============================] - 3s 195ms/step - loss: 115.8615 - val_loss: 627.7058\n",
            "Epoch 56/100\n",
            "18/18 [==============================] - 0s 8ms/step - loss: 117.1814 - val_loss: 648.4813\n",
            "Epoch 57/100\n",
            "18/18 [==============================] - 0s 10ms/step - loss: 125.8361 - val_loss: 648.9831\n",
            "Epoch 58/100\n",
            "18/18 [==============================] - 0s 11ms/step - loss: 115.4787 - val_loss: 630.3375\n",
            "Epoch 59/100\n",
            "18/18 [==============================] - 0s 11ms/step - loss: 114.6559 - val_loss: 628.4244\n",
            "Epoch 60/100\n",
            "11/18 [=================>............] - ETA: 0s - loss: 115.8036"
          ]
        },
        {
          "output_type": "stream",
          "name": "stderr",
          "text": [
            "WARNING:absl:<keras.layers.recurrent.LSTMCell object at 0x7ff6444c4350> has the same name 'LSTMCell' as a built-in Keras object. Consider renaming <class 'keras.layers.recurrent.LSTMCell'> to avoid naming conflicts when loading with `tf.keras.models.load_model`. If renaming is not possible, pass the object in the `custom_objects` parameter of the load function.\n"
          ]
        },
        {
          "output_type": "stream",
          "name": "stdout",
          "text": [
            "\b\b\b\b\b\b\b\b\b\b\b\b\b\b\b\b\b\b\b\b\b\b\b\b\b\b\b\b\b\b\b\b\b\b\b\b\b\b\b\b\b\b\b\b\b\b\b\b\b\b\b\b\b\b\b\b\b\b\b\b\b\b\b\b\b\r18/18 [==============================] - 3s 180ms/step - loss: 114.8021 - val_loss: 620.0607\n",
            "Epoch 61/100\n",
            "18/18 [==============================] - 0s 10ms/step - loss: 114.3845 - val_loss: 633.4195\n",
            "Epoch 62/100\n",
            "18/18 [==============================] - 0s 13ms/step - loss: 114.7735 - val_loss: 653.0529\n",
            "Epoch 63/100\n",
            "18/18 [==============================] - 0s 14ms/step - loss: 118.5447 - val_loss: 622.3017\n",
            "Epoch 64/100\n",
            "18/18 [==============================] - 0s 13ms/step - loss: 113.3439 - val_loss: 646.4648\n",
            "Epoch 65/100\n",
            "18/18 [==============================] - 0s 11ms/step - loss: 115.5774 - val_loss: 621.8207\n",
            "Epoch 66/100\n",
            "18/18 [==============================] - 0s 12ms/step - loss: 113.5758 - val_loss: 625.8535\n",
            "Epoch 67/100\n",
            "15/18 [========================>.....] - ETA: 0s - loss: 112.9395"
          ]
        },
        {
          "output_type": "stream",
          "name": "stderr",
          "text": [
            "WARNING:absl:<keras.layers.recurrent.LSTMCell object at 0x7ff6444c4350> has the same name 'LSTMCell' as a built-in Keras object. Consider renaming <class 'keras.layers.recurrent.LSTMCell'> to avoid naming conflicts when loading with `tf.keras.models.load_model`. If renaming is not possible, pass the object in the `custom_objects` parameter of the load function.\n"
          ]
        },
        {
          "output_type": "stream",
          "name": "stdout",
          "text": [
            "\b\b\b\b\b\b\b\b\b\b\b\b\b\b\b\b\b\b\b\b\b\b\b\b\b\b\b\b\b\b\b\b\b\b\b\b\b\b\b\b\b\b\b\b\b\b\b\b\b\b\b\b\b\b\b\b\b\b\b\b\b\b\b\b\b\r18/18 [==============================] - 4s 236ms/step - loss: 114.3274 - val_loss: 618.1777\n",
            "Epoch 68/100\n",
            "10/18 [===============>..............] - ETA: 0s - loss: 114.0225"
          ]
        },
        {
          "output_type": "stream",
          "name": "stderr",
          "text": [
            "WARNING:absl:<keras.layers.recurrent.LSTMCell object at 0x7ff6444c4350> has the same name 'LSTMCell' as a built-in Keras object. Consider renaming <class 'keras.layers.recurrent.LSTMCell'> to avoid naming conflicts when loading with `tf.keras.models.load_model`. If renaming is not possible, pass the object in the `custom_objects` parameter of the load function.\n"
          ]
        },
        {
          "output_type": "stream",
          "name": "stdout",
          "text": [
            "\b\b\b\b\b\b\b\b\b\b\b\b\b\b\b\b\b\b\b\b\b\b\b\b\b\b\b\b\b\b\b\b\b\b\b\b\b\b\b\b\b\b\b\b\b\b\b\b\b\b\b\b\b\b\b\b\b\b\b\b\b\b\b\b\b\r18/18 [==============================] - 3s 180ms/step - loss: 115.8874 - val_loss: 610.0667\n",
            "Epoch 69/100\n",
            "18/18 [==============================] - 0s 12ms/step - loss: 118.1946 - val_loss: 630.6259\n",
            "Epoch 70/100\n",
            "18/18 [==============================] - 0s 14ms/step - loss: 117.6780 - val_loss: 613.6976\n",
            "Epoch 71/100\n",
            "18/18 [==============================] - 0s 7ms/step - loss: 112.6891 - val_loss: 628.7469\n",
            "Epoch 72/100\n",
            "18/18 [==============================] - 0s 9ms/step - loss: 115.3159 - val_loss: 613.3113\n",
            "Epoch 73/100\n",
            "13/18 [====================>.........] - ETA: 0s - loss: 112.0070"
          ]
        },
        {
          "output_type": "stream",
          "name": "stderr",
          "text": [
            "WARNING:absl:<keras.layers.recurrent.LSTMCell object at 0x7ff6444c4350> has the same name 'LSTMCell' as a built-in Keras object. Consider renaming <class 'keras.layers.recurrent.LSTMCell'> to avoid naming conflicts when loading with `tf.keras.models.load_model`. If renaming is not possible, pass the object in the `custom_objects` parameter of the load function.\n"
          ]
        },
        {
          "output_type": "stream",
          "name": "stdout",
          "text": [
            "\b\b\b\b\b\b\b\b\b\b\b\b\b\b\b\b\b\b\b\b\b\b\b\b\b\b\b\b\b\b\b\b\b\b\b\b\b\b\b\b\b\b\b\b\b\b\b\b\b\b\b\b\b\b\b\b\b\b\b\b\b\b\b\b\b\r18/18 [==============================] - 3s 177ms/step - loss: 112.2513 - val_loss: 607.5436\n",
            "Epoch 74/100\n",
            "18/18 [==============================] - 0s 12ms/step - loss: 113.5405 - val_loss: 612.9193\n",
            "Epoch 75/100\n",
            "18/18 [==============================] - 0s 11ms/step - loss: 114.6243 - val_loss: 680.9974\n",
            "Epoch 76/100\n",
            "18/18 [==============================] - 0s 14ms/step - loss: 114.3978 - val_loss: 627.7791\n",
            "Epoch 77/100\n",
            "18/18 [==============================] - 0s 12ms/step - loss: 115.0701 - val_loss: 677.3135\n",
            "Epoch 78/100\n",
            "18/18 [==============================] - 0s 13ms/step - loss: 115.6408 - val_loss: 638.9863\n",
            "Epoch 79/100\n",
            "12/18 [===================>..........] - ETA: 0s - loss: 111.3614"
          ]
        },
        {
          "output_type": "stream",
          "name": "stderr",
          "text": [
            "WARNING:absl:<keras.layers.recurrent.LSTMCell object at 0x7ff6444c4350> has the same name 'LSTMCell' as a built-in Keras object. Consider renaming <class 'keras.layers.recurrent.LSTMCell'> to avoid naming conflicts when loading with `tf.keras.models.load_model`. If renaming is not possible, pass the object in the `custom_objects` parameter of the load function.\n"
          ]
        },
        {
          "output_type": "stream",
          "name": "stdout",
          "text": [
            "\b\b\b\b\b\b\b\b\b\b\b\b\b\b\b\b\b\b\b\b\b\b\b\b\b\b\b\b\b\b\b\b\b\b\b\b\b\b\b\b\b\b\b\b\b\b\b\b\b\b\b\b\b\b\b\b\b\b\b\b\b\b\b\b\b\r18/18 [==============================] - 3s 203ms/step - loss: 113.8102 - val_loss: 603.6312\n",
            "Epoch 80/100\n",
            "18/18 [==============================] - 0s 14ms/step - loss: 111.6164 - val_loss: 621.9382\n",
            "Epoch 81/100\n",
            "18/18 [==============================] - 0s 8ms/step - loss: 111.7110 - val_loss: 620.0795\n",
            "Epoch 82/100\n",
            "17/18 [===========================>..] - ETA: 0s - loss: 113.2746"
          ]
        },
        {
          "output_type": "stream",
          "name": "stderr",
          "text": [
            "WARNING:absl:<keras.layers.recurrent.LSTMCell object at 0x7ff6444c4350> has the same name 'LSTMCell' as a built-in Keras object. Consider renaming <class 'keras.layers.recurrent.LSTMCell'> to avoid naming conflicts when loading with `tf.keras.models.load_model`. If renaming is not possible, pass the object in the `custom_objects` parameter of the load function.\n"
          ]
        },
        {
          "output_type": "stream",
          "name": "stdout",
          "text": [
            "\b\b\b\b\b\b\b\b\b\b\b\b\b\b\b\b\b\b\b\b\b\b\b\b\b\b\b\b\b\b\b\b\b\b\b\b\b\b\b\b\b\b\b\b\b\b\b\b\b\b\b\b\b\b\b\b\b\b\b\b\b\b\b\b\b\r18/18 [==============================] - 3s 187ms/step - loss: 114.4341 - val_loss: 598.3356\n",
            "Epoch 83/100\n",
            "18/18 [==============================] - 0s 7ms/step - loss: 112.8585 - val_loss: 607.5803\n",
            "Epoch 84/100\n",
            "18/18 [==============================] - 0s 9ms/step - loss: 111.8406 - val_loss: 602.6411\n",
            "Epoch 85/100\n",
            "18/18 [==============================] - 0s 13ms/step - loss: 111.2613 - val_loss: 627.6544\n",
            "Epoch 86/100\n",
            "18/18 [==============================] - 0s 12ms/step - loss: 113.9645 - val_loss: 619.5224\n",
            "Epoch 87/100\n",
            "10/18 [===============>..............] - ETA: 0s - loss: 118.1710"
          ]
        },
        {
          "output_type": "stream",
          "name": "stderr",
          "text": [
            "WARNING:absl:<keras.layers.recurrent.LSTMCell object at 0x7ff6444c4350> has the same name 'LSTMCell' as a built-in Keras object. Consider renaming <class 'keras.layers.recurrent.LSTMCell'> to avoid naming conflicts when loading with `tf.keras.models.load_model`. If renaming is not possible, pass the object in the `custom_objects` parameter of the load function.\n"
          ]
        },
        {
          "output_type": "stream",
          "name": "stdout",
          "text": [
            "\b\b\b\b\b\b\b\b\b\b\b\b\b\b\b\b\b\b\b\b\b\b\b\b\b\b\b\b\b\b\b\b\b\b\b\b\b\b\b\b\b\b\b\b\b\b\b\b\b\b\b\b\b\b\b\b\b\b\b\b\b\b\b\b\b\r18/18 [==============================] - 4s 210ms/step - loss: 113.8286 - val_loss: 598.2933\n",
            "Epoch 88/100\n",
            "15/18 [========================>.....] - ETA: 0s - loss: 114.5912"
          ]
        },
        {
          "output_type": "stream",
          "name": "stderr",
          "text": [
            "WARNING:absl:<keras.layers.recurrent.LSTMCell object at 0x7ff6444c4350> has the same name 'LSTMCell' as a built-in Keras object. Consider renaming <class 'keras.layers.recurrent.LSTMCell'> to avoid naming conflicts when loading with `tf.keras.models.load_model`. If renaming is not possible, pass the object in the `custom_objects` parameter of the load function.\n"
          ]
        },
        {
          "output_type": "stream",
          "name": "stdout",
          "text": [
            "\b\b\b\b\b\b\b\b\b\b\b\b\b\b\b\b\b\b\b\b\b\b\b\b\b\b\b\b\b\b\b\b\b\b\b\b\b\b\b\b\b\b\b\b\b\b\b\b\b\b\b\b\b\b\b\b\b\b\b\b\b\b\b\b\b\r18/18 [==============================] - 4s 209ms/step - loss: 110.8448 - val_loss: 596.0640\n",
            "Epoch 89/100\n",
            "18/18 [==============================] - 0s 11ms/step - loss: 111.0922 - val_loss: 630.6047\n",
            "Epoch 90/100\n",
            "18/18 [==============================] - 0s 11ms/step - loss: 115.8214 - val_loss: 680.3810\n",
            "Epoch 91/100\n",
            "18/18 [==============================] - 0s 13ms/step - loss: 116.0425 - val_loss: 632.1270\n",
            "Epoch 92/100\n",
            "16/18 [=========================>....] - ETA: 0s - loss: 111.5066"
          ]
        },
        {
          "output_type": "stream",
          "name": "stderr",
          "text": [
            "WARNING:absl:<keras.layers.recurrent.LSTMCell object at 0x7ff6444c4350> has the same name 'LSTMCell' as a built-in Keras object. Consider renaming <class 'keras.layers.recurrent.LSTMCell'> to avoid naming conflicts when loading with `tf.keras.models.load_model`. If renaming is not possible, pass the object in the `custom_objects` parameter of the load function.\n"
          ]
        },
        {
          "output_type": "stream",
          "name": "stdout",
          "text": [
            "\b\b\b\b\b\b\b\b\b\b\b\b\b\b\b\b\b\b\b\b\b\b\b\b\b\b\b\b\b\b\b\b\b\b\b\b\b\b\b\b\b\b\b\b\b\b\b\b\b\b\b\b\b\b\b\b\b\b\b\b\b\b\b\b\b\r18/18 [==============================] - 4s 232ms/step - loss: 111.9858 - val_loss: 596.0399\n",
            "Epoch 93/100\n",
            "18/18 [==============================] - 0s 13ms/step - loss: 111.9554 - val_loss: 601.6699\n",
            "Epoch 94/100\n",
            "18/18 [==============================] - 0s 15ms/step - loss: 110.7805 - val_loss: 605.7480\n",
            "Epoch 95/100\n",
            "16/18 [=========================>....] - ETA: 0s - loss: 108.2304"
          ]
        },
        {
          "output_type": "stream",
          "name": "stderr",
          "text": [
            "WARNING:absl:<keras.layers.recurrent.LSTMCell object at 0x7ff6444c4350> has the same name 'LSTMCell' as a built-in Keras object. Consider renaming <class 'keras.layers.recurrent.LSTMCell'> to avoid naming conflicts when loading with `tf.keras.models.load_model`. If renaming is not possible, pass the object in the `custom_objects` parameter of the load function.\n"
          ]
        },
        {
          "output_type": "stream",
          "name": "stdout",
          "text": [
            "\b\b\b\b\b\b\b\b\b\b\b\b\b\b\b\b\b\b\b\b\b\b\b\b\b\b\b\b\b\b\b\b\b\b\b\b\b\b\b\b\b\b\b\b\b\b\b\b\b\b\b\b\b\b\b\b\b\b\b\b\b\b\b\b\b\r18/18 [==============================] - 5s 286ms/step - loss: 110.1889 - val_loss: 594.1672\n",
            "Epoch 96/100\n",
            "18/18 [==============================] - 0s 14ms/step - loss: 112.3372 - val_loss: 601.4485\n",
            "Epoch 97/100\n",
            "18/18 [==============================] - 0s 17ms/step - loss: 110.8521 - val_loss: 625.3636\n",
            "Epoch 98/100\n",
            "17/18 [===========================>..] - ETA: 0s - loss: 111.7148"
          ]
        },
        {
          "output_type": "stream",
          "name": "stderr",
          "text": [
            "WARNING:absl:<keras.layers.recurrent.LSTMCell object at 0x7ff6444c4350> has the same name 'LSTMCell' as a built-in Keras object. Consider renaming <class 'keras.layers.recurrent.LSTMCell'> to avoid naming conflicts when loading with `tf.keras.models.load_model`. If renaming is not possible, pass the object in the `custom_objects` parameter of the load function.\n"
          ]
        },
        {
          "output_type": "stream",
          "name": "stdout",
          "text": [
            "\b\b\b\b\b\b\b\b\b\b\b\b\b\b\b\b\b\b\b\b\b\b\b\b\b\b\b\b\b\b\b\b\b\b\b\b\b\b\b\b\b\b\b\b\b\b\b\b\b\b\b\b\b\b\b\b\b\b\b\b\b\b\b\b\b\r18/18 [==============================] - 6s 335ms/step - loss: 110.8161 - val_loss: 594.1018\n",
            "Epoch 99/100\n",
            "17/18 [===========================>..] - ETA: 0s - loss: 110.2074"
          ]
        },
        {
          "output_type": "stream",
          "name": "stderr",
          "text": [
            "WARNING:absl:<keras.layers.recurrent.LSTMCell object at 0x7ff6444c4350> has the same name 'LSTMCell' as a built-in Keras object. Consider renaming <class 'keras.layers.recurrent.LSTMCell'> to avoid naming conflicts when loading with `tf.keras.models.load_model`. If renaming is not possible, pass the object in the `custom_objects` parameter of the load function.\n"
          ]
        },
        {
          "output_type": "stream",
          "name": "stdout",
          "text": [
            "\b\b\b\b\b\b\b\b\b\b\b\b\b\b\b\b\b\b\b\b\b\b\b\b\b\b\b\b\b\b\b\b\b\b\b\b\b\b\b\b\b\b\b\b\b\b\b\b\b\b\b\b\b\b\b\b\b\b\b\b\b\b\b\b\b\r18/18 [==============================] - 4s 258ms/step - loss: 109.7159 - val_loss: 591.6655\n",
            "Epoch 100/100\n",
            "18/18 [==============================] - 0s 11ms/step - loss: 112.6171 - val_loss: 594.9865\n"
          ]
        },
        {
          "output_type": "execute_result",
          "data": {
            "text/plain": [
              "<keras.callbacks.History at 0x7ff645e9e4d0>"
            ]
          },
          "metadata": {},
          "execution_count": 79
        }
      ],
      "source": [
        "tf.random.set_seed(42)\n",
        "\n",
        "# Building LSTM Model With The Functional API\n",
        "inputs = layers.Input(shape=(WINDOW_SIZE))\n",
        "x = layers.Lambda(lambda x: tf.expand_dims(x, axis=1))(inputs)\n",
        "#x = layers.LSTM(128, return_sequences=True)(x)\n",
        "x = layers.LSTM(128, activation='relu')(x)\n",
        "#x = layers.Dense(32, activation='relu')(x)\n",
        "outputs = layers.Dense(HORIZON)(x)\n",
        "model_5 = tf.keras.Model(inputs, outputs, name='model_5_LSTM')\n",
        "\n",
        "\n",
        "model_5.compile(loss=tf.keras.losses.MeanAbsoluteError(),\n",
        "                optimizer=tf.keras.optimizers.Adam())\n",
        "\n",
        "model_5.fit(train_windows,\n",
        "            train_labels,\n",
        "            batch_size=128,\n",
        "            epochs=100,\n",
        "            verbose=1,\n",
        "            validation_data=(test_windows, test_labels),\n",
        "            callbacks=[create_model_checkpoint(model_name=model_5.name)])"
      ]
    },
    {
      "cell_type": "code",
      "execution_count": null,
      "metadata": {
        "id": "dy1lBIoFpRIg",
        "colab": {
          "base_uri": "https://localhost:8080/"
        },
        "outputId": "b2bf1762-dd35-4eb1-d595-56f0ea984a54"
      },
      "outputs": [
        {
          "output_type": "stream",
          "name": "stdout",
          "text": [
            "18/18 [==============================] - 1s 4ms/step - loss: 591.6655\n"
          ]
        },
        {
          "output_type": "execute_result",
          "data": {
            "text/plain": [
              "591.6654663085938"
            ]
          },
          "metadata": {},
          "execution_count": 80
        }
      ],
      "source": [
        "# Loading In The Best Version Of model_5 And Evaluating On The Test Data\n",
        "model_5 = tf.keras.models.load_model('/content/model_experiments/model_5_LSTM')\n",
        "model_5.evaluate(test_windows, test_labels)"
      ]
    },
    {
      "cell_type": "code",
      "execution_count": null,
      "metadata": {
        "id": "8WggyzRfq_kd",
        "colab": {
          "base_uri": "https://localhost:8080/"
        },
        "outputId": "4b493943-a22b-47f6-9739-bf3c88812199"
      },
      "outputs": [
        {
          "output_type": "execute_result",
          "data": {
            "text/plain": [
              "<tf.Tensor: shape=(5,), dtype=float32, numpy=array([8970.957, 8815.352, 9026.793, 8831.478, 8736.686], dtype=float32)>"
            ]
          },
          "metadata": {},
          "execution_count": 81
        }
      ],
      "source": [
        "# Making Prediction With Our LSTM Model\n",
        "model_5_preds = make_preds(model_5, test_windows)\n",
        "model_5_preds[:5]"
      ]
    },
    {
      "cell_type": "code",
      "execution_count": null,
      "metadata": {
        "id": "PlArY6ePrXKs",
        "colab": {
          "base_uri": "https://localhost:8080/"
        },
        "outputId": "8f09baf6-12d7-4c71-daea-d1e9c387d649"
      },
      "outputs": [
        {
          "output_type": "execute_result",
          "data": {
            "text/plain": [
              "{'MAE': 591.6655,\n",
              " 'MSE': 1250831.5,\n",
              " 'RMSE': 1118.4058,\n",
              " 'MAPE': 2.66558,\n",
              " 'MASE': 1.0393925}"
            ]
          },
          "metadata": {},
          "execution_count": 82
        }
      ],
      "source": [
        "# Evaluating model_5 Predictions\n",
        "model_5_results = evaluate_preds(y_true=tf.squeeze(test_labels),\n",
        "                                 y_pred=model_5_preds)\n",
        "model_5_results"
      ]
    },
    {
      "cell_type": "markdown",
      "metadata": {
        "id": "DfzTZH8Mrp_o"
      },
      "source": [
        "##MAKING A MULTIVARIATE TIME SERIES DATASET"
      ]
    },
    {
      "cell_type": "code",
      "execution_count": null,
      "metadata": {
        "id": "n9BjIs89svlg",
        "colab": {
          "base_uri": "https://localhost:8080/",
          "height": 237
        },
        "outputId": "57131ef1-4666-4ad6-bf03-f60a15dc5f3c"
      },
      "outputs": [
        {
          "output_type": "execute_result",
          "data": {
            "text/plain": [
              "                Price\n",
              "Date                 \n",
              "2013-10-01  123.65499\n",
              "2013-10-02  125.45500\n",
              "2013-10-03  108.58483\n",
              "2013-10-04  118.67466\n",
              "2013-10-05  121.33866"
            ],
            "text/html": [
              "\n",
              "  <div id=\"df-33044e9a-aa68-436d-b29b-2e83da46f1a3\">\n",
              "    <div class=\"colab-df-container\">\n",
              "      <div>\n",
              "<style scoped>\n",
              "    .dataframe tbody tr th:only-of-type {\n",
              "        vertical-align: middle;\n",
              "    }\n",
              "\n",
              "    .dataframe tbody tr th {\n",
              "        vertical-align: top;\n",
              "    }\n",
              "\n",
              "    .dataframe thead th {\n",
              "        text-align: right;\n",
              "    }\n",
              "</style>\n",
              "<table border=\"1\" class=\"dataframe\">\n",
              "  <thead>\n",
              "    <tr style=\"text-align: right;\">\n",
              "      <th></th>\n",
              "      <th>Price</th>\n",
              "    </tr>\n",
              "    <tr>\n",
              "      <th>Date</th>\n",
              "      <th></th>\n",
              "    </tr>\n",
              "  </thead>\n",
              "  <tbody>\n",
              "    <tr>\n",
              "      <th>2013-10-01</th>\n",
              "      <td>123.65499</td>\n",
              "    </tr>\n",
              "    <tr>\n",
              "      <th>2013-10-02</th>\n",
              "      <td>125.45500</td>\n",
              "    </tr>\n",
              "    <tr>\n",
              "      <th>2013-10-03</th>\n",
              "      <td>108.58483</td>\n",
              "    </tr>\n",
              "    <tr>\n",
              "      <th>2013-10-04</th>\n",
              "      <td>118.67466</td>\n",
              "    </tr>\n",
              "    <tr>\n",
              "      <th>2013-10-05</th>\n",
              "      <td>121.33866</td>\n",
              "    </tr>\n",
              "  </tbody>\n",
              "</table>\n",
              "</div>\n",
              "      <button class=\"colab-df-convert\" onclick=\"convertToInteractive('df-33044e9a-aa68-436d-b29b-2e83da46f1a3')\"\n",
              "              title=\"Convert this dataframe to an interactive table.\"\n",
              "              style=\"display:none;\">\n",
              "        \n",
              "  <svg xmlns=\"http://www.w3.org/2000/svg\" height=\"24px\"viewBox=\"0 0 24 24\"\n",
              "       width=\"24px\">\n",
              "    <path d=\"M0 0h24v24H0V0z\" fill=\"none\"/>\n",
              "    <path d=\"M18.56 5.44l.94 2.06.94-2.06 2.06-.94-2.06-.94-.94-2.06-.94 2.06-2.06.94zm-11 1L8.5 8.5l.94-2.06 2.06-.94-2.06-.94L8.5 2.5l-.94 2.06-2.06.94zm10 10l.94 2.06.94-2.06 2.06-.94-2.06-.94-.94-2.06-.94 2.06-2.06.94z\"/><path d=\"M17.41 7.96l-1.37-1.37c-.4-.4-.92-.59-1.43-.59-.52 0-1.04.2-1.43.59L10.3 9.45l-7.72 7.72c-.78.78-.78 2.05 0 2.83L4 21.41c.39.39.9.59 1.41.59.51 0 1.02-.2 1.41-.59l7.78-7.78 2.81-2.81c.8-.78.8-2.07 0-2.86zM5.41 20L4 18.59l7.72-7.72 1.47 1.35L5.41 20z\"/>\n",
              "  </svg>\n",
              "      </button>\n",
              "      \n",
              "  <style>\n",
              "    .colab-df-container {\n",
              "      display:flex;\n",
              "      flex-wrap:wrap;\n",
              "      gap: 12px;\n",
              "    }\n",
              "\n",
              "    .colab-df-convert {\n",
              "      background-color: #E8F0FE;\n",
              "      border: none;\n",
              "      border-radius: 50%;\n",
              "      cursor: pointer;\n",
              "      display: none;\n",
              "      fill: #1967D2;\n",
              "      height: 32px;\n",
              "      padding: 0 0 0 0;\n",
              "      width: 32px;\n",
              "    }\n",
              "\n",
              "    .colab-df-convert:hover {\n",
              "      background-color: #E2EBFA;\n",
              "      box-shadow: 0px 1px 2px rgba(60, 64, 67, 0.3), 0px 1px 3px 1px rgba(60, 64, 67, 0.15);\n",
              "      fill: #174EA6;\n",
              "    }\n",
              "\n",
              "    [theme=dark] .colab-df-convert {\n",
              "      background-color: #3B4455;\n",
              "      fill: #D2E3FC;\n",
              "    }\n",
              "\n",
              "    [theme=dark] .colab-df-convert:hover {\n",
              "      background-color: #434B5C;\n",
              "      box-shadow: 0px 1px 3px 1px rgba(0, 0, 0, 0.15);\n",
              "      filter: drop-shadow(0px 1px 2px rgba(0, 0, 0, 0.3));\n",
              "      fill: #FFFFFF;\n",
              "    }\n",
              "  </style>\n",
              "\n",
              "      <script>\n",
              "        const buttonEl =\n",
              "          document.querySelector('#df-33044e9a-aa68-436d-b29b-2e83da46f1a3 button.colab-df-convert');\n",
              "        buttonEl.style.display =\n",
              "          google.colab.kernel.accessAllowed ? 'block' : 'none';\n",
              "\n",
              "        async function convertToInteractive(key) {\n",
              "          const element = document.querySelector('#df-33044e9a-aa68-436d-b29b-2e83da46f1a3');\n",
              "          const dataTable =\n",
              "            await google.colab.kernel.invokeFunction('convertToInteractive',\n",
              "                                                     [key], {});\n",
              "          if (!dataTable) return;\n",
              "\n",
              "          const docLinkHtml = 'Like what you see? Visit the ' +\n",
              "            '<a target=\"_blank\" href=https://colab.research.google.com/notebooks/data_table.ipynb>data table notebook</a>'\n",
              "            + ' to learn more about interactive tables.';\n",
              "          element.innerHTML = '';\n",
              "          dataTable['output_type'] = 'display_data';\n",
              "          await google.colab.output.renderOutput(dataTable, element);\n",
              "          const docLink = document.createElement('div');\n",
              "          docLink.innerHTML = docLinkHtml;\n",
              "          element.appendChild(docLink);\n",
              "        }\n",
              "      </script>\n",
              "    </div>\n",
              "  </div>\n",
              "  "
            ]
          },
          "metadata": {},
          "execution_count": 83
        }
      ],
      "source": [
        "# Making A Multivariate Time Series\n",
        "bitcoin_prices.head()"
      ]
    },
    {
      "cell_type": "code",
      "execution_count": null,
      "metadata": {
        "id": "I-_sBZIGwsHO"
      },
      "outputs": [],
      "source": [
        "# Adding The Bitcoin Halving Events To Our Dataset\n",
        "block_reward_1 = 50 # 3 January 2009\n",
        "block_reward_2 = 25 # 8 November 2012\n",
        "block_reward_3 = 12.5 # 9 July 2016\n",
        "block_reward_4 = 6.25 # 18 May 2020\n",
        "\n",
        "# Block Reward Dates\n",
        "block_reward_2_datetime = np.datetime64('2012-11-28')\n",
        "block_reward_3_datetime = np.datetime64('2016-07-09')\n",
        "block_reward_4_datetime = np.datetime64('2020-05-18')"
      ]
    },
    {
      "cell_type": "code",
      "execution_count": null,
      "metadata": {
        "id": "N_dC2nAwyapa",
        "colab": {
          "base_uri": "https://localhost:8080/"
        },
        "outputId": "1c3624ba-89fb-4566-a13a-7031ac153563"
      },
      "outputs": [
        {
          "output_type": "execute_result",
          "data": {
            "text/plain": [
              "(1012, 2421)"
            ]
          },
          "metadata": {},
          "execution_count": 85
        }
      ],
      "source": [
        "block_reward_2_days = (block_reward_3_datetime - bitcoin_prices.index[0]).days\n",
        "block_reward_3_days = (block_reward_4_datetime - bitcoin_prices.index[0]).days\n",
        "block_reward_2_days, block_reward_3_days"
      ]
    },
    {
      "cell_type": "code",
      "execution_count": null,
      "metadata": {
        "id": "5s2h-uJ6zSPf"
      },
      "outputs": [],
      "source": [
        "# Adding In A block_reward Column\n",
        "bitcoin_prices_block = bitcoin_prices.copy()\n",
        "bitcoin_prices_block['block_reward'] = None\n",
        "\n",
        "# Adding In block_reward values As A Feature To Our DataFrame\n",
        "bitcoin_prices_block.iloc[:block_reward_2_days, -1] = block_reward_2\n",
        "bitcoin_prices_block.iloc[block_reward_2_days:block_reward_3_days, -1] = block_reward_3\n",
        "bitcoin_prices_block.iloc[block_reward_3_days:, -1] = block_reward_4"
      ]
    },
    {
      "cell_type": "code",
      "execution_count": null,
      "metadata": {
        "id": "TjRqN7fU0WaF",
        "colab": {
          "base_uri": "https://localhost:8080/",
          "height": 237
        },
        "outputId": "b07c52ad-42a9-4d6d-e320-cd356779cb2d"
      },
      "outputs": [
        {
          "output_type": "execute_result",
          "data": {
            "text/plain": [
              "                Price block_reward\n",
              "Date                              \n",
              "2013-10-01  123.65499           25\n",
              "2013-10-02  125.45500           25\n",
              "2013-10-03  108.58483           25\n",
              "2013-10-04  118.67466           25\n",
              "2013-10-05  121.33866           25"
            ],
            "text/html": [
              "\n",
              "  <div id=\"df-9f6f6317-b5cf-4a90-908e-f4e9276905a7\">\n",
              "    <div class=\"colab-df-container\">\n",
              "      <div>\n",
              "<style scoped>\n",
              "    .dataframe tbody tr th:only-of-type {\n",
              "        vertical-align: middle;\n",
              "    }\n",
              "\n",
              "    .dataframe tbody tr th {\n",
              "        vertical-align: top;\n",
              "    }\n",
              "\n",
              "    .dataframe thead th {\n",
              "        text-align: right;\n",
              "    }\n",
              "</style>\n",
              "<table border=\"1\" class=\"dataframe\">\n",
              "  <thead>\n",
              "    <tr style=\"text-align: right;\">\n",
              "      <th></th>\n",
              "      <th>Price</th>\n",
              "      <th>block_reward</th>\n",
              "    </tr>\n",
              "    <tr>\n",
              "      <th>Date</th>\n",
              "      <th></th>\n",
              "      <th></th>\n",
              "    </tr>\n",
              "  </thead>\n",
              "  <tbody>\n",
              "    <tr>\n",
              "      <th>2013-10-01</th>\n",
              "      <td>123.65499</td>\n",
              "      <td>25</td>\n",
              "    </tr>\n",
              "    <tr>\n",
              "      <th>2013-10-02</th>\n",
              "      <td>125.45500</td>\n",
              "      <td>25</td>\n",
              "    </tr>\n",
              "    <tr>\n",
              "      <th>2013-10-03</th>\n",
              "      <td>108.58483</td>\n",
              "      <td>25</td>\n",
              "    </tr>\n",
              "    <tr>\n",
              "      <th>2013-10-04</th>\n",
              "      <td>118.67466</td>\n",
              "      <td>25</td>\n",
              "    </tr>\n",
              "    <tr>\n",
              "      <th>2013-10-05</th>\n",
              "      <td>121.33866</td>\n",
              "      <td>25</td>\n",
              "    </tr>\n",
              "  </tbody>\n",
              "</table>\n",
              "</div>\n",
              "      <button class=\"colab-df-convert\" onclick=\"convertToInteractive('df-9f6f6317-b5cf-4a90-908e-f4e9276905a7')\"\n",
              "              title=\"Convert this dataframe to an interactive table.\"\n",
              "              style=\"display:none;\">\n",
              "        \n",
              "  <svg xmlns=\"http://www.w3.org/2000/svg\" height=\"24px\"viewBox=\"0 0 24 24\"\n",
              "       width=\"24px\">\n",
              "    <path d=\"M0 0h24v24H0V0z\" fill=\"none\"/>\n",
              "    <path d=\"M18.56 5.44l.94 2.06.94-2.06 2.06-.94-2.06-.94-.94-2.06-.94 2.06-2.06.94zm-11 1L8.5 8.5l.94-2.06 2.06-.94-2.06-.94L8.5 2.5l-.94 2.06-2.06.94zm10 10l.94 2.06.94-2.06 2.06-.94-2.06-.94-.94-2.06-.94 2.06-2.06.94z\"/><path d=\"M17.41 7.96l-1.37-1.37c-.4-.4-.92-.59-1.43-.59-.52 0-1.04.2-1.43.59L10.3 9.45l-7.72 7.72c-.78.78-.78 2.05 0 2.83L4 21.41c.39.39.9.59 1.41.59.51 0 1.02-.2 1.41-.59l7.78-7.78 2.81-2.81c.8-.78.8-2.07 0-2.86zM5.41 20L4 18.59l7.72-7.72 1.47 1.35L5.41 20z\"/>\n",
              "  </svg>\n",
              "      </button>\n",
              "      \n",
              "  <style>\n",
              "    .colab-df-container {\n",
              "      display:flex;\n",
              "      flex-wrap:wrap;\n",
              "      gap: 12px;\n",
              "    }\n",
              "\n",
              "    .colab-df-convert {\n",
              "      background-color: #E8F0FE;\n",
              "      border: none;\n",
              "      border-radius: 50%;\n",
              "      cursor: pointer;\n",
              "      display: none;\n",
              "      fill: #1967D2;\n",
              "      height: 32px;\n",
              "      padding: 0 0 0 0;\n",
              "      width: 32px;\n",
              "    }\n",
              "\n",
              "    .colab-df-convert:hover {\n",
              "      background-color: #E2EBFA;\n",
              "      box-shadow: 0px 1px 2px rgba(60, 64, 67, 0.3), 0px 1px 3px 1px rgba(60, 64, 67, 0.15);\n",
              "      fill: #174EA6;\n",
              "    }\n",
              "\n",
              "    [theme=dark] .colab-df-convert {\n",
              "      background-color: #3B4455;\n",
              "      fill: #D2E3FC;\n",
              "    }\n",
              "\n",
              "    [theme=dark] .colab-df-convert:hover {\n",
              "      background-color: #434B5C;\n",
              "      box-shadow: 0px 1px 3px 1px rgba(0, 0, 0, 0.15);\n",
              "      filter: drop-shadow(0px 1px 2px rgba(0, 0, 0, 0.3));\n",
              "      fill: #FFFFFF;\n",
              "    }\n",
              "  </style>\n",
              "\n",
              "      <script>\n",
              "        const buttonEl =\n",
              "          document.querySelector('#df-9f6f6317-b5cf-4a90-908e-f4e9276905a7 button.colab-df-convert');\n",
              "        buttonEl.style.display =\n",
              "          google.colab.kernel.accessAllowed ? 'block' : 'none';\n",
              "\n",
              "        async function convertToInteractive(key) {\n",
              "          const element = document.querySelector('#df-9f6f6317-b5cf-4a90-908e-f4e9276905a7');\n",
              "          const dataTable =\n",
              "            await google.colab.kernel.invokeFunction('convertToInteractive',\n",
              "                                                     [key], {});\n",
              "          if (!dataTable) return;\n",
              "\n",
              "          const docLinkHtml = 'Like what you see? Visit the ' +\n",
              "            '<a target=\"_blank\" href=https://colab.research.google.com/notebooks/data_table.ipynb>data table notebook</a>'\n",
              "            + ' to learn more about interactive tables.';\n",
              "          element.innerHTML = '';\n",
              "          dataTable['output_type'] = 'display_data';\n",
              "          await google.colab.output.renderOutput(dataTable, element);\n",
              "          const docLink = document.createElement('div');\n",
              "          docLink.innerHTML = docLinkHtml;\n",
              "          element.appendChild(docLink);\n",
              "        }\n",
              "      </script>\n",
              "    </div>\n",
              "  </div>\n",
              "  "
            ]
          },
          "metadata": {},
          "execution_count": 87
        }
      ],
      "source": [
        "bitcoin_prices_block.head()"
      ]
    },
    {
      "cell_type": "code",
      "execution_count": null,
      "metadata": {
        "id": "22XvOecG08p-",
        "colab": {
          "base_uri": "https://localhost:8080/",
          "height": 237
        },
        "outputId": "58b3dba7-dfec-4f08-d44c-5dabaa1acb5d"
      },
      "outputs": [
        {
          "output_type": "execute_result",
          "data": {
            "text/plain": [
              "                   Price block_reward\n",
              "Date                                 \n",
              "2021-05-14  49764.132082         6.25\n",
              "2021-05-15  50032.693137         6.25\n",
              "2021-05-16  47885.625255         6.25\n",
              "2021-05-17  45604.615754         6.25\n",
              "2021-05-18  43144.471291         6.25"
            ],
            "text/html": [
              "\n",
              "  <div id=\"df-2e6d6a27-9222-4d3d-b64f-252d8089f2b4\">\n",
              "    <div class=\"colab-df-container\">\n",
              "      <div>\n",
              "<style scoped>\n",
              "    .dataframe tbody tr th:only-of-type {\n",
              "        vertical-align: middle;\n",
              "    }\n",
              "\n",
              "    .dataframe tbody tr th {\n",
              "        vertical-align: top;\n",
              "    }\n",
              "\n",
              "    .dataframe thead th {\n",
              "        text-align: right;\n",
              "    }\n",
              "</style>\n",
              "<table border=\"1\" class=\"dataframe\">\n",
              "  <thead>\n",
              "    <tr style=\"text-align: right;\">\n",
              "      <th></th>\n",
              "      <th>Price</th>\n",
              "      <th>block_reward</th>\n",
              "    </tr>\n",
              "    <tr>\n",
              "      <th>Date</th>\n",
              "      <th></th>\n",
              "      <th></th>\n",
              "    </tr>\n",
              "  </thead>\n",
              "  <tbody>\n",
              "    <tr>\n",
              "      <th>2021-05-14</th>\n",
              "      <td>49764.132082</td>\n",
              "      <td>6.25</td>\n",
              "    </tr>\n",
              "    <tr>\n",
              "      <th>2021-05-15</th>\n",
              "      <td>50032.693137</td>\n",
              "      <td>6.25</td>\n",
              "    </tr>\n",
              "    <tr>\n",
              "      <th>2021-05-16</th>\n",
              "      <td>47885.625255</td>\n",
              "      <td>6.25</td>\n",
              "    </tr>\n",
              "    <tr>\n",
              "      <th>2021-05-17</th>\n",
              "      <td>45604.615754</td>\n",
              "      <td>6.25</td>\n",
              "    </tr>\n",
              "    <tr>\n",
              "      <th>2021-05-18</th>\n",
              "      <td>43144.471291</td>\n",
              "      <td>6.25</td>\n",
              "    </tr>\n",
              "  </tbody>\n",
              "</table>\n",
              "</div>\n",
              "      <button class=\"colab-df-convert\" onclick=\"convertToInteractive('df-2e6d6a27-9222-4d3d-b64f-252d8089f2b4')\"\n",
              "              title=\"Convert this dataframe to an interactive table.\"\n",
              "              style=\"display:none;\">\n",
              "        \n",
              "  <svg xmlns=\"http://www.w3.org/2000/svg\" height=\"24px\"viewBox=\"0 0 24 24\"\n",
              "       width=\"24px\">\n",
              "    <path d=\"M0 0h24v24H0V0z\" fill=\"none\"/>\n",
              "    <path d=\"M18.56 5.44l.94 2.06.94-2.06 2.06-.94-2.06-.94-.94-2.06-.94 2.06-2.06.94zm-11 1L8.5 8.5l.94-2.06 2.06-.94-2.06-.94L8.5 2.5l-.94 2.06-2.06.94zm10 10l.94 2.06.94-2.06 2.06-.94-2.06-.94-.94-2.06-.94 2.06-2.06.94z\"/><path d=\"M17.41 7.96l-1.37-1.37c-.4-.4-.92-.59-1.43-.59-.52 0-1.04.2-1.43.59L10.3 9.45l-7.72 7.72c-.78.78-.78 2.05 0 2.83L4 21.41c.39.39.9.59 1.41.59.51 0 1.02-.2 1.41-.59l7.78-7.78 2.81-2.81c.8-.78.8-2.07 0-2.86zM5.41 20L4 18.59l7.72-7.72 1.47 1.35L5.41 20z\"/>\n",
              "  </svg>\n",
              "      </button>\n",
              "      \n",
              "  <style>\n",
              "    .colab-df-container {\n",
              "      display:flex;\n",
              "      flex-wrap:wrap;\n",
              "      gap: 12px;\n",
              "    }\n",
              "\n",
              "    .colab-df-convert {\n",
              "      background-color: #E8F0FE;\n",
              "      border: none;\n",
              "      border-radius: 50%;\n",
              "      cursor: pointer;\n",
              "      display: none;\n",
              "      fill: #1967D2;\n",
              "      height: 32px;\n",
              "      padding: 0 0 0 0;\n",
              "      width: 32px;\n",
              "    }\n",
              "\n",
              "    .colab-df-convert:hover {\n",
              "      background-color: #E2EBFA;\n",
              "      box-shadow: 0px 1px 2px rgba(60, 64, 67, 0.3), 0px 1px 3px 1px rgba(60, 64, 67, 0.15);\n",
              "      fill: #174EA6;\n",
              "    }\n",
              "\n",
              "    [theme=dark] .colab-df-convert {\n",
              "      background-color: #3B4455;\n",
              "      fill: #D2E3FC;\n",
              "    }\n",
              "\n",
              "    [theme=dark] .colab-df-convert:hover {\n",
              "      background-color: #434B5C;\n",
              "      box-shadow: 0px 1px 3px 1px rgba(0, 0, 0, 0.15);\n",
              "      filter: drop-shadow(0px 1px 2px rgba(0, 0, 0, 0.3));\n",
              "      fill: #FFFFFF;\n",
              "    }\n",
              "  </style>\n",
              "\n",
              "      <script>\n",
              "        const buttonEl =\n",
              "          document.querySelector('#df-2e6d6a27-9222-4d3d-b64f-252d8089f2b4 button.colab-df-convert');\n",
              "        buttonEl.style.display =\n",
              "          google.colab.kernel.accessAllowed ? 'block' : 'none';\n",
              "\n",
              "        async function convertToInteractive(key) {\n",
              "          const element = document.querySelector('#df-2e6d6a27-9222-4d3d-b64f-252d8089f2b4');\n",
              "          const dataTable =\n",
              "            await google.colab.kernel.invokeFunction('convertToInteractive',\n",
              "                                                     [key], {});\n",
              "          if (!dataTable) return;\n",
              "\n",
              "          const docLinkHtml = 'Like what you see? Visit the ' +\n",
              "            '<a target=\"_blank\" href=https://colab.research.google.com/notebooks/data_table.ipynb>data table notebook</a>'\n",
              "            + ' to learn more about interactive tables.';\n",
              "          element.innerHTML = '';\n",
              "          dataTable['output_type'] = 'display_data';\n",
              "          await google.colab.output.renderOutput(dataTable, element);\n",
              "          const docLink = document.createElement('div');\n",
              "          docLink.innerHTML = docLinkHtml;\n",
              "          element.appendChild(docLink);\n",
              "        }\n",
              "      </script>\n",
              "    </div>\n",
              "  </div>\n",
              "  "
            ]
          },
          "metadata": {},
          "execution_count": 88
        }
      ],
      "source": [
        "bitcoin_prices_block.tail()"
      ]
    },
    {
      "cell_type": "code",
      "execution_count": null,
      "metadata": {
        "id": "-PwoNIHs1sSP",
        "colab": {
          "base_uri": "https://localhost:8080/",
          "height": 442
        },
        "outputId": "cd4688a2-22a3-4852-eb1e-21409b3727be"
      },
      "outputs": [
        {
          "output_type": "display_data",
          "data": {
            "text/plain": [
              "<Figure size 720x504 with 1 Axes>"
            ],
            "image/png": "[encoded data removed]"
          },
          "metadata": {
            "needs_background": "light"
          }
        }
      ],
      "source": [
        "# Plotting The Block Reward Vs Price Over Time\n",
        "from sklearn.preprocessing import minmax_scale\n",
        "scaled_price_block_df = pd.DataFrame(minmax_scale(bitcoin_prices_block[['Price', 'block_reward']]),\n",
        "                                                                       columns=bitcoin_prices_block.columns,\n",
        "                                                                       index=bitcoin_prices_block.index)\n",
        "\n",
        "scaled_price_block_df.plot(figsize=(10, 7));"
      ]
    },
    {
      "cell_type": "markdown",
      "metadata": {
        "id": "pD2pLRSW2Lh3"
      },
      "source": [
        "##MAKING A WINDOWED DATASET WITH PANDAS"
      ]
    },
    {
      "cell_type": "code",
      "execution_count": null,
      "metadata": {
        "id": "G3TPkgs64p5z"
      },
      "outputs": [],
      "source": [
        "# SettingUp Dataset Hyperparameters\n",
        "HORIZON = 1\n",
        "WINDOW_SIZE = 7"
      ]
    },
    {
      "cell_type": "code",
      "execution_count": null,
      "metadata": {
        "id": "cSJyN5sL5F78",
        "colab": {
          "base_uri": "https://localhost:8080/",
          "height": 632
        },
        "outputId": "8867f208-a35c-44de-e92e-3f4e774c715f"
      },
      "outputs": [
        {
          "output_type": "execute_result",
          "data": {
            "text/plain": [
              "                Price block_reward    Price+1    Price+2    Price+3  \\\n",
              "Date                                                                  \n",
              "2013-10-01  123.65499           25        NaN        NaN        NaN   \n",
              "2013-10-02  125.45500           25  123.65499        NaN        NaN   \n",
              "2013-10-03  108.58483           25  125.45500  123.65499        NaN   \n",
              "2013-10-04  118.67466           25  108.58483  125.45500  123.65499   \n",
              "2013-10-05  121.33866           25  118.67466  108.58483  125.45500   \n",
              "2013-10-06  120.65533           25  121.33866  118.67466  108.58483   \n",
              "2013-10-07  121.79500           25  120.65533  121.33866  118.67466   \n",
              "2013-10-08  123.03300           25  121.79500  120.65533  121.33866   \n",
              "2013-10-09  124.04900           25  123.03300  121.79500  120.65533   \n",
              "2013-10-10  125.96116           25  124.04900  123.03300  121.79500   \n",
              "\n",
              "              Price+4    Price+5    Price+6    Price+7  \n",
              "Date                                                    \n",
              "2013-10-01        NaN        NaN        NaN        NaN  \n",
              "2013-10-02        NaN        NaN        NaN        NaN  \n",
              "2013-10-03        NaN        NaN        NaN        NaN  \n",
              "2013-10-04        NaN        NaN        NaN        NaN  \n",
              "2013-10-05  123.65499        NaN        NaN        NaN  \n",
              "2013-10-06  125.45500  123.65499        NaN        NaN  \n",
              "2013-10-07  108.58483  125.45500  123.65499        NaN  \n",
              "2013-10-08  118.67466  108.58483  125.45500  123.65499  \n",
              "2013-10-09  121.33866  118.67466  108.58483  125.45500  \n",
              "2013-10-10  120.65533  121.33866  118.67466  108.58483  "
            ],
            "text/html": [
              "\n",
              "  <div id=\"df-62cc8edb-cc7a-40da-9a3e-143b644d750a\">\n",
              "    <div class=\"colab-df-container\">\n",
              "      <div>\n",
              "<style scoped>\n",
              "    .dataframe tbody tr th:only-of-type {\n",
              "        vertical-align: middle;\n",
              "    }\n",
              "\n",
              "    .dataframe tbody tr th {\n",
              "        vertical-align: top;\n",
              "    }\n",
              "\n",
              "    .dataframe thead th {\n",
              "        text-align: right;\n",
              "    }\n",
              "</style>\n",
              "<table border=\"1\" class=\"dataframe\">\n",
              "  <thead>\n",
              "    <tr style=\"text-align: right;\">\n",
              "      <th></th>\n",
              "      <th>Price</th>\n",
              "      <th>block_reward</th>\n",
              "      <th>Price+1</th>\n",
              "      <th>Price+2</th>\n",
              "      <th>Price+3</th>\n",
              "      <th>Price+4</th>\n",
              "      <th>Price+5</th>\n",
              "      <th>Price+6</th>\n",
              "      <th>Price+7</th>\n",
              "    </tr>\n",
              "    <tr>\n",
              "      <th>Date</th>\n",
              "      <th></th>\n",
              "      <th></th>\n",
              "      <th></th>\n",
              "      <th></th>\n",
              "      <th></th>\n",
              "      <th></th>\n",
              "      <th></th>\n",
              "      <th></th>\n",
              "      <th></th>\n",
              "    </tr>\n",
              "  </thead>\n",
              "  <tbody>\n",
              "    <tr>\n",
              "      <th>2013-10-01</th>\n",
              "      <td>123.65499</td>\n",
              "      <td>25</td>\n",
              "      <td>NaN</td>\n",
              "      <td>NaN</td>\n",
              "      <td>NaN</td>\n",
              "      <td>NaN</td>\n",
              "      <td>NaN</td>\n",
              "      <td>NaN</td>\n",
              "      <td>NaN</td>\n",
              "    </tr>\n",
              "    <tr>\n",
              "      <th>2013-10-02</th>\n",
              "      <td>125.45500</td>\n",
              "      <td>25</td>\n",
              "      <td>123.65499</td>\n",
              "      <td>NaN</td>\n",
              "      <td>NaN</td>\n",
              "      <td>NaN</td>\n",
              "      <td>NaN</td>\n",
              "      <td>NaN</td>\n",
              "      <td>NaN</td>\n",
              "    </tr>\n",
              "    <tr>\n",
              "      <th>2013-10-03</th>\n",
              "      <td>108.58483</td>\n",
              "      <td>25</td>\n",
              "      <td>125.45500</td>\n",
              "      <td>123.65499</td>\n",
              "      <td>NaN</td>\n",
              "      <td>NaN</td>\n",
              "      <td>NaN</td>\n",
              "      <td>NaN</td>\n",
              "      <td>NaN</td>\n",
              "    </tr>\n",
              "    <tr>\n",
              "      <th>2013-10-04</th>\n",
              "      <td>118.67466</td>\n",
              "      <td>25</td>\n",
              "      <td>108.58483</td>\n",
              "      <td>125.45500</td>\n",
              "      <td>123.65499</td>\n",
              "      <td>NaN</td>\n",
              "      <td>NaN</td>\n",
              "      <td>NaN</td>\n",
              "      <td>NaN</td>\n",
              "    </tr>\n",
              "    <tr>\n",
              "      <th>2013-10-05</th>\n",
              "      <td>121.33866</td>\n",
              "      <td>25</td>\n",
              "      <td>118.67466</td>\n",
              "      <td>108.58483</td>\n",
              "      <td>125.45500</td>\n",
              "      <td>123.65499</td>\n",
              "      <td>NaN</td>\n",
              "      <td>NaN</td>\n",
              "      <td>NaN</td>\n",
              "    </tr>\n",
              "    <tr>\n",
              "      <th>2013-10-06</th>\n",
              "      <td>120.65533</td>\n",
              "      <td>25</td>\n",
              "      <td>121.33866</td>\n",
              "      <td>118.67466</td>\n",
              "      <td>108.58483</td>\n",
              "      <td>125.45500</td>\n",
              "      <td>123.65499</td>\n",
              "      <td>NaN</td>\n",
              "      <td>NaN</td>\n",
              "    </tr>\n",
              "    <tr>\n",
              "      <th>2013-10-07</th>\n",
              "      <td>121.79500</td>\n",
              "      <td>25</td>\n",
              "      <td>120.65533</td>\n",
              "      <td>121.33866</td>\n",
              "      <td>118.67466</td>\n",
              "      <td>108.58483</td>\n",
              "      <td>125.45500</td>\n",
              "      <td>123.65499</td>\n",
              "      <td>NaN</td>\n",
              "    </tr>\n",
              "    <tr>\n",
              "      <th>2013-10-08</th>\n",
              "      <td>123.03300</td>\n",
              "      <td>25</td>\n",
              "      <td>121.79500</td>\n",
              "      <td>120.65533</td>\n",
              "      <td>121.33866</td>\n",
              "      <td>118.67466</td>\n",
              "      <td>108.58483</td>\n",
              "      <td>125.45500</td>\n",
              "      <td>123.65499</td>\n",
              "    </tr>\n",
              "    <tr>\n",
              "      <th>2013-10-09</th>\n",
              "      <td>124.04900</td>\n",
              "      <td>25</td>\n",
              "      <td>123.03300</td>\n",
              "      <td>121.79500</td>\n",
              "      <td>120.65533</td>\n",
              "      <td>121.33866</td>\n",
              "      <td>118.67466</td>\n",
              "      <td>108.58483</td>\n",
              "      <td>125.45500</td>\n",
              "    </tr>\n",
              "    <tr>\n",
              "      <th>2013-10-10</th>\n",
              "      <td>125.96116</td>\n",
              "      <td>25</td>\n",
              "      <td>124.04900</td>\n",
              "      <td>123.03300</td>\n",
              "      <td>121.79500</td>\n",
              "      <td>120.65533</td>\n",
              "      <td>121.33866</td>\n",
              "      <td>118.67466</td>\n",
              "      <td>108.58483</td>\n",
              "    </tr>\n",
              "  </tbody>\n",
              "</table>\n",
              "</div>\n",
              "      <button class=\"colab-df-convert\" onclick=\"convertToInteractive('df-62cc8edb-cc7a-40da-9a3e-143b644d750a')\"\n",
              "              title=\"Convert this dataframe to an interactive table.\"\n",
              "              style=\"display:none;\">\n",
              "        \n",
              "  <svg xmlns=\"http://www.w3.org/2000/svg\" height=\"24px\"viewBox=\"0 0 24 24\"\n",
              "       width=\"24px\">\n",
              "    <path d=\"M0 0h24v24H0V0z\" fill=\"none\"/>\n",
              "    <path d=\"M18.56 5.44l.94 2.06.94-2.06 2.06-.94-2.06-.94-.94-2.06-.94 2.06-2.06.94zm-11 1L8.5 8.5l.94-2.06 2.06-.94-2.06-.94L8.5 2.5l-.94 2.06-2.06.94zm10 10l.94 2.06.94-2.06 2.06-.94-2.06-.94-.94-2.06-.94 2.06-2.06.94z\"/><path d=\"M17.41 7.96l-1.37-1.37c-.4-.4-.92-.59-1.43-.59-.52 0-1.04.2-1.43.59L10.3 9.45l-7.72 7.72c-.78.78-.78 2.05 0 2.83L4 21.41c.39.39.9.59 1.41.59.51 0 1.02-.2 1.41-.59l7.78-7.78 2.81-2.81c.8-.78.8-2.07 0-2.86zM5.41 20L4 18.59l7.72-7.72 1.47 1.35L5.41 20z\"/>\n",
              "  </svg>\n",
              "      </button>\n",
              "      \n",
              "  <style>\n",
              "    .colab-df-container {\n",
              "      display:flex;\n",
              "      flex-wrap:wrap;\n",
              "      gap: 12px;\n",
              "    }\n",
              "\n",
              "    .colab-df-convert {\n",
              "      background-color: #E8F0FE;\n",
              "      border: none;\n",
              "      border-radius: 50%;\n",
              "      cursor: pointer;\n",
              "      display: none;\n",
              "      fill: #1967D2;\n",
              "      height: 32px;\n",
              "      padding: 0 0 0 0;\n",
              "      width: 32px;\n",
              "    }\n",
              "\n",
              "    .colab-df-convert:hover {\n",
              "      background-color: #E2EBFA;\n",
              "      box-shadow: 0px 1px 2px rgba(60, 64, 67, 0.3), 0px 1px 3px 1px rgba(60, 64, 67, 0.15);\n",
              "      fill: #174EA6;\n",
              "    }\n",
              "\n",
              "    [theme=dark] .colab-df-convert {\n",
              "      background-color: #3B4455;\n",
              "      fill: #D2E3FC;\n",
              "    }\n",
              "\n",
              "    [theme=dark] .colab-df-convert:hover {\n",
              "      background-color: #434B5C;\n",
              "      box-shadow: 0px 1px 3px 1px rgba(0, 0, 0, 0.15);\n",
              "      filter: drop-shadow(0px 1px 2px rgba(0, 0, 0, 0.3));\n",
              "      fill: #FFFFFF;\n",
              "    }\n",
              "  </style>\n",
              "\n",
              "      <script>\n",
              "        const buttonEl =\n",
              "          document.querySelector('#df-62cc8edb-cc7a-40da-9a3e-143b644d750a button.colab-df-convert');\n",
              "        buttonEl.style.display =\n",
              "          google.colab.kernel.accessAllowed ? 'block' : 'none';\n",
              "\n",
              "        async function convertToInteractive(key) {\n",
              "          const element = document.querySelector('#df-62cc8edb-cc7a-40da-9a3e-143b644d750a');\n",
              "          const dataTable =\n",
              "            await google.colab.kernel.invokeFunction('convertToInteractive',\n",
              "                                                     [key], {});\n",
              "          if (!dataTable) return;\n",
              "\n",
              "          const docLinkHtml = 'Like what you see? Visit the ' +\n",
              "            '<a target=\"_blank\" href=https://colab.research.google.com/notebooks/data_table.ipynb>data table notebook</a>'\n",
              "            + ' to learn more about interactive tables.';\n",
              "          element.innerHTML = '';\n",
              "          dataTable['output_type'] = 'display_data';\n",
              "          await google.colab.output.renderOutput(dataTable, element);\n",
              "          const docLink = document.createElement('div');\n",
              "          docLink.innerHTML = docLinkHtml;\n",
              "          element.appendChild(docLink);\n",
              "        }\n",
              "      </script>\n",
              "    </div>\n",
              "  </div>\n",
              "  "
            ]
          },
          "metadata": {},
          "execution_count": 91
        }
      ],
      "source": [
        "# Making A Copy Of The Bitcoin Historical Data With Block Reward Feature\n",
        "bitcoin_prices_windowed = bitcoin_prices_block.copy()\n",
        "\n",
        "# Adding Windowed Columns\n",
        "for i in range(WINDOW_SIZE):\n",
        "  bitcoin_prices_windowed[f'Price+{i+1}'] = bitcoin_prices_windowed['Price'].shift(periods=i+1)\n",
        "\n",
        "bitcoin_prices_windowed.head(10)"
      ]
    },
    {
      "cell_type": "code",
      "execution_count": null,
      "metadata": {
        "id": "w5kvGqCl6h80",
        "colab": {
          "base_uri": "https://localhost:8080/",
          "height": 388
        },
        "outputId": "3b68bf02-0321-4033-fe7f-88c73d6c2f4e"
      },
      "outputs": [
        {
          "output_type": "execute_result",
          "data": {
            "text/plain": [
              "            block_reward     Price+1     Price+2     Price+3     Price+4  \\\n",
              "Date                                                                       \n",
              "2013-10-08          25.0  121.794998  120.655327  121.338661  118.674660   \n",
              "2013-10-09          25.0  123.032997  121.794998  120.655327  121.338661   \n",
              "2013-10-10          25.0  124.049004  123.032997  121.794998  120.655327   \n",
              "2013-10-11          25.0  125.961159  124.049004  123.032997  121.794998   \n",
              "2013-10-12          25.0  125.279663  125.961159  124.049004  123.032997   \n",
              "\n",
              "               Price+5     Price+6     Price+7  \n",
              "Date                                            \n",
              "2013-10-08  108.584831  125.455002  123.654991  \n",
              "2013-10-09  118.674660  108.584831  125.455002  \n",
              "2013-10-10  121.338661  118.674660  108.584831  \n",
              "2013-10-11  120.655327  121.338661  118.674660  \n",
              "2013-10-12  121.794998  120.655327  121.338661  "
            ],
            "text/html": [
              "\n",
              "  <div id=\"df-bf41f223-e649-4499-8ade-5933443a290a\">\n",
              "    <div class=\"colab-df-container\">\n",
              "      <div>\n",
              "<style scoped>\n",
              "    .dataframe tbody tr th:only-of-type {\n",
              "        vertical-align: middle;\n",
              "    }\n",
              "\n",
              "    .dataframe tbody tr th {\n",
              "        vertical-align: top;\n",
              "    }\n",
              "\n",
              "    .dataframe thead th {\n",
              "        text-align: right;\n",
              "    }\n",
              "</style>\n",
              "<table border=\"1\" class=\"dataframe\">\n",
              "  <thead>\n",
              "    <tr style=\"text-align: right;\">\n",
              "      <th></th>\n",
              "      <th>block_reward</th>\n",
              "      <th>Price+1</th>\n",
              "      <th>Price+2</th>\n",
              "      <th>Price+3</th>\n",
              "      <th>Price+4</th>\n",
              "      <th>Price+5</th>\n",
              "      <th>Price+6</th>\n",
              "      <th>Price+7</th>\n",
              "    </tr>\n",
              "    <tr>\n",
              "      <th>Date</th>\n",
              "      <th></th>\n",
              "      <th></th>\n",
              "      <th></th>\n",
              "      <th></th>\n",
              "      <th></th>\n",
              "      <th></th>\n",
              "      <th></th>\n",
              "      <th></th>\n",
              "    </tr>\n",
              "  </thead>\n",
              "  <tbody>\n",
              "    <tr>\n",
              "      <th>2013-10-08</th>\n",
              "      <td>25.0</td>\n",
              "      <td>121.794998</td>\n",
              "      <td>120.655327</td>\n",
              "      <td>121.338661</td>\n",
              "      <td>118.674660</td>\n",
              "      <td>108.584831</td>\n",
              "      <td>125.455002</td>\n",
              "      <td>123.654991</td>\n",
              "    </tr>\n",
              "    <tr>\n",
              "      <th>2013-10-09</th>\n",
              "      <td>25.0</td>\n",
              "      <td>123.032997</td>\n",
              "      <td>121.794998</td>\n",
              "      <td>120.655327</td>\n",
              "      <td>121.338661</td>\n",
              "      <td>118.674660</td>\n",
              "      <td>108.584831</td>\n",
              "      <td>125.455002</td>\n",
              "    </tr>\n",
              "    <tr>\n",
              "      <th>2013-10-10</th>\n",
              "      <td>25.0</td>\n",
              "      <td>124.049004</td>\n",
              "      <td>123.032997</td>\n",
              "      <td>121.794998</td>\n",
              "      <td>120.655327</td>\n",
              "      <td>121.338661</td>\n",
              "      <td>118.674660</td>\n",
              "      <td>108.584831</td>\n",
              "    </tr>\n",
              "    <tr>\n",
              "      <th>2013-10-11</th>\n",
              "      <td>25.0</td>\n",
              "      <td>125.961159</td>\n",
              "      <td>124.049004</td>\n",
              "      <td>123.032997</td>\n",
              "      <td>121.794998</td>\n",
              "      <td>120.655327</td>\n",
              "      <td>121.338661</td>\n",
              "      <td>118.674660</td>\n",
              "    </tr>\n",
              "    <tr>\n",
              "      <th>2013-10-12</th>\n",
              "      <td>25.0</td>\n",
              "      <td>125.279663</td>\n",
              "      <td>125.961159</td>\n",
              "      <td>124.049004</td>\n",
              "      <td>123.032997</td>\n",
              "      <td>121.794998</td>\n",
              "      <td>120.655327</td>\n",
              "      <td>121.338661</td>\n",
              "    </tr>\n",
              "  </tbody>\n",
              "</table>\n",
              "</div>\n",
              "      <button class=\"colab-df-convert\" onclick=\"convertToInteractive('df-bf41f223-e649-4499-8ade-5933443a290a')\"\n",
              "              title=\"Convert this dataframe to an interactive table.\"\n",
              "              style=\"display:none;\">\n",
              "        \n",
              "  <svg xmlns=\"http://www.w3.org/2000/svg\" height=\"24px\"viewBox=\"0 0 24 24\"\n",
              "       width=\"24px\">\n",
              "    <path d=\"M0 0h24v24H0V0z\" fill=\"none\"/>\n",
              "    <path d=\"M18.56 5.44l.94 2.06.94-2.06 2.06-.94-2.06-.94-.94-2.06-.94 2.06-2.06.94zm-11 1L8.5 8.5l.94-2.06 2.06-.94-2.06-.94L8.5 2.5l-.94 2.06-2.06.94zm10 10l.94 2.06.94-2.06 2.06-.94-2.06-.94-.94-2.06-.94 2.06-2.06.94z\"/><path d=\"M17.41 7.96l-1.37-1.37c-.4-.4-.92-.59-1.43-.59-.52 0-1.04.2-1.43.59L10.3 9.45l-7.72 7.72c-.78.78-.78 2.05 0 2.83L4 21.41c.39.39.9.59 1.41.59.51 0 1.02-.2 1.41-.59l7.78-7.78 2.81-2.81c.8-.78.8-2.07 0-2.86zM5.41 20L4 18.59l7.72-7.72 1.47 1.35L5.41 20z\"/>\n",
              "  </svg>\n",
              "      </button>\n",
              "      \n",
              "  <style>\n",
              "    .colab-df-container {\n",
              "      display:flex;\n",
              "      flex-wrap:wrap;\n",
              "      gap: 12px;\n",
              "    }\n",
              "\n",
              "    .colab-df-convert {\n",
              "      background-color: #E8F0FE;\n",
              "      border: none;\n",
              "      border-radius: 50%;\n",
              "      cursor: pointer;\n",
              "      display: none;\n",
              "      fill: #1967D2;\n",
              "      height: 32px;\n",
              "      padding: 0 0 0 0;\n",
              "      width: 32px;\n",
              "    }\n",
              "\n",
              "    .colab-df-convert:hover {\n",
              "      background-color: #E2EBFA;\n",
              "      box-shadow: 0px 1px 2px rgba(60, 64, 67, 0.3), 0px 1px 3px 1px rgba(60, 64, 67, 0.15);\n",
              "      fill: #174EA6;\n",
              "    }\n",
              "\n",
              "    [theme=dark] .colab-df-convert {\n",
              "      background-color: #3B4455;\n",
              "      fill: #D2E3FC;\n",
              "    }\n",
              "\n",
              "    [theme=dark] .colab-df-convert:hover {\n",
              "      background-color: #434B5C;\n",
              "      box-shadow: 0px 1px 3px 1px rgba(0, 0, 0, 0.15);\n",
              "      filter: drop-shadow(0px 1px 2px rgba(0, 0, 0, 0.3));\n",
              "      fill: #FFFFFF;\n",
              "    }\n",
              "  </style>\n",
              "\n",
              "      <script>\n",
              "        const buttonEl =\n",
              "          document.querySelector('#df-bf41f223-e649-4499-8ade-5933443a290a button.colab-df-convert');\n",
              "        buttonEl.style.display =\n",
              "          google.colab.kernel.accessAllowed ? 'block' : 'none';\n",
              "\n",
              "        async function convertToInteractive(key) {\n",
              "          const element = document.querySelector('#df-bf41f223-e649-4499-8ade-5933443a290a');\n",
              "          const dataTable =\n",
              "            await google.colab.kernel.invokeFunction('convertToInteractive',\n",
              "                                                     [key], {});\n",
              "          if (!dataTable) return;\n",
              "\n",
              "          const docLinkHtml = 'Like what you see? Visit the ' +\n",
              "            '<a target=\"_blank\" href=https://colab.research.google.com/notebooks/data_table.ipynb>data table notebook</a>'\n",
              "            + ' to learn more about interactive tables.';\n",
              "          element.innerHTML = '';\n",
              "          dataTable['output_type'] = 'display_data';\n",
              "          await google.colab.output.renderOutput(dataTable, element);\n",
              "          const docLink = document.createElement('div');\n",
              "          docLink.innerHTML = docLinkHtml;\n",
              "          element.appendChild(docLink);\n",
              "        }\n",
              "      </script>\n",
              "    </div>\n",
              "  </div>\n",
              "  "
            ]
          },
          "metadata": {},
          "execution_count": 92
        }
      ],
      "source": [
        "# Creating X (windows) And y (horizons) Features\n",
        "X = bitcoin_prices_windowed.dropna().drop('Price', axis=1).astype(np.float32)\n",
        "y = bitcoin_prices_windowed.dropna()['Price'].astype(np.float32)\n",
        "X.head()"
      ]
    },
    {
      "cell_type": "code",
      "execution_count": null,
      "metadata": {
        "id": "-pHuSntB7z8v",
        "colab": {
          "base_uri": "https://localhost:8080/"
        },
        "outputId": "981da81a-e3d7-446c-fbb1-e4d1ba5b4d94"
      },
      "outputs": [
        {
          "output_type": "execute_result",
          "data": {
            "text/plain": [
              "Date\n",
              "2013-10-08    123.032997\n",
              "2013-10-09    124.049004\n",
              "2013-10-10    125.961159\n",
              "2013-10-11    125.279663\n",
              "2013-10-12    125.927498\n",
              "Name: Price, dtype: float32"
            ]
          },
          "metadata": {},
          "execution_count": 93
        }
      ],
      "source": [
        "y.head()"
      ]
    },
    {
      "cell_type": "code",
      "execution_count": null,
      "metadata": {
        "id": "gwfDd_5s71H8",
        "colab": {
          "base_uri": "https://localhost:8080/"
        },
        "outputId": "d3f41ecd-6c12-4b58-816c-52dcb4e4ab16"
      },
      "outputs": [
        {
          "output_type": "execute_result",
          "data": {
            "text/plain": [
              "(2224, 2224, 556, 556)"
            ]
          },
          "metadata": {},
          "execution_count": 94
        }
      ],
      "source": [
        "# Making Train And Test Sets Using Indexing\n",
        "split_size = int(len(X) * 0.8)\n",
        "X_train, y_train = X[:split_size], y[:split_size]\n",
        "X_test, y_test = X[split_size:], y[split_size:]\n",
        "\n",
        "len(X_train), len(y_train), len(X_test), len(y_test)"
      ]
    },
    {
      "cell_type": "markdown",
      "metadata": {
        "id": "pm8J03Aixad8"
      },
      "source": [
        "##MODEL 6 : DENSE (MULTIVARIATE TIME SERIES)"
      ]
    },
    {
      "cell_type": "code",
      "execution_count": null,
      "metadata": {
        "colab": {
          "base_uri": "https://localhost:8080/"
        },
        "id": "w94fTLy3x9Je",
        "outputId": "7be5e768-cb3a-499f-9a32-8cc4c081e609"
      },
      "outputs": [
        {
          "output_type": "stream",
          "name": "stdout",
          "text": [
            "Epoch 1/100\n",
            "18/18 [==============================] - 4s 121ms/step - loss: 708.7543 - val_loss: 2263.4285\n",
            "Epoch 2/100\n",
            "18/18 [==============================] - 1s 86ms/step - loss: 209.3616 - val_loss: 882.9481\n",
            "Epoch 3/100\n",
            "18/18 [==============================] - 1s 77ms/step - loss: 155.8645 - val_loss: 819.8914\n",
            "Epoch 4/100\n",
            "18/18 [==============================] - 2s 97ms/step - loss: 146.5629 - val_loss: 799.8083\n",
            "Epoch 5/100\n",
            "18/18 [==============================] - 1s 66ms/step - loss: 132.3967 - val_loss: 693.0549\n",
            "Epoch 6/100\n",
            "18/18 [==============================] - 1s 69ms/step - loss: 125.7844 - val_loss: 659.4625\n",
            "Epoch 7/100\n",
            "18/18 [==============================] - 0s 7ms/step - loss: 122.0053 - val_loss: 715.5045\n",
            "Epoch 8/100\n",
            "18/18 [==============================] - 2s 120ms/step - loss: 120.0705 - val_loss: 636.3275\n",
            "Epoch 9/100\n",
            "18/18 [==============================] - 0s 10ms/step - loss: 118.8696 - val_loss: 813.4575\n",
            "Epoch 10/100\n",
            "18/18 [==============================] - 0s 11ms/step - loss: 142.6442 - val_loss: 798.1829\n",
            "Epoch 11/100\n",
            "18/18 [==============================] - 0s 10ms/step - loss: 132.8635 - val_loss: 954.5629\n",
            "Epoch 12/100\n",
            "18/18 [==============================] - 0s 7ms/step - loss: 141.3809 - val_loss: 764.7922\n",
            "Epoch 13/100\n",
            "18/18 [==============================] - 0s 10ms/step - loss: 122.8999 - val_loss: 795.9848\n",
            "Epoch 14/100\n",
            "18/18 [==============================] - 0s 8ms/step - loss: 127.7740 - val_loss: 719.1871\n",
            "Epoch 15/100\n",
            "18/18 [==============================] - 2s 103ms/step - loss: 116.5562 - val_loss: 632.0538\n",
            "Epoch 16/100\n",
            "18/18 [==============================] - 1s 66ms/step - loss: 110.2820 - val_loss: 593.3348\n",
            "Epoch 17/100\n",
            "18/18 [==============================] - 0s 8ms/step - loss: 108.5204 - val_loss: 619.4891\n",
            "Epoch 18/100\n",
            "18/18 [==============================] - 0s 8ms/step - loss: 124.0189 - val_loss: 676.2479\n",
            "Epoch 19/100\n",
            "18/18 [==============================] - 0s 8ms/step - loss: 125.1883 - val_loss: 604.0602\n",
            "Epoch 20/100\n",
            "18/18 [==============================] - 0s 8ms/step - loss: 110.2079 - val_loss: 682.6889\n",
            "Epoch 21/100\n",
            "18/18 [==============================] - 0s 7ms/step - loss: 119.3200 - val_loss: 843.3443\n",
            "Epoch 22/100\n",
            "18/18 [==============================] - 0s 7ms/step - loss: 130.3288 - val_loss: 685.5750\n",
            "Epoch 23/100\n",
            "18/18 [==============================] - 0s 8ms/step - loss: 113.5154 - val_loss: 595.2667\n",
            "Epoch 24/100\n",
            "18/18 [==============================] - 1s 68ms/step - loss: 109.5936 - val_loss: 584.1935\n",
            "Epoch 25/100\n",
            "18/18 [==============================] - 0s 8ms/step - loss: 107.4454 - val_loss: 610.4235\n",
            "Epoch 26/100\n",
            "18/18 [==============================] - 1s 67ms/step - loss: 107.6043 - val_loss: 580.8025\n",
            "Epoch 27/100\n",
            "18/18 [==============================] - 0s 8ms/step - loss: 105.2239 - val_loss: 604.5081\n",
            "Epoch 28/100\n",
            "18/18 [==============================] - 1s 69ms/step - loss: 109.2920 - val_loss: 579.1647\n",
            "Epoch 29/100\n",
            "18/18 [==============================] - 0s 8ms/step - loss: 104.7267 - val_loss: 633.8942\n",
            "Epoch 30/100\n",
            "18/18 [==============================] - 0s 7ms/step - loss: 120.4884 - val_loss: 687.5373\n",
            "Epoch 31/100\n",
            "18/18 [==============================] - 1s 66ms/step - loss: 109.5875 - val_loss: 572.7282\n",
            "Epoch 32/100\n",
            "18/18 [==============================] - 0s 7ms/step - loss: 106.3595 - val_loss: 653.4473\n",
            "Epoch 33/100\n",
            "18/18 [==============================] - 1s 65ms/step - loss: 107.8634 - val_loss: 572.3280\n",
            "Epoch 34/100\n",
            "18/18 [==============================] - 0s 9ms/step - loss: 105.8548 - val_loss: 668.6674\n",
            "Epoch 35/100\n",
            "18/18 [==============================] - 0s 8ms/step - loss: 109.9815 - val_loss: 668.5099\n",
            "Epoch 36/100\n",
            "18/18 [==============================] - 0s 7ms/step - loss: 115.7930 - val_loss: 581.7660\n",
            "Epoch 37/100\n",
            "18/18 [==============================] - 0s 7ms/step - loss: 108.4213 - val_loss: 652.8945\n",
            "Epoch 38/100\n",
            "18/18 [==============================] - 0s 10ms/step - loss: 114.8744 - val_loss: 589.9138\n",
            "Epoch 39/100\n",
            "18/18 [==============================] - 1s 67ms/step - loss: 109.1423 - val_loss: 571.7589\n",
            "Epoch 40/100\n",
            "18/18 [==============================] - 0s 7ms/step - loss: 109.9625 - val_loss: 599.0894\n",
            "Epoch 41/100\n",
            "18/18 [==============================] - 0s 8ms/step - loss: 107.2421 - val_loss: 581.5252\n",
            "Epoch 42/100\n",
            "18/18 [==============================] - 0s 7ms/step - loss: 118.9674 - val_loss: 764.6559\n",
            "Epoch 43/100\n",
            "18/18 [==============================] - 0s 7ms/step - loss: 129.1590 - val_loss: 781.7006\n",
            "Epoch 44/100\n",
            "18/18 [==============================] - 0s 15ms/step - loss: 133.2355 - val_loss: 661.9261\n",
            "Epoch 45/100\n",
            "18/18 [==============================] - 0s 16ms/step - loss: 121.5230 - val_loss: 638.4086\n",
            "Epoch 46/100\n",
            "18/18 [==============================] - 0s 15ms/step - loss: 113.2173 - val_loss: 577.5428\n",
            "Epoch 47/100\n",
            "18/18 [==============================] - 0s 14ms/step - loss: 110.4998 - val_loss: 580.6262\n",
            "Epoch 48/100\n",
            "18/18 [==============================] - 1s 77ms/step - loss: 105.1624 - val_loss: 571.5986\n",
            "Epoch 49/100\n",
            "18/18 [==============================] - 0s 7ms/step - loss: 107.4972 - val_loss: 782.5397\n",
            "Epoch 50/100\n",
            "18/18 [==============================] - 0s 7ms/step - loss: 125.4213 - val_loss: 721.1205\n",
            "Epoch 51/100\n",
            "18/18 [==============================] - 0s 8ms/step - loss: 115.2720 - val_loss: 598.7119\n",
            "Epoch 52/100\n",
            "18/18 [==============================] - 0s 6ms/step - loss: 115.5987 - val_loss: 611.0362\n",
            "Epoch 53/100\n",
            "18/18 [==============================] - 0s 7ms/step - loss: 111.2244 - val_loss: 586.5603\n",
            "Epoch 54/100\n",
            "18/18 [==============================] - 0s 7ms/step - loss: 107.3026 - val_loss: 582.4438\n",
            "Epoch 55/100\n",
            "18/18 [==============================] - 0s 7ms/step - loss: 115.1076 - val_loss: 608.1599\n",
            "Epoch 56/100\n",
            "18/18 [==============================] - 0s 8ms/step - loss: 113.7095 - val_loss: 841.5679\n",
            "Epoch 57/100\n",
            "18/18 [==============================] - 0s 7ms/step - loss: 124.9829 - val_loss: 600.2538\n",
            "Epoch 58/100\n",
            "18/18 [==============================] - 1s 64ms/step - loss: 112.0568 - val_loss: 570.0095\n",
            "Epoch 59/100\n",
            "18/18 [==============================] - 1s 68ms/step - loss: 108.1944 - val_loss: 568.3477\n",
            "Epoch 60/100\n",
            "18/18 [==============================] - 0s 7ms/step - loss: 108.2231 - val_loss: 580.4103\n",
            "Epoch 61/100\n",
            "18/18 [==============================] - 0s 8ms/step - loss: 106.8220 - val_loss: 582.9024\n",
            "Epoch 62/100\n",
            "18/18 [==============================] - 0s 8ms/step - loss: 103.8907 - val_loss: 599.4965\n",
            "Epoch 63/100\n",
            "18/18 [==============================] - 0s 8ms/step - loss: 104.4922 - val_loss: 580.0478\n",
            "Epoch 64/100\n",
            "18/18 [==============================] - 0s 17ms/step - loss: 105.8810 - val_loss: 607.1529\n",
            "Epoch 65/100\n",
            "18/18 [==============================] - 0s 18ms/step - loss: 109.3284 - val_loss: 662.7418\n",
            "Epoch 66/100\n",
            "18/18 [==============================] - 0s 15ms/step - loss: 112.6016 - val_loss: 638.7400\n",
            "Epoch 67/100\n",
            "18/18 [==============================] - 0s 15ms/step - loss: 108.3785 - val_loss: 628.0858\n",
            "Epoch 68/100\n",
            "18/18 [==============================] - 0s 17ms/step - loss: 105.1037 - val_loss: 586.1402\n",
            "Epoch 69/100\n",
            "18/18 [==============================] - 0s 8ms/step - loss: 106.0331 - val_loss: 679.5463\n",
            "Epoch 70/100\n",
            "18/18 [==============================] - 0s 8ms/step - loss: 123.0324 - val_loss: 747.3699\n",
            "Epoch 71/100\n",
            "18/18 [==============================] - 0s 8ms/step - loss: 108.5454 - val_loss: 603.0233\n",
            "Epoch 72/100\n",
            "18/18 [==============================] - 0s 8ms/step - loss: 108.4981 - val_loss: 585.1017\n",
            "Epoch 73/100\n",
            "18/18 [==============================] - 0s 8ms/step - loss: 103.7431 - val_loss: 570.6559\n",
            "Epoch 74/100\n",
            "18/18 [==============================] - 0s 8ms/step - loss: 103.9349 - val_loss: 576.5841\n",
            "Epoch 75/100\n",
            "18/18 [==============================] - 0s 8ms/step - loss: 105.6081 - val_loss: 573.0737\n",
            "Epoch 76/100\n",
            "18/18 [==============================] - 1s 63ms/step - loss: 106.4910 - val_loss: 568.3416\n",
            "Epoch 77/100\n",
            "18/18 [==============================] - 0s 4ms/step - loss: 109.0877 - val_loss: 572.4668\n",
            "Epoch 78/100\n",
            "18/18 [==============================] - 0s 5ms/step - loss: 106.5448 - val_loss: 573.2858\n",
            "Epoch 79/100\n",
            "18/18 [==============================] - 0s 11ms/step - loss: 105.9810 - val_loss: 658.8544\n",
            "Epoch 80/100\n",
            "18/18 [==============================] - 0s 11ms/step - loss: 112.3701 - val_loss: 645.8029\n",
            "Epoch 81/100\n",
            "18/18 [==============================] - 0s 7ms/step - loss: 106.3312 - val_loss: 624.1771\n",
            "Epoch 82/100\n",
            "18/18 [==============================] - 0s 12ms/step - loss: 123.4556 - val_loss: 678.8942\n",
            "Epoch 83/100\n",
            "18/18 [==============================] - 0s 8ms/step - loss: 122.8572 - val_loss: 799.7465\n",
            "Epoch 84/100\n",
            "18/18 [==============================] - 0s 8ms/step - loss: 121.0341 - val_loss: 574.5586\n",
            "Epoch 85/100\n",
            "18/18 [==============================] - 0s 9ms/step - loss: 106.4499 - val_loss: 578.1838\n",
            "Epoch 86/100\n",
            "18/18 [==============================] - 0s 9ms/step - loss: 107.5626 - val_loss: 570.3320\n",
            "Epoch 87/100\n",
            "18/18 [==============================] - 0s 4ms/step - loss: 104.4073 - val_loss: 662.8285\n",
            "Epoch 88/100\n",
            "18/18 [==============================] - 0s 4ms/step - loss: 114.0690 - val_loss: 598.9287\n",
            "Epoch 89/100\n",
            "18/18 [==============================] - 0s 4ms/step - loss: 107.7715 - val_loss: 651.1320\n",
            "Epoch 90/100\n",
            "18/18 [==============================] - 0s 8ms/step - loss: 113.4268 - val_loss: 570.2178\n",
            "Epoch 91/100\n",
            "18/18 [==============================] - 0s 11ms/step - loss: 115.7585 - val_loss: 574.0103\n",
            "Epoch 92/100\n",
            "18/18 [==============================] - 0s 10ms/step - loss: 112.4209 - val_loss: 728.9193\n",
            "Epoch 93/100\n",
            "18/18 [==============================] - 0s 9ms/step - loss: 113.8833 - val_loss: 613.2364\n",
            "Epoch 94/100\n",
            "18/18 [==============================] - 0s 5ms/step - loss: 115.8266 - val_loss: 586.8863\n",
            "Epoch 95/100\n",
            "18/18 [==============================] - 0s 6ms/step - loss: 108.6251 - val_loss: 617.3313\n",
            "Epoch 96/100\n",
            "18/18 [==============================] - 0s 11ms/step - loss: 121.7671 - val_loss: 719.3364\n",
            "Epoch 97/100\n",
            "18/18 [==============================] - 0s 9ms/step - loss: 111.4762 - val_loss: 569.6726\n",
            "Epoch 98/100\n",
            "18/18 [==============================] - 0s 4ms/step - loss: 103.6455 - val_loss: 570.3325\n",
            "Epoch 99/100\n",
            "18/18 [==============================] - 0s 4ms/step - loss: 106.5537 - val_loss: 595.3313\n",
            "Epoch 100/100\n",
            "18/18 [==============================] - 0s 8ms/step - loss: 110.0908 - val_loss: 568.9178\n"
          ]
        },
        {
          "output_type": "execute_result",
          "data": {
            "text/plain": [
              "<keras.callbacks.History at 0x7ff643926ad0>"
            ]
          },
          "metadata": {},
          "execution_count": 95
        }
      ],
      "source": [
        "tf.random.set_seed(42)\n",
        "\n",
        "# Making Multivariate Time Series Model\n",
        "model_6 = tf.keras.Sequential([\n",
        "    layers.Dense(128, activation='relu'),\n",
        "    layers.Dense(128, activation='relu'),\n",
        "    layers.Dense(HORIZON)\n",
        "], name='model_6_dense_multivariate')\n",
        "\n",
        "# Compiling\n",
        "model_6.compile(loss=tf.keras.losses.MeanAbsoluteError(),\n",
        "                optimizer=tf.keras.optimizers.Adam())\n",
        "\n",
        "# Fitting\n",
        "model_6.fit(X_train,\n",
        "            y_train,\n",
        "            batch_size=128,\n",
        "            epochs=100,\n",
        "            verbose=1,\n",
        "            validation_data=(X_test, y_test),\n",
        "            callbacks=[create_model_checkpoint(model_name=model_6.name)])"
      ]
    },
    {
      "cell_type": "code",
      "execution_count": null,
      "metadata": {
        "colab": {
          "base_uri": "https://localhost:8080/"
        },
        "id": "emwweQuVzlSE",
        "outputId": "05db44c7-65bd-4adb-eaba-a888de08968e"
      },
      "outputs": [
        {
          "output_type": "stream",
          "name": "stdout",
          "text": [
            "18/18 [==============================] - 0s 3ms/step - loss: 568.9178\n"
          ]
        },
        {
          "output_type": "execute_result",
          "data": {
            "text/plain": [
              "568.9177856445312"
            ]
          },
          "metadata": {},
          "execution_count": 96
        }
      ],
      "source": [
        "# Evaluating Multivariate Model\n",
        "model_6.evaluate(X_test, y_test)"
      ]
    },
    {
      "cell_type": "code",
      "execution_count": null,
      "metadata": {
        "colab": {
          "base_uri": "https://localhost:8080/"
        },
        "id": "FrfFW55PzwSQ",
        "outputId": "d786730d-a200-4fa4-eac9-73e5d40ae6b9"
      },
      "outputs": [
        {
          "output_type": "stream",
          "name": "stdout",
          "text": [
            "18/18 [==============================] - 0s 3ms/step - loss: 568.3416\n"
          ]
        },
        {
          "output_type": "execute_result",
          "data": {
            "text/plain": [
              "568.3416137695312"
            ]
          },
          "metadata": {},
          "execution_count": 97
        }
      ],
      "source": [
        "# Loading In And Evaluating Best Performing Model\n",
        "model_6 = tf.keras.models.load_model('model_experiments/model_6_dense_multivariate')\n",
        "model_6.evaluate(X_test, y_test)"
      ]
    },
    {
      "cell_type": "code",
      "execution_count": null,
      "metadata": {
        "colab": {
          "base_uri": "https://localhost:8080/"
        },
        "id": "2SWNIO_c0Noc",
        "outputId": "72023ebf-ef02-4cda-dda3-9a71b3ad82b0"
      },
      "outputs": [
        {
          "output_type": "execute_result",
          "data": {
            "text/plain": [
              "<tf.Tensor: shape=(10,), dtype=float32, numpy=\n",
              "array([8796.549, 8747.235, 9033.413, 8707.096, 8697.279, 8735.311,\n",
              "       8639.96 , 8471.708, 8437.007, 8505.609], dtype=float32)>"
            ]
          },
          "metadata": {},
          "execution_count": 98
        }
      ],
      "source": [
        "# Making Predictions\n",
        "model_6_preds = tf.squeeze(model_6.predict(X_test))\n",
        "model_6_preds[:10]"
      ]
    },
    {
      "cell_type": "code",
      "execution_count": null,
      "metadata": {
        "colab": {
          "base_uri": "https://localhost:8080/"
        },
        "id": "_xrTFJVN0bvR",
        "outputId": "f6edf9b0-5c07-445e-947e-2bd7925eebb7"
      },
      "outputs": [
        {
          "output_type": "execute_result",
          "data": {
            "text/plain": [
              "{'MAE': 568.34155,\n",
              " 'MSE': 1156009.0,\n",
              " 'RMSE': 1075.1786,\n",
              " 'MAPE': 2.5607426,\n",
              " 'MASE': 0.9984187}"
            ]
          },
          "metadata": {},
          "execution_count": 99
        }
      ],
      "source": [
        "# Evaluating Predictions To Get Eval Metrics\n",
        "model_6_results = evaluate_preds(y_true=y_test,\n",
        "                                 y_pred=model_6_preds)\n",
        "model_6_results"
      ]
    },
    {
      "cell_type": "code",
      "execution_count": null,
      "metadata": {
        "colab": {
          "base_uri": "https://localhost:8080/"
        },
        "id": "uxzzGsj506h5",
        "outputId": "6705fa51-c11f-4532-a1dd-6f086c99a641"
      },
      "outputs": [
        {
          "output_type": "execute_result",
          "data": {
            "text/plain": [
              "{'MAE': 568.5498,\n",
              " 'MSE': 1172587.6,\n",
              " 'RMSE': 1082.8608,\n",
              " 'MAPE': 2.549229,\n",
              " 'MASE': 0.99878454}"
            ]
          },
          "metadata": {},
          "execution_count": 100
        }
      ],
      "source": [
        "model_1_results"
      ]
    },
    {
      "cell_type": "markdown",
      "metadata": {
        "id": "-VjTgq220_bu"
      },
      "source": [
        "##MODEL 7 : N-BEATS ALGORITHM"
      ]
    },
    {
      "cell_type": "markdown",
      "metadata": {
        "id": "OMMgdwWC3eUT"
      },
      "source": [
        "###BUILDING AND TESTING N-BEATS BLOCK LAYER"
      ]
    },
    {
      "cell_type": "code",
      "execution_count": null,
      "metadata": {
        "id": "zAR50vKi4Wn6"
      },
      "outputs": [],
      "source": [
        "# Creating NBeatBlock Custom Layer\n",
        "class NBeatsBlock(tf.keras.layers.Layer):\n",
        "  def __init__(self,\n",
        "               input_size: int,\n",
        "               theta_size: int,\n",
        "               horizon: int,\n",
        "               n_neurons: int,\n",
        "               n_layers: int,\n",
        "               **kwargs):\n",
        "    super().__init__(**kwargs)\n",
        "    self.input_size = input_size\n",
        "    self.theta_size = theta_size\n",
        "    self.horizon = horizon\n",
        "    self.n_neurons = n_neurons\n",
        "    self.n_layers = n_layers\n",
        "\n",
        "    # Block Contains Stack Of 4 Fully Connected Layers Each Has ReLU Activation\n",
        "    self.hidden = [tf.keras.layers.Dense(n_neurons, activation='relu') for _ in range(n_layers)]\n",
        "    # Output Of Block Is A Theta Layer With Linear Activation\n",
        "    self.theta_layer = tf.keras.layers.Dense(theta_size, activation='linear', name='theta')\n",
        "\n",
        "  def call(self, inputs):\n",
        "    x = inputs\n",
        "    for layer in self.hidden:\n",
        "      x = layer(x)\n",
        "    theta = self.theta_layer(x)\n",
        "    # Output The Backcast And The Forecast From Theta\n",
        "    backcast, forecast = theta[:, :self.input_size], theta[:, -self.horizon:]\n",
        "    \n",
        "    return backcast, forecast"
      ]
    },
    {
      "cell_type": "code",
      "execution_count": null,
      "metadata": {
        "id": "_S9IXZCz-Kjc"
      },
      "outputs": [],
      "source": [
        "# Setting Up Dummy NBeatsBlock Layer To Represent Inputs And Outputs\n",
        "dummy_nbeats_block_layers = NBeatsBlock(input_size=WINDOW_SIZE,\n",
        "                                        theta_size=WINDOW_SIZE+HORIZON,\n",
        "                                        horizon=HORIZON,\n",
        "                                        n_neurons=128,\n",
        "                                        n_layers=4)"
      ]
    },
    {
      "cell_type": "code",
      "execution_count": null,
      "metadata": {
        "colab": {
          "base_uri": "https://localhost:8080/"
        },
        "id": "WHLj5Up6AkzC",
        "outputId": "46829e54-ac1f-4da8-fa07-9aea3928147f"
      },
      "outputs": [
        {
          "output_type": "execute_result",
          "data": {
            "text/plain": [
              "<tf.Tensor: shape=(1, 7), dtype=int32, numpy=array([[1, 2, 3, 4, 5, 6, 7]], dtype=int32)>"
            ]
          },
          "metadata": {},
          "execution_count": 103
        }
      ],
      "source": [
        "# Creating Dummy Inputs\n",
        "dummy_inputs = tf.expand_dims(tf.range(WINDOW_SIZE) + 1, axis=0)\n",
        "dummy_inputs"
      ]
    },
    {
      "cell_type": "code",
      "execution_count": null,
      "metadata": {
        "colab": {
          "base_uri": "https://localhost:8080/"
        },
        "id": "wePfa7FgBDOj",
        "outputId": "b5fb3a4a-0fc2-4435-a5b6-1b2e11343821"
      },
      "outputs": [
        {
          "output_type": "stream",
          "name": "stdout",
          "text": [
            "BACKCAST: [-0.46348718  0.10944453 -0.43355346  0.9360242  -0.35703537 -0.17927602\n",
            " -0.34048367]\n",
            "FORECAST: -0.4397902190685272\n"
          ]
        }
      ],
      "source": [
        "# Passing dummy_inputs To dummy NBeatsBlock Layer\n",
        "backcast, forecast = dummy_nbeats_block_layers(dummy_inputs)\n",
        "print(f'BACKCAST: {tf.squeeze(backcast.numpy())}')\n",
        "print(f'FORECAST: {tf.squeeze(forecast.numpy())}')"
      ]
    },
    {
      "cell_type": "markdown",
      "metadata": {
        "id": "Hd8LilKgBgdj"
      },
      "source": [
        "###PREPARING DATA FOR THE N-BEATS ALGORITHM USING tf.data"
      ]
    },
    {
      "cell_type": "code",
      "execution_count": null,
      "metadata": {
        "id": "a5LL7AgGCoxd"
      },
      "outputs": [],
      "source": [
        "HORIZON = 1\n",
        "WINDOW_SIZE = 7"
      ]
    },
    {
      "cell_type": "code",
      "execution_count": null,
      "metadata": {
        "colab": {
          "base_uri": "https://localhost:8080/",
          "height": 237
        },
        "id": "hz7n9NDhC-aw",
        "outputId": "31cd69c4-ad52-4dd4-e836-05496335c614"
      },
      "outputs": [
        {
          "output_type": "execute_result",
          "data": {
            "text/plain": [
              "                Price\n",
              "Date                 \n",
              "2013-10-01  123.65499\n",
              "2013-10-02  125.45500\n",
              "2013-10-03  108.58483\n",
              "2013-10-04  118.67466\n",
              "2013-10-05  121.33866"
            ],
            "text/html": [
              "\n",
              "  <div id=\"df-6ce778fd-1a8b-4485-a841-3204721e955f\">\n",
              "    <div class=\"colab-df-container\">\n",
              "      <div>\n",
              "<style scoped>\n",
              "    .dataframe tbody tr th:only-of-type {\n",
              "        vertical-align: middle;\n",
              "    }\n",
              "\n",
              "    .dataframe tbody tr th {\n",
              "        vertical-align: top;\n",
              "    }\n",
              "\n",
              "    .dataframe thead th {\n",
              "        text-align: right;\n",
              "    }\n",
              "</style>\n",
              "<table border=\"1\" class=\"dataframe\">\n",
              "  <thead>\n",
              "    <tr style=\"text-align: right;\">\n",
              "      <th></th>\n",
              "      <th>Price</th>\n",
              "    </tr>\n",
              "    <tr>\n",
              "      <th>Date</th>\n",
              "      <th></th>\n",
              "    </tr>\n",
              "  </thead>\n",
              "  <tbody>\n",
              "    <tr>\n",
              "      <th>2013-10-01</th>\n",
              "      <td>123.65499</td>\n",
              "    </tr>\n",
              "    <tr>\n",
              "      <th>2013-10-02</th>\n",
              "      <td>125.45500</td>\n",
              "    </tr>\n",
              "    <tr>\n",
              "      <th>2013-10-03</th>\n",
              "      <td>108.58483</td>\n",
              "    </tr>\n",
              "    <tr>\n",
              "      <th>2013-10-04</th>\n",
              "      <td>118.67466</td>\n",
              "    </tr>\n",
              "    <tr>\n",
              "      <th>2013-10-05</th>\n",
              "      <td>121.33866</td>\n",
              "    </tr>\n",
              "  </tbody>\n",
              "</table>\n",
              "</div>\n",
              "      <button class=\"colab-df-convert\" onclick=\"convertToInteractive('df-6ce778fd-1a8b-4485-a841-3204721e955f')\"\n",
              "              title=\"Convert this dataframe to an interactive table.\"\n",
              "              style=\"display:none;\">\n",
              "        \n",
              "  <svg xmlns=\"http://www.w3.org/2000/svg\" height=\"24px\"viewBox=\"0 0 24 24\"\n",
              "       width=\"24px\">\n",
              "    <path d=\"M0 0h24v24H0V0z\" fill=\"none\"/>\n",
              "    <path d=\"M18.56 5.44l.94 2.06.94-2.06 2.06-.94-2.06-.94-.94-2.06-.94 2.06-2.06.94zm-11 1L8.5 8.5l.94-2.06 2.06-.94-2.06-.94L8.5 2.5l-.94 2.06-2.06.94zm10 10l.94 2.06.94-2.06 2.06-.94-2.06-.94-.94-2.06-.94 2.06-2.06.94z\"/><path d=\"M17.41 7.96l-1.37-1.37c-.4-.4-.92-.59-1.43-.59-.52 0-1.04.2-1.43.59L10.3 9.45l-7.72 7.72c-.78.78-.78 2.05 0 2.83L4 21.41c.39.39.9.59 1.41.59.51 0 1.02-.2 1.41-.59l7.78-7.78 2.81-2.81c.8-.78.8-2.07 0-2.86zM5.41 20L4 18.59l7.72-7.72 1.47 1.35L5.41 20z\"/>\n",
              "  </svg>\n",
              "      </button>\n",
              "      \n",
              "  <style>\n",
              "    .colab-df-container {\n",
              "      display:flex;\n",
              "      flex-wrap:wrap;\n",
              "      gap: 12px;\n",
              "    }\n",
              "\n",
              "    .colab-df-convert {\n",
              "      background-color: #E8F0FE;\n",
              "      border: none;\n",
              "      border-radius: 50%;\n",
              "      cursor: pointer;\n",
              "      display: none;\n",
              "      fill: #1967D2;\n",
              "      height: 32px;\n",
              "      padding: 0 0 0 0;\n",
              "      width: 32px;\n",
              "    }\n",
              "\n",
              "    .colab-df-convert:hover {\n",
              "      background-color: #E2EBFA;\n",
              "      box-shadow: 0px 1px 2px rgba(60, 64, 67, 0.3), 0px 1px 3px 1px rgba(60, 64, 67, 0.15);\n",
              "      fill: #174EA6;\n",
              "    }\n",
              "\n",
              "    [theme=dark] .colab-df-convert {\n",
              "      background-color: #3B4455;\n",
              "      fill: #D2E3FC;\n",
              "    }\n",
              "\n",
              "    [theme=dark] .colab-df-convert:hover {\n",
              "      background-color: #434B5C;\n",
              "      box-shadow: 0px 1px 3px 1px rgba(0, 0, 0, 0.15);\n",
              "      filter: drop-shadow(0px 1px 2px rgba(0, 0, 0, 0.3));\n",
              "      fill: #FFFFFF;\n",
              "    }\n",
              "  </style>\n",
              "\n",
              "      <script>\n",
              "        const buttonEl =\n",
              "          document.querySelector('#df-6ce778fd-1a8b-4485-a841-3204721e955f button.colab-df-convert');\n",
              "        buttonEl.style.display =\n",
              "          google.colab.kernel.accessAllowed ? 'block' : 'none';\n",
              "\n",
              "        async function convertToInteractive(key) {\n",
              "          const element = document.querySelector('#df-6ce778fd-1a8b-4485-a841-3204721e955f');\n",
              "          const dataTable =\n",
              "            await google.colab.kernel.invokeFunction('convertToInteractive',\n",
              "                                                     [key], {});\n",
              "          if (!dataTable) return;\n",
              "\n",
              "          const docLinkHtml = 'Like what you see? Visit the ' +\n",
              "            '<a target=\"_blank\" href=https://colab.research.google.com/notebooks/data_table.ipynb>data table notebook</a>'\n",
              "            + ' to learn more about interactive tables.';\n",
              "          element.innerHTML = '';\n",
              "          dataTable['output_type'] = 'display_data';\n",
              "          await google.colab.output.renderOutput(dataTable, element);\n",
              "          const docLink = document.createElement('div');\n",
              "          docLink.innerHTML = docLinkHtml;\n",
              "          element.appendChild(docLink);\n",
              "        }\n",
              "      </script>\n",
              "    </div>\n",
              "  </div>\n",
              "  "
            ]
          },
          "metadata": {},
          "execution_count": 106
        }
      ],
      "source": [
        "# Creating N-BEATS Data Inputs (N-BEATS Works With Univariate Time Series)\n",
        "bitcoin_prices.head()"
      ]
    },
    {
      "cell_type": "code",
      "execution_count": null,
      "metadata": {
        "colab": {
          "base_uri": "https://localhost:8080/",
          "height": 388
        },
        "id": "VM59KaEODULN",
        "outputId": "f732893d-f138-41a9-d476-e492cd0f22d8"
      },
      "outputs": [
        {
          "output_type": "execute_result",
          "data": {
            "text/plain": [
              "                Price     Price1     Price2     Price3     Price4  Price5  \\\n",
              "Date                                                                        \n",
              "2013-10-01  123.65499        NaN        NaN        NaN        NaN     NaN   \n",
              "2013-10-02  125.45500  123.65499        NaN        NaN        NaN     NaN   \n",
              "2013-10-03  108.58483  125.45500  123.65499        NaN        NaN     NaN   \n",
              "2013-10-04  118.67466  108.58483  125.45500  123.65499        NaN     NaN   \n",
              "2013-10-05  121.33866  118.67466  108.58483  125.45500  123.65499     NaN   \n",
              "\n",
              "            Price6  Price7  \n",
              "Date                        \n",
              "2013-10-01     NaN     NaN  \n",
              "2013-10-02     NaN     NaN  \n",
              "2013-10-03     NaN     NaN  \n",
              "2013-10-04     NaN     NaN  \n",
              "2013-10-05     NaN     NaN  "
            ],
            "text/html": [
              "\n",
              "  <div id=\"df-904cccf2-319e-4990-bb39-d6d5284c6e16\">\n",
              "    <div class=\"colab-df-container\">\n",
              "      <div>\n",
              "<style scoped>\n",
              "    .dataframe tbody tr th:only-of-type {\n",
              "        vertical-align: middle;\n",
              "    }\n",
              "\n",
              "    .dataframe tbody tr th {\n",
              "        vertical-align: top;\n",
              "    }\n",
              "\n",
              "    .dataframe thead th {\n",
              "        text-align: right;\n",
              "    }\n",
              "</style>\n",
              "<table border=\"1\" class=\"dataframe\">\n",
              "  <thead>\n",
              "    <tr style=\"text-align: right;\">\n",
              "      <th></th>\n",
              "      <th>Price</th>\n",
              "      <th>Price1</th>\n",
              "      <th>Price2</th>\n",
              "      <th>Price3</th>\n",
              "      <th>Price4</th>\n",
              "      <th>Price5</th>\n",
              "      <th>Price6</th>\n",
              "      <th>Price7</th>\n",
              "    </tr>\n",
              "    <tr>\n",
              "      <th>Date</th>\n",
              "      <th></th>\n",
              "      <th></th>\n",
              "      <th></th>\n",
              "      <th></th>\n",
              "      <th></th>\n",
              "      <th></th>\n",
              "      <th></th>\n",
              "      <th></th>\n",
              "    </tr>\n",
              "  </thead>\n",
              "  <tbody>\n",
              "    <tr>\n",
              "      <th>2013-10-01</th>\n",
              "      <td>123.65499</td>\n",
              "      <td>NaN</td>\n",
              "      <td>NaN</td>\n",
              "      <td>NaN</td>\n",
              "      <td>NaN</td>\n",
              "      <td>NaN</td>\n",
              "      <td>NaN</td>\n",
              "      <td>NaN</td>\n",
              "    </tr>\n",
              "    <tr>\n",
              "      <th>2013-10-02</th>\n",
              "      <td>125.45500</td>\n",
              "      <td>123.65499</td>\n",
              "      <td>NaN</td>\n",
              "      <td>NaN</td>\n",
              "      <td>NaN</td>\n",
              "      <td>NaN</td>\n",
              "      <td>NaN</td>\n",
              "      <td>NaN</td>\n",
              "    </tr>\n",
              "    <tr>\n",
              "      <th>2013-10-03</th>\n",
              "      <td>108.58483</td>\n",
              "      <td>125.45500</td>\n",
              "      <td>123.65499</td>\n",
              "      <td>NaN</td>\n",
              "      <td>NaN</td>\n",
              "      <td>NaN</td>\n",
              "      <td>NaN</td>\n",
              "      <td>NaN</td>\n",
              "    </tr>\n",
              "    <tr>\n",
              "      <th>2013-10-04</th>\n",
              "      <td>118.67466</td>\n",
              "      <td>108.58483</td>\n",
              "      <td>125.45500</td>\n",
              "      <td>123.65499</td>\n",
              "      <td>NaN</td>\n",
              "      <td>NaN</td>\n",
              "      <td>NaN</td>\n",
              "      <td>NaN</td>\n",
              "    </tr>\n",
              "    <tr>\n",
              "      <th>2013-10-05</th>\n",
              "      <td>121.33866</td>\n",
              "      <td>118.67466</td>\n",
              "      <td>108.58483</td>\n",
              "      <td>125.45500</td>\n",
              "      <td>123.65499</td>\n",
              "      <td>NaN</td>\n",
              "      <td>NaN</td>\n",
              "      <td>NaN</td>\n",
              "    </tr>\n",
              "  </tbody>\n",
              "</table>\n",
              "</div>\n",
              "      <button class=\"colab-df-convert\" onclick=\"convertToInteractive('df-904cccf2-319e-4990-bb39-d6d5284c6e16')\"\n",
              "              title=\"Convert this dataframe to an interactive table.\"\n",
              "              style=\"display:none;\">\n",
              "        \n",
              "  <svg xmlns=\"http://www.w3.org/2000/svg\" height=\"24px\"viewBox=\"0 0 24 24\"\n",
              "       width=\"24px\">\n",
              "    <path d=\"M0 0h24v24H0V0z\" fill=\"none\"/>\n",
              "    <path d=\"M18.56 5.44l.94 2.06.94-2.06 2.06-.94-2.06-.94-.94-2.06-.94 2.06-2.06.94zm-11 1L8.5 8.5l.94-2.06 2.06-.94-2.06-.94L8.5 2.5l-.94 2.06-2.06.94zm10 10l.94 2.06.94-2.06 2.06-.94-2.06-.94-.94-2.06-.94 2.06-2.06.94z\"/><path d=\"M17.41 7.96l-1.37-1.37c-.4-.4-.92-.59-1.43-.59-.52 0-1.04.2-1.43.59L10.3 9.45l-7.72 7.72c-.78.78-.78 2.05 0 2.83L4 21.41c.39.39.9.59 1.41.59.51 0 1.02-.2 1.41-.59l7.78-7.78 2.81-2.81c.8-.78.8-2.07 0-2.86zM5.41 20L4 18.59l7.72-7.72 1.47 1.35L5.41 20z\"/>\n",
              "  </svg>\n",
              "      </button>\n",
              "      \n",
              "  <style>\n",
              "    .colab-df-container {\n",
              "      display:flex;\n",
              "      flex-wrap:wrap;\n",
              "      gap: 12px;\n",
              "    }\n",
              "\n",
              "    .colab-df-convert {\n",
              "      background-color: #E8F0FE;\n",
              "      border: none;\n",
              "      border-radius: 50%;\n",
              "      cursor: pointer;\n",
              "      display: none;\n",
              "      fill: #1967D2;\n",
              "      height: 32px;\n",
              "      padding: 0 0 0 0;\n",
              "      width: 32px;\n",
              "    }\n",
              "\n",
              "    .colab-df-convert:hover {\n",
              "      background-color: #E2EBFA;\n",
              "      box-shadow: 0px 1px 2px rgba(60, 64, 67, 0.3), 0px 1px 3px 1px rgba(60, 64, 67, 0.15);\n",
              "      fill: #174EA6;\n",
              "    }\n",
              "\n",
              "    [theme=dark] .colab-df-convert {\n",
              "      background-color: #3B4455;\n",
              "      fill: #D2E3FC;\n",
              "    }\n",
              "\n",
              "    [theme=dark] .colab-df-convert:hover {\n",
              "      background-color: #434B5C;\n",
              "      box-shadow: 0px 1px 3px 1px rgba(0, 0, 0, 0.15);\n",
              "      filter: drop-shadow(0px 1px 2px rgba(0, 0, 0, 0.3));\n",
              "      fill: #FFFFFF;\n",
              "    }\n",
              "  </style>\n",
              "\n",
              "      <script>\n",
              "        const buttonEl =\n",
              "          document.querySelector('#df-904cccf2-319e-4990-bb39-d6d5284c6e16 button.colab-df-convert');\n",
              "        buttonEl.style.display =\n",
              "          google.colab.kernel.accessAllowed ? 'block' : 'none';\n",
              "\n",
              "        async function convertToInteractive(key) {\n",
              "          const element = document.querySelector('#df-904cccf2-319e-4990-bb39-d6d5284c6e16');\n",
              "          const dataTable =\n",
              "            await google.colab.kernel.invokeFunction('convertToInteractive',\n",
              "                                                     [key], {});\n",
              "          if (!dataTable) return;\n",
              "\n",
              "          const docLinkHtml = 'Like what you see? Visit the ' +\n",
              "            '<a target=\"_blank\" href=https://colab.research.google.com/notebooks/data_table.ipynb>data table notebook</a>'\n",
              "            + ' to learn more about interactive tables.';\n",
              "          element.innerHTML = '';\n",
              "          dataTable['output_type'] = 'display_data';\n",
              "          await google.colab.output.renderOutput(dataTable, element);\n",
              "          const docLink = document.createElement('div');\n",
              "          docLink.innerHTML = docLinkHtml;\n",
              "          element.appendChild(docLink);\n",
              "        }\n",
              "      </script>\n",
              "    </div>\n",
              "  </div>\n",
              "  "
            ]
          },
          "metadata": {},
          "execution_count": 107
        }
      ],
      "source": [
        "# Adding Windowed Columns\n",
        "bitcoin_prices_nbeats = bitcoin_prices.copy()\n",
        "for i in range(WINDOW_SIZE):\n",
        "  bitcoin_prices_nbeats[f'Price{i+1}'] = bitcoin_prices_nbeats['Price'].shift(periods=i+1)\n",
        "\n",
        "bitcoin_prices_nbeats.head()"
      ]
    },
    {
      "cell_type": "code",
      "execution_count": null,
      "metadata": {
        "id": "kZPEIUJ2EAr3",
        "colab": {
          "base_uri": "https://localhost:8080/"
        },
        "outputId": "cce35472-56e6-4edf-b73c-9379c80ce913"
      },
      "outputs": [
        {
          "output_type": "execute_result",
          "data": {
            "text/plain": [
              "(2224, 2224, 556, 556)"
            ]
          },
          "metadata": {},
          "execution_count": 108
        }
      ],
      "source": [
        "# Making Features And Labels\n",
        "X = bitcoin_prices_nbeats.dropna().drop('Price', axis=1)\n",
        "y = bitcoin_prices_nbeats.dropna()['Price']\n",
        "\n",
        "# Make Train And Test Sets\n",
        "split_size = int(len(X) * 0.8)\n",
        "\n",
        "X_train, y_train = X[:split_size], y[:split_size]\n",
        "X_test, y_test = X[split_size:], y[split_size:]\n",
        "\n",
        "len(X_train), len(y_train), len(X_test), len(y_test)"
      ]
    },
    {
      "cell_type": "code",
      "execution_count": null,
      "metadata": {
        "id": "ShfXOljwFA8D",
        "colab": {
          "base_uri": "https://localhost:8080/"
        },
        "outputId": "479cfcae-bba2-4f89-e37d-b64f2caf8658"
      },
      "outputs": [
        {
          "output_type": "execute_result",
          "data": {
            "text/plain": [
              "(<PrefetchDataset element_spec=(TensorSpec(shape=(None, 7), dtype=tf.float64, name=None), TensorSpec(shape=(None,), dtype=tf.float64, name=None))>,\n",
              " <PrefetchDataset element_spec=(TensorSpec(shape=(None, 7), dtype=tf.float64, name=None), TensorSpec(shape=(None,), dtype=tf.float64, name=None))>)"
            ]
          },
          "metadata": {},
          "execution_count": 109
        }
      ],
      "source": [
        "# Making Our Dataset Performant Using tf.data API\n",
        "train_features_dataset = tf.data.Dataset.from_tensor_slices(X_train)\n",
        "train_labels_dataset = tf.data.Dataset.from_tensor_slices(y_train)\n",
        "\n",
        "test_features_dataset = tf.data.Dataset.from_tensor_slices(X_test)\n",
        "test_labels_dataset = tf.data.Dataset.from_tensor_slices(y_test)\n",
        "\n",
        "# Combining Labels And Features By Zipping Together -> (features, labels)\n",
        "train_dataset = tf.data.Dataset.zip((train_features_dataset, train_labels_dataset))\n",
        "test_dataset = tf.data.Dataset.zip((test_features_dataset, test_labels_dataset))\n",
        "\n",
        "# Batch And Prefetch\n",
        "BATCH_SIZE = 1024\n",
        "train_dataset = train_dataset.batch(BATCH_SIZE).prefetch(tf.data.AUTOTUNE)\n",
        "test_dataset = test_dataset.batch(BATCH_SIZE).prefetch(tf.data.AUTOTUNE)\n",
        "\n",
        "train_dataset, test_dataset"
      ]
    },
    {
      "cell_type": "markdown",
      "metadata": {
        "id": "eP6wnDDAHaSd"
      },
      "source": [
        "###SETTING UP HYPERPARAMETERS FOR N-BEATS ALGORITHM"
      ]
    },
    {
      "cell_type": "code",
      "execution_count": null,
      "metadata": {
        "id": "Gu6taHaBJSdj",
        "colab": {
          "base_uri": "https://localhost:8080/"
        },
        "outputId": "64e9fb64-e6d8-48ec-9516-2e813ff73e0e"
      },
      "outputs": [
        {
          "output_type": "execute_result",
          "data": {
            "text/plain": [
              "(7, 8)"
            ]
          },
          "metadata": {},
          "execution_count": 110
        }
      ],
      "source": [
        "# Values From N-BEATS Paper\n",
        "N_EPOCHS = 5000\n",
        "N_NEURONS = 512\n",
        "N_LAYERS = 4\n",
        "N_STACKS = 30\n",
        "\n",
        "INPUT_SIZE = WINDOW_SIZE * HORIZON\n",
        "THETA_SIZE = INPUT_SIZE +  HORIZON\n",
        "\n",
        "INPUT_SIZE, THETA_SIZE"
      ]
    },
    {
      "cell_type": "markdown",
      "metadata": {
        "id": "torKnnG_LqZ_"
      },
      "source": [
        "###GETTING READY FOR RESIDUAL CONNECTIONS"
      ]
    },
    {
      "cell_type": "code",
      "execution_count": null,
      "metadata": {
        "id": "4byHagvkMIHL",
        "colab": {
          "base_uri": "https://localhost:8080/"
        },
        "outputId": "37c729f4-16ac-4ee2-f9bc-929f85232313"
      },
      "outputs": [
        {
          "output_type": "execute_result",
          "data": {
            "text/plain": [
              "(<tf.Tensor: shape=(10,), dtype=int32, numpy=array([10, 11, 12, 13, 14, 15, 16, 17, 18, 19], dtype=int32)>,\n",
              " <tf.Tensor: shape=(10,), dtype=int32, numpy=array([0, 1, 2, 3, 4, 5, 6, 7, 8, 9], dtype=int32)>)"
            ]
          },
          "metadata": {},
          "execution_count": 111
        }
      ],
      "source": [
        "# Making Tensors\n",
        "tensor_1 = tf.range(10) + 10\n",
        "tensor_2 = tf.range(10)\n",
        "tensor_1, tensor_2"
      ]
    },
    {
      "cell_type": "code",
      "execution_count": null,
      "metadata": {
        "id": "g4Cq-OdlOCyb",
        "colab": {
          "base_uri": "https://localhost:8080/"
        },
        "outputId": "a6e1f23b-6b7c-44c4-b1a8-6ca1c05014f0"
      },
      "outputs": [
        {
          "output_type": "stream",
          "name": "stdout",
          "text": [
            "INPUT TENSORS: [10 11 12 13 14 15 16 17 18 19] & [0 1 2 3 4 5 6 7 8 9]\n",
            "SUBTRACTED TENSORS: [10 10 10 10 10 10 10 10 10 10]\n",
            "ADDED TENSORS: [10 12 14 16 18 20 22 24 26 28]\n"
          ]
        }
      ],
      "source": [
        "# Subtract\n",
        "subtracted = layers.subtract([tensor_1, tensor_2])\n",
        "\n",
        "# Adding\n",
        "added = layers.add([tensor_1, tensor_2])\n",
        "\n",
        "# Getting Outputs\n",
        "print(f'INPUT TENSORS: {tensor_1.numpy()} & {tensor_2.numpy()}')\n",
        "print(f'SUBTRACTED TENSORS: {subtracted.numpy()}')\n",
        "print(f'ADDED TENSORS: {added.numpy()}')"
      ]
    },
    {
      "cell_type": "markdown",
      "metadata": {
        "id": "VfywoNIIO5UE"
      },
      "source": [
        "###BUILDING, COMPILING AND FITTING THE N-BEATS ALGORITHM"
      ]
    },
    {
      "cell_type": "code",
      "execution_count": null,
      "metadata": {
        "id": "pfr4odZWPsN0"
      },
      "outputs": [],
      "source": [
        "tf.random.set_seed(42)\n",
        "\n",
        "# 1. Setting Up An instance Of NBeatsBlock\n",
        "nbeats_block_layer = NBeatsBlock(input_size=INPUT_SIZE,\n",
        "                                 theta_size=THETA_SIZE,\n",
        "                                 horizon=HORIZON,\n",
        "                                 n_neurons=N_NEURONS,\n",
        "                                 n_layers=N_LAYERS,\n",
        "                                 name='InitialBlock')\n",
        "\n",
        "# 2. Creating Input To Stack\n",
        "stack_input = layers.Input(shape=(INPUT_SIZE), name='stack_input')\n",
        "\n",
        "# 3. Creating Initial Backcast And Forecast Input (Backwards Prediction + Horizon Prediction)\n",
        "residuals, forecast = nbeats_block_layer(stack_input)\n",
        "\n",
        "# 4. Creating Stacks Of Block Layers\n",
        "for i, _ in enumerate(range(N_STACKS-1)):\n",
        "  \n",
        "  # 5. Using The NBeatsBlock To Calculate The Backcast As Well As the Forecast\n",
        "  backcast, block_forecast = NBeatsBlock(\n",
        "      input_size=INPUT_SIZE,\n",
        "      theta_size=THETA_SIZE,\n",
        "      horizon=HORIZON,\n",
        "      n_neurons=N_NEURONS,\n",
        "      n_layers=N_LAYERS,\n",
        "      name=f'NBeatsBlock_{i}'\n",
        "  )(residuals)\n",
        "\n",
        "  # 6. Creating The Double Residual Stacking\n",
        "  residuals = layers.subtract([residuals, backcast], name=f'subtract_{i}')\n",
        "  forecast = layers.add([forecast, block_forecast], name=f'add_{i}')\n",
        "\n",
        "# 7. Putting The Stack Model Together\n",
        "model_7 = tf.keras.Model(inputs=stack_input, outputs=forecast, name='model_7_NBEATS')\n",
        "\n",
        "# 8. Compiling Model With MAE Loss\n",
        "model_7.compile(loss='mae',\n",
        "                optimizer=tf.keras.optimizers.Adam())\n",
        "\n",
        "# 9. Fitting The Model With EarlyStopping And ReduceLROnPlateau Callbacks\n",
        "model_7.fit(train_dataset,\n",
        "            epochs=N_EPOCHS,\n",
        "            validation_data=test_dataset,\n",
        "            verbose=0,\n",
        "            callbacks=[tf.keras.callbacks.EarlyStopping(monitor='val_loss',\n",
        "                                                        patience=200,\n",
        "                                                        restore_best_weights=True),\n",
        "                       tf.keras.callbacks.ReduceLROnPlateau(monitor='val_loss',\n",
        "                                                            patience=100,\n",
        "                                                            verbose=1)])"
      ]
    },
    {
      "cell_type": "code",
      "execution_count": null,
      "metadata": {
        "id": "CcXgofRUZ7wK"
      },
      "outputs": [],
      "source": [
        "# Evaluation N_beats Model On The Test Dataset\n",
        "model_7.evaluate(test_dataset)"
      ]
    },
    {
      "cell_type": "code",
      "execution_count": null,
      "metadata": {
        "id": "QorGURFjaTkS"
      },
      "outputs": [],
      "source": [
        "# Make Predictions With N_BEATS Model\n",
        "model_7_preds = make_preds(model_7, test_dataset)\n",
        "model_7_preds[:10]"
      ]
    },
    {
      "cell_type": "code",
      "execution_count": null,
      "metadata": {
        "id": "D00iR7BHajB0"
      },
      "outputs": [],
      "source": [
        "# Evaluating Predictions To Get Eval Metrics\n",
        "model_7_results = evaluate_preds(y_true=y_test,\n",
        "                                 y_pred=model_7_preds)\n",
        "model_7_results"
      ]
    },
    {
      "cell_type": "code",
      "execution_count": null,
      "metadata": {
        "id": "2TqHnoEEasdg"
      },
      "outputs": [],
      "source": [
        "model_1_results"
      ]
    },
    {
      "cell_type": "code",
      "execution_count": null,
      "metadata": {
        "id": "Yg1b7tlUbaDJ"
      },
      "outputs": [],
      "source": [
        "naive_results"
      ]
    },
    {
      "cell_type": "markdown",
      "metadata": {
        "id": "JWBn3QLJbcJD"
      },
      "source": [
        "###PLOTTING THE N-BEATS ARCHITECTURE WE'VE CREATED"
      ]
    },
    {
      "cell_type": "code",
      "execution_count": null,
      "metadata": {
        "id": "lLUr4yRJb4aL"
      },
      "outputs": [],
      "source": [
        "# Plotting The N-Beats Model And Inspecting The Architecture\n",
        "from tensorflow.keras.utils import plot_model\n",
        "plot_model(model_7)"
      ]
    },
    {
      "cell_type": "markdown",
      "metadata": {
        "id": "zJmGZPIYcLqX"
      },
      "source": [
        "##MODEL 8 : CREATING AN ENSEMBLE (STACKING DIFFERENT MODELS TOGETHER)"
      ]
    },
    {
      "cell_type": "code",
      "execution_count": null,
      "metadata": {
        "id": "MR2cBoxuLz2H"
      },
      "outputs": [],
      "source": [
        "HORIZON, WINDOW_SIZE"
      ]
    },
    {
      "cell_type": "markdown",
      "metadata": {
        "id": "Dg34Fsa2MN0q"
      },
      "source": [
        "###CONSTRUCTING AND FITTING AND ENSEMBLE OF MODELS (USING DIFFERENT LOSS FUNCTIONS)"
      ]
    },
    {
      "cell_type": "code",
      "execution_count": null,
      "metadata": {
        "id": "YtYTKVtoMcVz"
      },
      "outputs": [],
      "source": [
        "def get_ensemble_models(horizon=HORIZON,\n",
        "                        train_data=train_dataset,\n",
        "                        test_data=test_dataset,\n",
        "                        num_iter=10,\n",
        "                        num_epochs=1000,\n",
        "                        loss_fns=['mae', 'mse', 'mape']):\n",
        "  \"\"\"\n",
        "  Reuturns A List Of num_iter Models Each Trained On MAE, MSE And MAPE Loss\n",
        "  \"\"\"\n",
        "  # Making An Empty List For Trained Ensemble Models\n",
        "  ensemble_models = []\n",
        "\n",
        "  # Creating num_iter Number Of Models Per Loss Function\n",
        "  for i in range(num_iter):\n",
        "    # Building And Fitting A New Model With A Different Loss Function\n",
        "    for loss_function in loss_fns:\n",
        "      print(f'Optimizing Model By Reducing: {loss_function} for {num_epochs} epochs, model_number: {i}')\n",
        "\n",
        "      # Constructing A Simple Model (Similar To model_1)\n",
        "      model = tf.keras.Sequential([\n",
        "          layers.Dense(128, kernel_initializer='he_normal', activation='relu'),\n",
        "          layers.Dense(128, kernel_initializer='he_normal', activation='relu'),\n",
        "          layers.Dense(HORIZON)\n",
        "      ])\n",
        "\n",
        "      # Compiling A Simple Model With Curent Loss Function\n",
        "      model.compile(loss=loss_function,\n",
        "                    optimizer=tf.keras.optimizers.Adam(),\n",
        "                    metrics=['mae', 'mse'])\n",
        "      \n",
        "      # Fitting The Model\n",
        "      model.fit(train_data,\n",
        "                epochs=num_epochs,\n",
        "                verbose=0,\n",
        "                validation_data=test_data,\n",
        "                callbacks=[tf.keras.callbacks.EarlyStopping(monitor='val_loss',\n",
        "                                                            patience=200,\n",
        "                                                            restore_best_weights=True),\n",
        "                           tf.keras.callbacks.ReduceLROnPlateau(monitor='val_loss',\n",
        "                                                                patience=100,\n",
        "                                                                verbose=1)])\n",
        "      # Appending Fitted Model To List Of Ensemble Models\n",
        "      ensemble_models.append(model)\n",
        "  \n",
        "  return ensemble_models"
      ]
    },
    {
      "cell_type": "code",
      "execution_count": null,
      "metadata": {
        "id": "KAJ3ws6eRgs2"
      },
      "outputs": [],
      "source": [
        "# Getting List Of Trained Ensemble Models\n",
        "ensemble_models = get_ensemble_models(num_iter=5,\n",
        "                                      num_epochs=1000)"
      ]
    },
    {
      "cell_type": "markdown",
      "metadata": {
        "id": "ecQJkQGaTPwE"
      },
      "source": [
        "###MAKING PREDICTIONS WITH OUR ENSEMBLE METHOD"
      ]
    },
    {
      "cell_type": "code",
      "execution_count": null,
      "metadata": {
        "id": "Ug_OtQoxT1Cb"
      },
      "outputs": [],
      "source": [
        "# Creating A Function Which Uses A List Of Trained Models To Make And Return A List Of Predictions\n",
        "def make_ensemble_preds(ensemble_models):\n",
        "  ensemble_preds = []\n",
        "  for model in ensemble_models:\n",
        "    preds = model.predict(data)\n",
        "    ensemble_preds.append(preds)\n",
        "\n",
        "  return tf.constant(tf.squeeze(ensemble_preds))"
      ]
    },
    {
      "cell_type": "code",
      "execution_count": null,
      "metadata": {
        "id": "1R4nf98PVGsr"
      },
      "outputs": [],
      "source": [
        "# Creating A List Of Ensemble Predictions\n",
        "ensemble_preds = make_ensemble_preds(ensemble_models=ensemble_models,\n",
        "                                     data=test_dataset)\n",
        "ensemble_preds"
      ]
    },
    {
      "cell_type": "code",
      "execution_count": null,
      "metadata": {
        "id": "KprhexMyWo8o"
      },
      "outputs": [],
      "source": [
        "ensemble_mean = tf.reduce_mean(ensemble_preds, axis=0)\n",
        "ensemble_mean[:10]"
      ]
    },
    {
      "cell_type": "code",
      "execution_count": null,
      "metadata": {
        "id": "fhNIXC3SXDVF"
      },
      "outputs": [],
      "source": [
        "ensemble_median = np.median(ensemble_preds, axis=0)\n",
        "ensemble_median[:10]"
      ]
    },
    {
      "cell_type": "code",
      "execution_count": null,
      "metadata": {
        "id": "mn1ybfc0Vz1S"
      },
      "outputs": [],
      "source": [
        "# Evaluating Ensemble Model Predictions\n",
        "ensemble_results = evaluate_preds(y_true=y_test,\n",
        "                                  y_pred=ensemble_mean)\n",
        "ensemble_results"
      ]
    },
    {
      "cell_type": "code",
      "execution_count": null,
      "metadata": {
        "id": "9Y_av6KOXZwk"
      },
      "outputs": [],
      "source": [
        "ensemble_results = evaluate_preds(y_true=y_test,\n",
        "                                  y_pred=ensemble_median)\n",
        "ensemble_results"
      ]
    },
    {
      "cell_type": "markdown",
      "source": [
        "###PLOTTING THE PREDICTION INTERVALS OF OUR ENSEMBLE"
      ],
      "metadata": {
        "id": "PuYCO424XtDo"
      }
    },
    {
      "cell_type": "code",
      "source": [
        "# Finding The Upper And Lower Bounds Of Ensemble Predictions\n",
        "def get_upper_lower(preds):\n",
        "\n",
        "\n",
        "  # 2. Measuring the Standard Deviation Of The Predictions\n",
        "  std = tf.math.reduce_std(preds, axis=0)\n",
        "\n",
        "  # 3. Mulyiplying The Standard Deviation By 1.96\n",
        "  interval = 1.96 * std\n",
        "\n",
        "  # 4. Getting The Prediction Interval Upper And Lower Bounds\n",
        "  preds_mean = tf.reduce_mean(preds, axis=0)\n",
        "  lower, upper = preds_mean - interval, preds_mean + interval\n",
        "\n",
        "  return upper, lower"
      ],
      "metadata": {
        "id": "kA4A2-_XYgxr"
      },
      "execution_count": null,
      "outputs": []
    },
    {
      "cell_type": "code",
      "source": [
        "# Getting The Upper And Lower Bounds Of The 95% Prediction Interval\n",
        "lower, upper = get_upper_lower(preds=ensemble_preds)\n",
        "lower, upper"
      ],
      "metadata": {
        "id": "WAarBU0YcAJv"
      },
      "execution_count": null,
      "outputs": []
    },
    {
      "cell_type": "code",
      "source": [
        "# Getting The Median/Mean\n",
        "ensemble_median = np.median(ensemble_preds, axis=0)\n",
        "\n",
        "# Plotting The Median Of Our Ensemble preds Along With The Prediction Intervals\n",
        "offset = 500\n",
        "plt.figure(figsize=(10, 7))\n",
        "plt.plot(X_test.index[offset:], y_test[offset:], 'g', label='Test Data')\n",
        "plt.plot(X_test.index[offset:], ensemble_median[offset:], 'k-', label='Ensemble Median')\n",
        "plt.xlabel('Date')\n",
        "plt.ylabel('BTC Price')\n",
        "\n",
        "# Plotting The Upper And Lower Bounds\n",
        "plt.fill_between(X_test.index[offset:],\n",
        "                 (lower)[offset:],\n",
        "                 (upper)[offset:], label='Prediction Intervals')\n",
        "plt.legend(loc='upper left', fontsize=14)"
      ],
      "metadata": {
        "id": "lS5HMaC1cny_"
      },
      "execution_count": null,
      "outputs": []
    },
    {
      "cell_type": "markdown",
      "source": [
        "##MODEL 9 : FUTURE PREDICTION MODEL"
      ],
      "metadata": {
        "id": "_lujqwhxgMnh"
      }
    },
    {
      "cell_type": "code",
      "source": [
        "HORIZON = 1\n",
        "WINDOW_SIZE = 7"
      ],
      "metadata": {
        "id": "CgMK9gdwkEZM"
      },
      "execution_count": null,
      "outputs": []
    },
    {
      "cell_type": "code",
      "source": [
        "# Training Model On Entire Data To Make Predictions For The Next Day\n",
        "X_all = bitcoin_prices_windowed.dropna().drop(['Price', 'block_reward'], axis=1).numpy()\n",
        "y_all = bitcoin_prices_windowed.dropna()['Price'].to_numpy()\n",
        "len(X_all), len(y_all)"
      ],
      "metadata": {
        "id": "9J_aY1AgkLO_"
      },
      "execution_count": null,
      "outputs": []
    },
    {
      "cell_type": "code",
      "source": [
        "X_all[:5], y_all[:5]"
      ],
      "metadata": {
        "id": "peOR7Xbwktq1"
      },
      "execution_count": null,
      "outputs": []
    },
    {
      "cell_type": "code",
      "source": [
        "# Turning Data Into Efficient Running Tensors\n",
        "features_dataset_all = tf.data.Dataset.from_tesnor_slices(X_all)\n",
        "labels_dataset_all = tf.data.Dataset.from_tesnor_slices(y_all)\n",
        "\n",
        "# Combining features And labels\n",
        "dataset_all = tf.data.Dataset.zip((features_dataset_all, labels_dataset_all))\n",
        "\n",
        "# Batching And Prefetching For Optimal Performance\n",
        "BATCH_SIZE = 1024\n",
        "dataset_all = dataset_all.batch(BATCH_SIZE).prefetch(tf.data.AUTOTUNE)\n",
        "\n",
        "dataset_all"
      ],
      "metadata": {
        "id": "yn0hBXDGk6VB"
      },
      "execution_count": null,
      "outputs": []
    },
    {
      "cell_type": "code",
      "source": [
        "tf.random.set_seed(42)\n",
        "\n",
        "model_9 = tf.keras.Sequential([\n",
        "    layers.Dense(128, activation='relu'),\n",
        "    layers.Dense(128, activation='relu'),\n",
        "    layers.Dense(HORIZON)\n",
        "], name='model_9_future_model')\n",
        "\n",
        "model_9.compile(loss='mae',\n",
        "                optimizer=tf.keras.optimizers.Adam())\n",
        "\n",
        "model_9.fit(dataset_all,\n",
        "            epochs=100,\n",
        "            verbose=0)"
      ],
      "metadata": {
        "id": "QU2gyKWglnr_"
      },
      "execution_count": null,
      "outputs": []
    },
    {
      "cell_type": "markdown",
      "source": [
        "###MAKING PREDITIONS INTO FUTURE"
      ],
      "metadata": {
        "id": "kgPATsikmpq2"
      }
    },
    {
      "cell_type": "code",
      "source": [
        "INTO_FUTURE = 14"
      ],
      "metadata": {
        "id": "2NIuGcuun3uw"
      },
      "execution_count": null,
      "outputs": []
    },
    {
      "cell_type": "code",
      "source": [
        "# 1. Creating Function To Make Predictions Into The Future\n",
        "def make_future_forecasts(values, model, into_future, window_size=WINDOW_SIZE) -> list:\n",
        "  \"\"\"\n",
        "  Make Future Forecasts into_future Steps After Values Ends.\n",
        "\n",
        "  Returns Future Forecasts As A list Of Floats.\n",
        "  \"\"\"\n",
        "  # 2. Creating An Empty List For Future Forecasts/Prepare Data To Forecast On\n",
        "  future_forecast = []\n",
        "  last_window = values[-WINDOW_SIZE:]\n",
        "\n",
        "  # 3. Making INTO_FUTURE Number Of Predictions, Altering The Data Which Gets Predicted On Each\n",
        "  for _ in range(INTO_FUTURE):\n",
        "    # Predicts On The Last Window Then Appends It Again And Again\n",
        "    future_pred = model.predict(tf.expand_dims(last_window, axis=0))\n",
        "    print(f'PREDICTING ON:\\n {last_window} -> PREDICTION: {tf.squeeze(future_pred).numpy()}\\n')\n",
        "\n",
        "    # Appending Predictions To future_forecast\n",
        "    future_forecast.append(tf.squeeze(future_pred).numpy()) \n",
        "\n",
        "    # Updating Last Window With New pred And Getting WINDOW_SIZE Most Recent Preds\n",
        "    last_window = np.append(last_window, future_pred)[-WINDOW_SIZE:]\n",
        "\n",
        "    return future_forecast"
      ],
      "metadata": {
        "id": "NnLqj_yvoS9J"
      },
      "execution_count": null,
      "outputs": []
    },
    {
      "cell_type": "code",
      "source": [
        "# Making Forecasts Into The Future\n",
        "future_forecasts = make_future_forecasts(values=y_all,\n",
        "                                         model=model_9,\n",
        "                                         into_future=INTO_FUTURE,\n",
        "                                         window_size=WINDOW_SIZE)"
      ],
      "metadata": {
        "id": "n2Kcy8NKrmXy"
      },
      "execution_count": null,
      "outputs": []
    },
    {
      "cell_type": "markdown",
      "source": [
        "###PLOTTING FUTURE FORECASTS"
      ],
      "metadata": {
        "id": "L3ZDgh3isAqK"
      }
    },
    {
      "cell_type": "code",
      "source": [
        "def get_future_dates(start_date, into_future, offset=1):\n",
        "  \"\"\"\n",
        "  Returns Array Of datetime Values ranging From start_date To start_date+into_future\n",
        "  \"\"\"\n",
        "  start_date = start_date + np.timedelta64(offset, 'D')\n",
        "  end_date = start_date + np.timedelta64(into_future, 'D')\n",
        "\n",
        "  return np.arange(start_date, end_date, dtype='datetime64[D]')"
      ],
      "metadata": {
        "id": "y8qV5zgBsYdf"
      },
      "execution_count": null,
      "outputs": []
    },
    {
      "cell_type": "code",
      "source": [
        "# Last timestep Of timesteps\n",
        "last_timestep = bitcoin_prices.indes[-1]\n",
        "last_timestep"
      ],
      "metadata": {
        "id": "uodJ4TZStk21"
      },
      "execution_count": null,
      "outputs": []
    },
    {
      "cell_type": "code",
      "source": [
        "# Getting Next Two Week Of timesteps\n",
        "next_time_steps = get_future_dates(start_date=last_timestep,\n",
        "                                   into_future=INTO_FUTURE)\n",
        "next_time_steps"
      ],
      "metadata": {
        "id": "NFvsXYEdtxEt"
      },
      "execution_count": null,
      "outputs": []
    },
    {
      "cell_type": "code",
      "source": [
        "# Inserting Last timestep/final price Into next time Steps And Future Forecasts So\n",
        "next_time_steps = np.insert(next_time_steps, 0, last_timestep)\n",
        "future_forecast = np.insert(future_forecast, 0, btc_price[-1])\n",
        "next_time_steps, future_forecast"
      ],
      "metadata": {
        "id": "yRm9iy_mvAfo"
      },
      "execution_count": null,
      "outputs": []
    },
    {
      "cell_type": "code",
      "source": [
        "# Plotting Future Prices Predictions Of Bitcoin\n",
        "plt.figure(figsize=(10, 7))\n",
        "plot_time_series(bitcoin_prices.index,\n",
        "                 btc_price,\n",
        "                 start=2500,\n",
        "                 format='-',\n",
        "                 label='Actual BTC Price')\n",
        "plot_time_series(next_time_steps,\n",
        "                 future_forecast,\n",
        "                 format='-',\n",
        "                 label='Predicted BTC Price')"
      ],
      "metadata": {
        "id": "lY68EHkcuQFB"
      },
      "execution_count": null,
      "outputs": []
    },
    {
      "cell_type": "markdown",
      "source": [
        "##MODEL 10 : THE TURKEY PROBLEM"
      ],
      "metadata": {
        "id": "gcIucnKyu668"
      }
    },
    {
      "cell_type": "code",
      "source": [
        "# Introducing The Turkey Problem To BTC Data\n",
        "btc_price_turkey = btc_price.copy()\n",
        "btc_price_turkey[-1] = btc_price_turkey[-1] / 100"
      ],
      "metadata": {
        "id": "Xur40p9ZxIoc"
      },
      "execution_count": null,
      "outputs": []
    },
    {
      "cell_type": "code",
      "source": [
        "btc_price_turkey[-10:]"
      ],
      "metadata": {
        "id": "R8DTVEJjxtkq"
      },
      "execution_count": null,
      "outputs": []
    },
    {
      "cell_type": "code",
      "source": [
        "# Getting The Timesteps For The Turkey Problem\n",
        "btc_timesteps_turkey = np.array(bitcoin_prices.index)\n",
        "btc_timesteps_turkey[-:10]"
      ],
      "metadata": {
        "id": "Ojb6wDesx3kh"
      },
      "execution_count": null,
      "outputs": []
    },
    {
      "cell_type": "code",
      "source": [
        "plt.figure(figsize=(10, 7))\n",
        "plot_time_series(timesteps=btc_timesteps_turkey,\n",
        "                 values=btc_price_turkey,\n",
        "                 start=2500,\n",
        "                 format='-',\n",
        "                 label='BTC Price + Turkey Problem')"
      ],
      "metadata": {
        "id": "SIlJkrPnyFTo"
      },
      "execution_count": null,
      "outputs": []
    },
    {
      "cell_type": "code",
      "source": [
        "# Creating train And test Sets\n",
        "full_windows, full_labels = make_windows(np.array(btc_price_turkey), window_size=WINDOW_SIZE, horizon=HORIZON)\n",
        "X_train, X_test, y_train, y_test = make_train_test_splits(full_windows, full_labels)\n",
        "len(X_train), len(X_test), len(y_train), len(y_test)"
      ],
      "metadata": {
        "id": "kmDvSVMKyoAT"
      },
      "execution_count": null,
      "outputs": []
    },
    {
      "cell_type": "markdown",
      "source": [
        "###BUILDING A TURKEY MODEL"
      ],
      "metadata": {
        "id": "dDIVVRKOzSl_"
      }
    },
    {
      "cell_type": "code",
      "source": [
        "# Cloning Model 1\n",
        "turkey_model = tf.keras.models.clone_model(model_1)\n",
        "turkey_model._name = 'model_10_turkey_model'\n",
        "\n",
        "turkey_model.compile(loss='mae',\n",
        "                     optimizer=tf.keras.optimizers.Adam())\n",
        "\n",
        "turkey_model.fit(X_train, y_train,\n",
        "                 epochs=100,\n",
        "                 verbose=0,\n",
        "                 batch_size=128,\n",
        "                 validation_data=(X_test, y_test),\n",
        "                 callbacks=[create_model_checkpoint(turkey_model.name)])"
      ],
      "metadata": {
        "id": "DJNVPGc6zjGm"
      },
      "execution_count": null,
      "outputs": []
    },
    {
      "cell_type": "code",
      "source": [
        "# Evaluating The Turkey Model\n",
        "turkey_model.evaluate(X_test, y_test)"
      ],
      "metadata": {
        "id": "HRFKLkrF0bOs"
      },
      "execution_count": null,
      "outputs": []
    },
    {
      "cell_type": "code",
      "source": [
        "turkey_model = tf.keras.load_model('')\n",
        "turkey_model.evaluate(X_test, y_test)"
      ],
      "metadata": {
        "id": "ZDJp6Mov0kbO"
      },
      "execution_count": null,
      "outputs": []
    },
    {
      "cell_type": "code",
      "source": [
        "# Making Predictions\n",
        "turkey_preds = make_preds(turkey_model, X_test)\n",
        "turkey_preds[:10]"
      ],
      "metadata": {
        "id": "dibaRC5a0uBU"
      },
      "execution_count": null,
      "outputs": []
    },
    {
      "cell_type": "code",
      "source": [
        "# Evaluating turkey preds\n",
        "turkey_results = evaluate_preds(y_true=y_test,\n",
        "                                y_pred=turkey_preds)\n",
        "turkey_results"
      ],
      "metadata": {
        "id": "sNHny0nP09ig"
      },
      "execution_count": null,
      "outputs": []
    },
    {
      "cell_type": "code",
      "source": [
        "plt.figure(figsize=(10, 7))\n",
        "offset = 300\n",
        "plot_time_series(timesteps=btc_timesteps_turkey[-len(X_test):],\n",
        "                 values=btc_price_turkey[-len(y_test):],\n",
        "                 start=offset,\n",
        "                 format='-',\n",
        "                 label='Turkey Test Data')\n",
        "\n",
        "plot_time_series(timesteps=btc_timesteps_turkey[-len(X_test):],\n",
        "                 values=turkey_preds,\n",
        "                 start=2500,\n",
        "                 format='-',\n",
        "                 label='Actual BTC Price')"
      ],
      "metadata": {
        "id": "OE_YVH9n1KFI"
      },
      "execution_count": null,
      "outputs": []
    },
    {
      "cell_type": "markdown",
      "source": [
        "##COMPARING MODELS"
      ],
      "metadata": {
        "id": "9iELCTEw5gjz"
      }
    },
    {
      "cell_type": "code",
      "source": [
        "# Comparing Different Model Results (w = window, h = horizon)\n",
        "model_results = pd.DataFrame({'NAIVE_MODEL': naive_results,\n",
        "                              'MODEL_1_DENSE_W7_H1': model_1_results,\n",
        "                              'MODEL_2_DENSE_W30_H1': model_2_results,\n",
        "                              'MODEL_3_DENSE_W30_H7': model_3_results,\n",
        "                              'MODEL_4_Conv1D': model_4_results,\n",
        "                              'MODEL_5_LSTM': model_5_results,\n",
        "                              'MODEL_6_MULTIVARIATE': model_6_results,\n",
        "                              'MODEL_7_NBEATS': model_7_results,\n",
        "                              'MODEL_8_ENSEMBLE': model_8_results,\n",
        "                              'MODDEL_10_TURKEY': turkey_results}).T\n",
        "model_results.head(10)"
      ],
      "metadata": {
        "id": "svAd-5e96jS5"
      },
      "execution_count": null,
      "outputs": []
    },
    {
      "cell_type": "code",
      "source": [
        "# Sorting model_results By MAE And Plotting Them\n",
        "model_results[['mae']].sort_values(by='mae').plot(figsize=(10, 7), kind='bar');"
      ],
      "metadata": {
        "id": "UKuMUAVy8NGM"
      },
      "execution_count": null,
      "outputs": []
    },
    {
      "cell_type": "code",
      "source": [],
      "metadata": {
        "id": "aNiLkPSR81y8"
      },
      "execution_count": null,
      "outputs": []
    }
  ],
  "metadata": {
    "accelerator": "GPU",
    "colab": {
      "collapsed_sections": [
        "rvppFeGx4RN-",
        "BSb4fkPu7OPQ"
      ],
      "provenance": []
    },
    "gpuClass": "standard",
    "kernelspec": {
      "display_name": "Python 3",
      "name": "python3"
    },
    "language_info": {
      "name": "python"
    }
  },
  "nbformat": 4,
  "nbformat_minor": 0
}
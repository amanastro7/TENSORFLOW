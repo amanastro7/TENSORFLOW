{
  "nbformat": 4,
  "nbformat_minor": 0,
  "metadata": {
    "colab": {
      "name": "Transfer_Learning_With_TensorFlow_1 : FeatureExtraction.ipynb",
      "provenance": [],
      "toc_visible": true
    },
    "kernelspec": {
      "name": "python3",
      "display_name": "Python 3"
    },
    "language_info": {
      "name": "python"
    },
    "accelerator": "GPU",
    "gpuClass": "standard"
  },
  "cells": [
    {
      "cell_type": "markdown",
      "source": [
        "## TRANSFER LEARNING WITH TENSORFLOW PART 1 : FEATURE EXTRACTION"
      ],
      "metadata": {
        "id": "W-nKWhAZLCmG"
      }
    },
    {
      "cell_type": "code",
      "source": [
        "!nvidia-smi"
      ],
      "metadata": {
        "colab": {
          "base_uri": "https://localhost:8080/"
        },
        "id": "gl5NQJzgN6CG",
        "outputId": "13a32957-e3f6-44f1-c6d8-5d4a0ba3daaf"
      },
      "execution_count": null,
      "outputs": [
        {
          "output_type": "stream",
          "name": "stdout",
          "text": [
            "Fri Jul 22 04:45:02 2022       \n",
            "+-----------------------------------------------------------------------------+\n",
            "| NVIDIA-SMI 460.32.03    Driver Version: 460.32.03    CUDA Version: 11.2     |\n",
            "|-------------------------------+----------------------+----------------------+\n",
            "| GPU  Name        Persistence-M| Bus-Id        Disp.A | Volatile Uncorr. ECC |\n",
            "| Fan  Temp  Perf  Pwr:Usage/Cap|         Memory-Usage | GPU-Util  Compute M. |\n",
            "|                               |                      |               MIG M. |\n",
            "|===============================+======================+======================|\n",
            "|   0  Tesla T4            Off  | 00000000:00:04.0 Off |                    0 |\n",
            "| N/A   52C    P8    10W /  70W |      0MiB / 15109MiB |      0%      Default |\n",
            "|                               |                      |                  N/A |\n",
            "+-------------------------------+----------------------+----------------------+\n",
            "                                                                               \n",
            "+-----------------------------------------------------------------------------+\n",
            "| Processes:                                                                  |\n",
            "|  GPU   GI   CI        PID   Type   Process name                  GPU Memory |\n",
            "|        ID   ID                                                   Usage      |\n",
            "|=============================================================================|\n",
            "|  No running processes found                                                 |\n",
            "+-----------------------------------------------------------------------------+\n"
          ]
        }
      ]
    },
    {
      "cell_type": "markdown",
      "source": [
        "##DOWNLOADING AND BECOMING ONE WITH THE DATA"
      ],
      "metadata": {
        "id": "9PGnscrDOSGv"
      }
    },
    {
      "cell_type": "code",
      "source": [
        "# Getting Data\n",
        "import zipfile\n",
        "\n",
        "# Downloading The Data\n",
        "!wget https://storage.googleapis.com/ztm_tf_course/food_vision/10_food_classes_10_percent.zip\n",
        "\n",
        "# Unzipping The Downloaded File\n",
        "zip_ref = zipfile.ZipFile('10_food_classes_10_percent.zip')\n",
        "zip_ref.extractall()\n",
        "zip_ref.close()"
      ],
      "metadata": {
        "colab": {
          "base_uri": "https://localhost:8080/"
        },
        "id": "yfRK8Tz4ObyA",
        "outputId": "622675cb-a81e-455a-a845-446e5a724226"
      },
      "execution_count": null,
      "outputs": [
        {
          "output_type": "stream",
          "name": "stdout",
          "text": [
            "--2022-07-22 04:51:45--  https://storage.googleapis.com/ztm_tf_course/food_vision/10_food_classes_10_percent.zip\n",
            "Resolving storage.googleapis.com (storage.googleapis.com)... 173.194.210.128, 173.194.212.128, 173.194.215.128, ...\n",
            "Connecting to storage.googleapis.com (storage.googleapis.com)|173.194.210.128|:443... connected.\n",
            "HTTP request sent, awaiting response... 200 OK\n",
            "Length: 168546183 (161M) [application/zip]\n",
            "Saving to: ‘10_food_classes_10_percent.zip’\n",
            "\n",
            "10_food_classes_10_ 100%[===================>] 160.74M   293MB/s    in 0.5s    \n",
            "\n",
            "2022-07-22 04:51:46 (293 MB/s) - ‘10_food_classes_10_percent.zip’ saved [168546183/168546183]\n",
            "\n"
          ]
        }
      ]
    },
    {
      "cell_type": "code",
      "source": [
        "import os\n",
        "\n",
        "for dirpath, dirnames, filenames in os.walk('10_food_classes_10_percent'):\n",
        "  print(f\"THERE ARE {len(dirnames)} DIRECTORIES AND {len(filenames)} IMAGES IN '{dirpath}'.\")"
      ],
      "metadata": {
        "colab": {
          "base_uri": "https://localhost:8080/"
        },
        "id": "fAtBI9XhP06T",
        "outputId": "b17810f1-9a1f-43a7-9d52-a84109fb2e45"
      },
      "execution_count": null,
      "outputs": [
        {
          "output_type": "stream",
          "name": "stdout",
          "text": [
            "THERE ARE 2 DIRECTORIES AND 0 IMAGES IN '10_food_classes_10_percent'.\n",
            "THERE ARE 10 DIRECTORIES AND 0 IMAGES IN '10_food_classes_10_percent/train'.\n",
            "THERE ARE 0 DIRECTORIES AND 75 IMAGES IN '10_food_classes_10_percent/train/hamburger'.\n",
            "THERE ARE 0 DIRECTORIES AND 75 IMAGES IN '10_food_classes_10_percent/train/ice_cream'.\n",
            "THERE ARE 0 DIRECTORIES AND 75 IMAGES IN '10_food_classes_10_percent/train/fried_rice'.\n",
            "THERE ARE 0 DIRECTORIES AND 75 IMAGES IN '10_food_classes_10_percent/train/grilled_salmon'.\n",
            "THERE ARE 0 DIRECTORIES AND 75 IMAGES IN '10_food_classes_10_percent/train/ramen'.\n",
            "THERE ARE 0 DIRECTORIES AND 75 IMAGES IN '10_food_classes_10_percent/train/chicken_curry'.\n",
            "THERE ARE 0 DIRECTORIES AND 75 IMAGES IN '10_food_classes_10_percent/train/pizza'.\n",
            "THERE ARE 0 DIRECTORIES AND 75 IMAGES IN '10_food_classes_10_percent/train/steak'.\n",
            "THERE ARE 0 DIRECTORIES AND 75 IMAGES IN '10_food_classes_10_percent/train/chicken_wings'.\n",
            "THERE ARE 0 DIRECTORIES AND 75 IMAGES IN '10_food_classes_10_percent/train/sushi'.\n",
            "THERE ARE 10 DIRECTORIES AND 0 IMAGES IN '10_food_classes_10_percent/test'.\n",
            "THERE ARE 0 DIRECTORIES AND 250 IMAGES IN '10_food_classes_10_percent/test/hamburger'.\n",
            "THERE ARE 0 DIRECTORIES AND 250 IMAGES IN '10_food_classes_10_percent/test/ice_cream'.\n",
            "THERE ARE 0 DIRECTORIES AND 250 IMAGES IN '10_food_classes_10_percent/test/fried_rice'.\n",
            "THERE ARE 0 DIRECTORIES AND 250 IMAGES IN '10_food_classes_10_percent/test/grilled_salmon'.\n",
            "THERE ARE 0 DIRECTORIES AND 250 IMAGES IN '10_food_classes_10_percent/test/ramen'.\n",
            "THERE ARE 0 DIRECTORIES AND 250 IMAGES IN '10_food_classes_10_percent/test/chicken_curry'.\n",
            "THERE ARE 0 DIRECTORIES AND 250 IMAGES IN '10_food_classes_10_percent/test/pizza'.\n",
            "THERE ARE 0 DIRECTORIES AND 250 IMAGES IN '10_food_classes_10_percent/test/steak'.\n",
            "THERE ARE 0 DIRECTORIES AND 250 IMAGES IN '10_food_classes_10_percent/test/chicken_wings'.\n",
            "THERE ARE 0 DIRECTORIES AND 250 IMAGES IN '10_food_classes_10_percent/test/sushi'.\n"
          ]
        }
      ]
    },
    {
      "cell_type": "markdown",
      "source": [
        "##CREATING DATA LOADERS (PREPARING THE DATA)"
      ],
      "metadata": {
        "id": "f-gwGtI3Q8tm"
      }
    },
    {
      "cell_type": "code",
      "source": [
        "from tensorflow.keras.preprocessing.image import ImageDataGenerator\n",
        "\n",
        "IMAGE_SHAPE = (224, 224)\n",
        "BATCH_SIZE = 32\n",
        "\n",
        "\n",
        "train_dir = '10_food_classes_10_percent/train/'\n",
        "test_dir = '10_food_classes_10_percent/test/'\n",
        "\n",
        "train_datagen = ImageDataGenerator(rescale=1/225.)\n",
        "test_datagen = ImageDataGenerator(rescale=1/225.)\n",
        "\n",
        "print('TRAINING IMAGES:')\n",
        "train_data_10percent = train_datagen.flow_from_directory(train_dir,\n",
        "                                                         target_size=IMAGE_SHAPE,\n",
        "                                                         batch_size=BATCH_SIZE,\n",
        "                                                         class_mode='categorical')\n",
        "\n",
        "print('TEST IMAGES')\n",
        "test_data_10percent = test_datagen.flow_from_directory(test_dir,\n",
        "                                                       target_size=IMAGE_SHAPE,\n",
        "                                                       batch_size=BATCH_SIZE,\n",
        "                                                       class_mode='categorical')\n"
      ],
      "metadata": {
        "colab": {
          "base_uri": "https://localhost:8080/"
        },
        "id": "H-oJX_RwR_BN",
        "outputId": "7ad5c70a-babe-4589-86c9-dac5f4d9e272"
      },
      "execution_count": null,
      "outputs": [
        {
          "output_type": "stream",
          "name": "stdout",
          "text": [
            "TRAINING IMAGES:\n",
            "Found 750 images belonging to 10 classes.\n",
            "TEST IMAGES\n",
            "Found 2500 images belonging to 10 classes.\n"
          ]
        }
      ]
    },
    {
      "cell_type": "markdown",
      "source": [
        "##SETTING UP CALLBACKS (THINGS TO RUN WHILST OUR MODEL TRAINS)"
      ],
      "metadata": {
        "id": "6j3p8ZV3Umpq"
      }
    },
    {
      "cell_type": "code",
      "source": [
        "# Creating TensorBoard Callback Function(Functionized Because We Need To Create A New One For Each Model)\n",
        "import datetime\n",
        "\n",
        "def create_tensorboard_callback(dir_name, experiment_name):\n",
        "  log_dir = dir_name + '/' + experiment_name + '/' + datetime.datetime.now().strftime('%Y%m%d-%H%M%S')\n",
        "  tensorboard_callback = tf.keras.callbacks.TensorBoard(log_dir=log_dir)\n",
        "  print(f'SAVING TENSORBOARD LOG FILES TO: {log_dir}')\n",
        "  return tensorboard_callback"
      ],
      "metadata": {
        "id": "I--kOsUtVDJ4"
      },
      "execution_count": null,
      "outputs": []
    },
    {
      "cell_type": "markdown",
      "source": [
        "##CREATING MODELS USING TENSORFLOW HUB"
      ],
      "metadata": {
        "id": "X2Cls0vnZZkx"
      }
    },
    {
      "cell_type": "code",
      "source": [
        "# Let's Compare The Following Two Models\n",
        "resnet_url = 'https://tfhub.dev/google/imagenet/resnet_v2_50/feature_vector/4'\n",
        "\n",
        "efficientnet_url = 'https://tfhub.dev/tensorflow/efficientnet/b0/feature-vector/1'"
      ],
      "metadata": {
        "id": "mm-q6cwbZqcG"
      },
      "execution_count": null,
      "outputs": []
    },
    {
      "cell_type": "code",
      "source": [
        "import tensorflow as tf\n",
        "import tensorflow_hub as hub\n",
        "from tensorflow.keras import layers\n",
        "\n",
        "# Making A create_model() function To Create A Model From A URL\n",
        "def create_model(model_url, num_classes=10):\n",
        "  \"\"\"\n",
        "  Takes A TensorFlow Hub URL And Creates A Keras Sequential Model With It\n",
        "\n",
        "  Args:\n",
        "    model_url (str): A TensorFlow Hub feature extraction URL\n",
        "    num_classes (int): Number Of Output Neurons In The Output Layer\n",
        "\n",
        "  Returns:\n",
        "    An Uncompiled Keras Sequential Model With model_url As Feature Extractor Layer\n",
        "    And Dense Output layer With num_classes Output Neurons.\n",
        "  \"\"\"\n",
        "  # Downloading The PreTrained Model And Saving It As A Keras Layer\n",
        "  feature_extractor_layer = hub.KerasLayer(model_url,\n",
        "                                           trainable=False,\n",
        "                                           name='feature_extraction_layer',\n",
        "                                           input_shape=IMAGE_SHAPE+(3,))\n",
        "  \n",
        "  # Creating our Sequential Model\n",
        "  model = tf.keras.Sequential([\n",
        "       feature_extractor_layer,\n",
        "       layers.Dense(num_classes, activation='softmax', name='output_layer')                       \n",
        "  ])\n",
        "\n",
        "  return model"
      ],
      "metadata": {
        "id": "3mxx_SY6c2po"
      },
      "execution_count": null,
      "outputs": []
    },
    {
      "cell_type": "markdown",
      "source": [
        "##CREATING AND TESTING ResNet TENSORFLOW HUB FEATURE EXTRACTION MODEL"
      ],
      "metadata": {
        "id": "lEKbV3NFh6yB"
      }
    },
    {
      "cell_type": "code",
      "source": [
        "# Creating Resnet Model\n",
        "resnet_model = create_model(resnet_url,\n",
        "                            num_classes=train_data_10percent.num_classes)"
      ],
      "metadata": {
        "id": "3F_SFfATiE48"
      },
      "execution_count": null,
      "outputs": []
    },
    {
      "cell_type": "code",
      "source": [
        "# Compiling Our Resnet Model\n",
        "resnet_model.compile(loss=tf.keras.losses.CategoricalCrossentropy(),\n",
        "                     optimizer=tf.keras.optimizers.Adam(),\n",
        "                     metrics=['accuracy'])\n",
        "# Fitting The Model\n",
        "resnet_history = resnet_model.fit(train_data_10percent,\n",
        "                               epochs=5,\n",
        "                               steps_per_epoch=len(train_data_10percent),\n",
        "                               validation_data=test_data_10percent,\n",
        "                               validation_steps=len(test_data_10percent),\n",
        "                               callbacks=[create_tensorboard_callback(dir_name='tensorflow_hub',\n",
        "                                                                      experiment_name='resnet50V2'\n",
        "                                                                      )])"
      ],
      "metadata": {
        "colab": {
          "base_uri": "https://localhost:8080/"
        },
        "id": "OMrvwvqYjouQ",
        "outputId": "46d9c8e6-81cd-45d2-f84d-d6ac7268ef9a"
      },
      "execution_count": null,
      "outputs": [
        {
          "output_type": "stream",
          "name": "stdout",
          "text": [
            "SAVING TENSORBOARD LOG FILES TO: tensorflow_hub/resnet50V2/20220722-062700\n",
            "Epoch 1/5\n",
            "24/24 [==============================] - 32s 743ms/step - loss: 1.8096 - accuracy: 0.3987 - val_loss: 1.1815 - val_accuracy: 0.6152\n",
            "Epoch 2/5\n",
            "24/24 [==============================] - 16s 670ms/step - loss: 0.8600 - accuracy: 0.7427 - val_loss: 0.8668 - val_accuracy: 0.7244\n",
            "Epoch 3/5\n",
            "24/24 [==============================] - 16s 699ms/step - loss: 0.5888 - accuracy: 0.8320 - val_loss: 0.7539 - val_accuracy: 0.7520\n",
            "Epoch 4/5\n",
            "24/24 [==============================] - 16s 667ms/step - loss: 0.4591 - accuracy: 0.8733 - val_loss: 0.7004 - val_accuracy: 0.7728\n",
            "Epoch 5/5\n",
            "24/24 [==============================] - 16s 665ms/step - loss: 0.3637 - accuracy: 0.9147 - val_loss: 0.6824 - val_accuracy: 0.7692\n"
          ]
        }
      ]
    },
    {
      "cell_type": "markdown",
      "source": [
        "##CREATING A FUNCTION TO PLOT LOSS CURVES"
      ],
      "metadata": {
        "id": "kQiTU3wijR_y"
      }
    },
    {
      "cell_type": "code",
      "source": [
        "import matplotlib.pyplot as plt\n",
        "\n",
        "# Plotting The Validation And Training Curves\n",
        "def plot_loss_curves(history):\n",
        "  \"\"\"\n",
        "  RETURNS SEPARATE LOSS CURVES FOR TRAINING AND VALIDATION METRICS.\n",
        "\n",
        "  Args:\n",
        "    history: TensorFlow History Object.\n",
        "\n",
        "  Returns:\n",
        "    Plots Of Training/Validation Loss And Accuracy Metrics\n",
        "  \"\"\"\n",
        "  loss = history.history['loss']\n",
        "  val_loss = history.history['val_loss']\n",
        "\n",
        "  accuracy = history.history['accuracy']\n",
        "  val_accuracy = history.history['val_accuracy']\n",
        "\n",
        "  epochs = range(len(history.history['loss']))\n",
        "\n",
        "  # Plotting Loss\n",
        "  plt.plot(epochs, loss, label='TRAINING_LOSS')\n",
        "  plt.plot(epochs, val_loss, label='VAL_LOSS')\n",
        "  plt.title('LOSS')\n",
        "  plt.legend()\n",
        "\n",
        "  # Plotting Accuracy\n",
        "  plt.figure()\n",
        "  plt.plot(epochs, accuracy, label='TRAINING_ACCURACY')\n",
        "  plt.plot(epochs, val_accuracy, label='VAL_ACCURACY')\n",
        "  plt.title('ACCURACY')\n",
        "  plt.xlabel('EPOCHS')\n",
        "  plt.legend();"
      ],
      "metadata": {
        "id": "x4YLuxM6m8UH"
      },
      "execution_count": null,
      "outputs": []
    },
    {
      "cell_type": "code",
      "source": [
        "plot_loss_curves(resnet_history)"
      ],
      "metadata": {
        "colab": {
          "base_uri": "https://localhost:8080/",
          "height": 559
        },
        "id": "DQqVna2dpdPB",
        "outputId": "556ef8ce-ae0f-476a-8361-7ee27a37161a"
      },
      "execution_count": null,
      "outputs": [
        {
          "output_type": "display_data",
          "data": {
            "text/plain": [
              "<Figure size 432x288 with 1 Axes>"
            ],
            "image/png": "[encoded data removed]"
          },
          "metadata": {
            "needs_background": "light"
          }
        },
        {
          "output_type": "display_data",
          "data": {
            "text/plain": [
              "<Figure size 432x288 with 1 Axes>"
            ],
            "image/png": "[encoded data removed]"
          },
          "metadata": {
            "needs_background": "light"
          }
        }
      ]
    },
    {
      "cell_type": "code",
      "source": [],
      "metadata": {
        "id": "x1uiL2Ugpm4o"
      },
      "execution_count": null,
      "outputs": []
    },
    {
      "cell_type": "markdown",
      "source": [
        "##CREATING AND TESTING EfficientNet80 TENSORFLOW HUB FEATURE EXTRACTION MODEL"
      ],
      "metadata": {
        "id": "Rghvj7rKqbKd"
      }
    },
    {
      "cell_type": "code",
      "source": [
        "# Creating EfficientNetB0 Feature Extractor Model\n",
        "efficientnet_model = create_model(model_url=efficientnet_url,\n",
        "                                  num_classes=train_data_10percent.num_classes)\n",
        "\n",
        "# Compiling The Model\n",
        "efficientnet_model.compile(loss=tf.keras.losses.CategoricalCrossentropy(),\n",
        "                           optimizer=tf.keras.optimizers.Adam(),\n",
        "                           metrics=['accuracy'])\n",
        "# Fitting The Model\n",
        "efficientnet_history = efficientnet_model.fit(train_data_10percent,\n",
        "                                          epochs=5,\n",
        "                                          steps_per_epoch=len(train_data_10percent),\n",
        "                                          validation_data=test_data_10percent,\n",
        "                                          validation_steps=len(test_data_10percent),\n",
        "                                          callbacks=[create_tensorboard_callback(dir_name='tensorflow_hub',\n",
        "                                                                                 experiment_name='efficientnetB0')])"
      ],
      "metadata": {
        "colab": {
          "base_uri": "https://localhost:8080/"
        },
        "id": "tF6lIrIJqhso",
        "outputId": "9db2c325-67e3-4d09-e5ef-68fdf4ca926e"
      },
      "execution_count": null,
      "outputs": [
        {
          "output_type": "stream",
          "name": "stdout",
          "text": [
            "SAVING TENSORBOARD LOG FILES TO: tensorflow_hub/efficientnetB0/20220722-070454\n",
            "Epoch 1/5\n",
            "24/24 [==============================] - 26s 710ms/step - loss: 1.8246 - accuracy: 0.4360 - val_loss: 1.3222 - val_accuracy: 0.7100\n",
            "Epoch 2/5\n",
            "24/24 [==============================] - 16s 678ms/step - loss: 1.0864 - accuracy: 0.7587 - val_loss: 0.9057 - val_accuracy: 0.8016\n",
            "Epoch 3/5\n",
            "24/24 [==============================] - 15s 645ms/step - loss: 0.7848 - accuracy: 0.8267 - val_loss: 0.7341 - val_accuracy: 0.8312\n",
            "Epoch 4/5\n",
            "24/24 [==============================] - 15s 641ms/step - loss: 0.6308 - accuracy: 0.8600 - val_loss: 0.6419 - val_accuracy: 0.8480\n",
            "Epoch 5/5\n",
            "24/24 [==============================] - 15s 638ms/step - loss: 0.5340 - accuracy: 0.8813 - val_loss: 0.5878 - val_accuracy: 0.8532\n"
          ]
        }
      ]
    },
    {
      "cell_type": "code",
      "source": [
        "plot_loss_curves(efficientnet_history)"
      ],
      "metadata": {
        "colab": {
          "base_uri": "https://localhost:8080/",
          "height": 559
        },
        "id": "kDk6afkxtLtv",
        "outputId": "4dcee98c-d96c-4707-9056-7af3e47e22b3"
      },
      "execution_count": null,
      "outputs": [
        {
          "output_type": "display_data",
          "data": {
            "text/plain": [
              "<Figure size 432x288 with 1 Axes>"
            ],
            "image/png": "[encoded data removed]"
          },
          "metadata": {
            "needs_background": "light"
          }
        },
        {
          "output_type": "display_data",
          "data": {
            "text/plain": [
              "<Figure size 432x288 with 1 Axes>"
            ],
            "image/png": "[encoded data removed]"
          },
          "metadata": {
            "needs_background": "light"
          }
        }
      ]
    },
    {
      "cell_type": "code",
      "source": [
        "efficientnet_model.summary()"
      ],
      "metadata": {
        "colab": {
          "base_uri": "https://localhost:8080/"
        },
        "id": "o1r29u42u_-G",
        "outputId": "c4d46e67-cc1e-4567-ce5c-1c5189dc52a7"
      },
      "execution_count": null,
      "outputs": [
        {
          "output_type": "stream",
          "name": "stdout",
          "text": [
            "Model: \"sequential_6\"\n",
            "_________________________________________________________________\n",
            " Layer (type)                Output Shape              Param #   \n",
            "=================================================================\n",
            " feature_extraction_layer (K  (None, 1280)             4049564   \n",
            " erasLayer)                                                      \n",
            "                                                                 \n",
            " output_layer (Dense)        (None, 10)                12810     \n",
            "                                                                 \n",
            "=================================================================\n",
            "Total params: 4,062,374\n",
            "Trainable params: 12,810\n",
            "Non-trainable params: 4,049,564\n",
            "_________________________________________________________________\n"
          ]
        }
      ]
    },
    {
      "cell_type": "markdown",
      "source": [
        "##COMPARING OUR MODELS USING TENSORBOARD"
      ],
      "metadata": {
        "id": "GOFSGqIbvciB"
      }
    },
    {
      "cell_type": "code",
      "source": [
        "# Uploading TensorBoard dev records\n",
        "!tensorboard dev upload --logdir ./tensorflow_hub/ \\\n",
        "  --name \"EfficientnetB0 Vs. ResNet50V2\" \\\n",
        "  --description 'COMPARING TWO DIFFERENT TFHub FEATURE EXTRACTION MODEL ARCHITECTURES USING 10% OF THE TRAINING DATA' \\\n",
        "  --one_shot"
      ],
      "metadata": {
        "id": "9AQ8EsFoyFjx"
      },
      "execution_count": null,
      "outputs": []
    },
    {
      "cell_type": "markdown",
      "source": [
        "My TensorBoard Link : https://tensorboard.dev/experiment/6Qs88iV1SaGpJbHX23Ngpw/"
      ],
      "metadata": {
        "id": "JxhhTsGTz0CM"
      }
    },
    {
      "cell_type": "code",
      "source": [
        "# Checking What TensorBoard Experiments We Have\n",
        "!tensorboard dev list"
      ],
      "metadata": {
        "colab": {
          "base_uri": "https://localhost:8080/"
        },
        "id": "KM2xe38F1rbw",
        "outputId": "73bfd222-df10-4130-b111-07b58f55774c"
      },
      "execution_count": null,
      "outputs": [
        {
          "output_type": "stream",
          "name": "stdout",
          "text": [
            "https://tensorboard.dev/experiment/6Qs88iV1SaGpJbHX23Ngpw/\n",
            "\tName                 EfficientnetB0 Vs. ResNet50V2\n",
            "\tDescription          COMPARING TWO DIFFERENT TFHub FEATURE EXTRACTION MODEL ARCHITECTURES USING 10% OF THE TRAINING DATA\n",
            "\tId                   6Qs88iV1SaGpJbHX23Ngpw\n",
            "\tCreated              2022-07-22 07:31:01 (7 minutes ago)\n",
            "\tUpdated              2022-07-22 07:31:03 (7 minutes ago)\n",
            "\tRuns                 4\n",
            "\tTags                 5\n",
            "\tScalars              60\n",
            "\tTensor bytes         0\n",
            "\tBinary object bytes  5924914\n",
            "Total: 1 experiment(s)\n"
          ]
        }
      ]
    }
  ]
}